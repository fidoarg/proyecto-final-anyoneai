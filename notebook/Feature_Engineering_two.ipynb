{
 "cells": [
  {
   "cell_type": "code",
   "execution_count": 1,
   "metadata": {},
   "outputs": [],
   "source": [
    "import os\n",
    "import pandas as pd\n",
    "import numpy  as np\n",
    "import warnings\n",
    "warnings.filterwarnings('ignore')"
   ]
  },
  {
   "cell_type": "code",
   "execution_count": 3,
   "metadata": {},
   "outputs": [],
   "source": [
    "DATA_REPOSITORY= '../data'\n",
    "RAW_DATA_FILENAME= 'raw_modeling_data.csv'\n",
    "RAW_DATA_PATH= os.path.join(\n",
    "    DATA_REPOSITORY,\n",
    "    RAW_DATA_FILENAME\n",
    ")"
   ]
  },
  {
   "cell_type": "markdown",
   "metadata": {},
   "source": [
    "# Feature Engineering"
   ]
  },
  {
   "cell_type": "code",
   "execution_count": 6,
   "metadata": {},
   "outputs": [],
   "source": [
    "raw_modeling_data= pd.read_csv(\n",
    "    filepath_or_buffer= RAW_DATA_PATH,\n",
    "    index_col= 'ID_CLIENT',\n",
    "    header= 0\n",
    ")"
   ]
  },
  {
   "cell_type": "code",
   "execution_count": 8,
   "metadata": {},
   "outputs": [
    {
     "data": {
      "text/html": [
       "<div>\n",
       "<style scoped>\n",
       "    .dataframe tbody tr th:only-of-type {\n",
       "        vertical-align: middle;\n",
       "    }\n",
       "\n",
       "    .dataframe tbody tr th {\n",
       "        vertical-align: top;\n",
       "    }\n",
       "\n",
       "    .dataframe thead th {\n",
       "        text-align: right;\n",
       "    }\n",
       "</style>\n",
       "<table border=\"1\" class=\"dataframe\">\n",
       "  <thead>\n",
       "    <tr style=\"text-align: right;\">\n",
       "      <th></th>\n",
       "      <th>PAYMENT_DAY</th>\n",
       "      <th>APPLICATION_SUBMISSION_TYPE</th>\n",
       "      <th>POSTAL_ADDRESS_TYPE</th>\n",
       "      <th>SEX</th>\n",
       "      <th>MARITAL_STATUS</th>\n",
       "      <th>QUANT_DEPENDANTS</th>\n",
       "      <th>STATE_OF_BIRTH</th>\n",
       "      <th>NACIONALITY</th>\n",
       "      <th>RESIDENCIAL_STATE</th>\n",
       "      <th>FLAG_RESIDENCIAL_PHONE</th>\n",
       "      <th>...</th>\n",
       "      <th>COMPANY</th>\n",
       "      <th>PROFESSIONAL_STATE</th>\n",
       "      <th>FLAG_PROFESSIONAL_PHONE</th>\n",
       "      <th>PROFESSIONAL_PHONE_AREA_CODE</th>\n",
       "      <th>MONTHS_IN_THE_JOB</th>\n",
       "      <th>PROFESSION_CODE</th>\n",
       "      <th>OCCUPATION_TYPE</th>\n",
       "      <th>PRODUCT</th>\n",
       "      <th>AGE</th>\n",
       "      <th>TARGET_LABEL_BAD=1</th>\n",
       "    </tr>\n",
       "    <tr>\n",
       "      <th>ID_CLIENT</th>\n",
       "      <th></th>\n",
       "      <th></th>\n",
       "      <th></th>\n",
       "      <th></th>\n",
       "      <th></th>\n",
       "      <th></th>\n",
       "      <th></th>\n",
       "      <th></th>\n",
       "      <th></th>\n",
       "      <th></th>\n",
       "      <th></th>\n",
       "      <th></th>\n",
       "      <th></th>\n",
       "      <th></th>\n",
       "      <th></th>\n",
       "      <th></th>\n",
       "      <th></th>\n",
       "      <th></th>\n",
       "      <th></th>\n",
       "      <th></th>\n",
       "      <th></th>\n",
       "    </tr>\n",
       "  </thead>\n",
       "  <tbody>\n",
       "    <tr>\n",
       "      <th>40269</th>\n",
       "      <td>25</td>\n",
       "      <td>Web</td>\n",
       "      <td>1</td>\n",
       "      <td>F</td>\n",
       "      <td>1.0</td>\n",
       "      <td>3</td>\n",
       "      <td>AM</td>\n",
       "      <td>1</td>\n",
       "      <td>AM</td>\n",
       "      <td>Y</td>\n",
       "      <td>...</td>\n",
       "      <td>N</td>\n",
       "      <td>NO_JOB</td>\n",
       "      <td>N</td>\n",
       "      <td>NO_DATA</td>\n",
       "      <td>0</td>\n",
       "      <td>NaN</td>\n",
       "      <td>NaN</td>\n",
       "      <td>1</td>\n",
       "      <td>30</td>\n",
       "      <td>0</td>\n",
       "    </tr>\n",
       "    <tr>\n",
       "      <th>35821</th>\n",
       "      <td>10</td>\n",
       "      <td>NaN</td>\n",
       "      <td>1</td>\n",
       "      <td>M</td>\n",
       "      <td>2.0</td>\n",
       "      <td>8</td>\n",
       "      <td>PA</td>\n",
       "      <td>1</td>\n",
       "      <td>PA</td>\n",
       "      <td>Y</td>\n",
       "      <td>...</td>\n",
       "      <td>N</td>\n",
       "      <td>NO_JOB</td>\n",
       "      <td>N</td>\n",
       "      <td>NO_DATA</td>\n",
       "      <td>0</td>\n",
       "      <td>0.0</td>\n",
       "      <td>1.0</td>\n",
       "      <td>1</td>\n",
       "      <td>65</td>\n",
       "      <td>0</td>\n",
       "    </tr>\n",
       "    <tr>\n",
       "      <th>39740</th>\n",
       "      <td>15</td>\n",
       "      <td>Web</td>\n",
       "      <td>1</td>\n",
       "      <td>M</td>\n",
       "      <td>2.0</td>\n",
       "      <td>0</td>\n",
       "      <td>SP</td>\n",
       "      <td>1</td>\n",
       "      <td>SP</td>\n",
       "      <td>Y</td>\n",
       "      <td>...</td>\n",
       "      <td>Y</td>\n",
       "      <td>NO_JOB</td>\n",
       "      <td>N</td>\n",
       "      <td>NO_DATA</td>\n",
       "      <td>0</td>\n",
       "      <td>9.0</td>\n",
       "      <td>1.0</td>\n",
       "      <td>1</td>\n",
       "      <td>77</td>\n",
       "      <td>0</td>\n",
       "    </tr>\n",
       "    <tr>\n",
       "      <th>10888</th>\n",
       "      <td>20</td>\n",
       "      <td>Web</td>\n",
       "      <td>1</td>\n",
       "      <td>F</td>\n",
       "      <td>6.0</td>\n",
       "      <td>1</td>\n",
       "      <td>PR</td>\n",
       "      <td>1</td>\n",
       "      <td>PR</td>\n",
       "      <td>Y</td>\n",
       "      <td>...</td>\n",
       "      <td>Y</td>\n",
       "      <td>NO_JOB</td>\n",
       "      <td>N</td>\n",
       "      <td>NO_DATA</td>\n",
       "      <td>0</td>\n",
       "      <td>11.0</td>\n",
       "      <td>2.0</td>\n",
       "      <td>1</td>\n",
       "      <td>30</td>\n",
       "      <td>0</td>\n",
       "    </tr>\n",
       "    <tr>\n",
       "      <th>9705</th>\n",
       "      <td>10</td>\n",
       "      <td>NaN</td>\n",
       "      <td>1</td>\n",
       "      <td>M</td>\n",
       "      <td>3.0</td>\n",
       "      <td>0</td>\n",
       "      <td>RJ</td>\n",
       "      <td>1</td>\n",
       "      <td>SP</td>\n",
       "      <td>Y</td>\n",
       "      <td>...</td>\n",
       "      <td>N</td>\n",
       "      <td>NO_JOB</td>\n",
       "      <td>N</td>\n",
       "      <td>NO_DATA</td>\n",
       "      <td>0</td>\n",
       "      <td>9.0</td>\n",
       "      <td>2.0</td>\n",
       "      <td>1</td>\n",
       "      <td>71</td>\n",
       "      <td>0</td>\n",
       "    </tr>\n",
       "  </tbody>\n",
       "</table>\n",
       "<p>5 rows × 33 columns</p>\n",
       "</div>"
      ],
      "text/plain": [
       "           PAYMENT_DAY APPLICATION_SUBMISSION_TYPE  POSTAL_ADDRESS_TYPE SEX  \\\n",
       "ID_CLIENT                                                                     \n",
       "40269               25                         Web                    1   F   \n",
       "35821               10                         NaN                    1   M   \n",
       "39740               15                         Web                    1   M   \n",
       "10888               20                         Web                    1   F   \n",
       "9705                10                         NaN                    1   M   \n",
       "\n",
       "           MARITAL_STATUS  QUANT_DEPENDANTS STATE_OF_BIRTH  NACIONALITY  \\\n",
       "ID_CLIENT                                                                 \n",
       "40269                 1.0                 3             AM            1   \n",
       "35821                 2.0                 8             PA            1   \n",
       "39740                 2.0                 0             SP            1   \n",
       "10888                 6.0                 1             PR            1   \n",
       "9705                  3.0                 0             RJ            1   \n",
       "\n",
       "          RESIDENCIAL_STATE FLAG_RESIDENCIAL_PHONE  ... COMPANY  \\\n",
       "ID_CLIENT                                           ...           \n",
       "40269                    AM                      Y  ...       N   \n",
       "35821                    PA                      Y  ...       N   \n",
       "39740                    SP                      Y  ...       Y   \n",
       "10888                    PR                      Y  ...       Y   \n",
       "9705                     SP                      Y  ...       N   \n",
       "\n",
       "           PROFESSIONAL_STATE  FLAG_PROFESSIONAL_PHONE  \\\n",
       "ID_CLIENT                                                \n",
       "40269                  NO_JOB                        N   \n",
       "35821                  NO_JOB                        N   \n",
       "39740                  NO_JOB                        N   \n",
       "10888                  NO_JOB                        N   \n",
       "9705                   NO_JOB                        N   \n",
       "\n",
       "           PROFESSIONAL_PHONE_AREA_CODE  MONTHS_IN_THE_JOB  PROFESSION_CODE  \\\n",
       "ID_CLIENT                                                                     \n",
       "40269                           NO_DATA                  0              NaN   \n",
       "35821                           NO_DATA                  0              0.0   \n",
       "39740                           NO_DATA                  0              9.0   \n",
       "10888                           NO_DATA                  0             11.0   \n",
       "9705                            NO_DATA                  0              9.0   \n",
       "\n",
       "           OCCUPATION_TYPE  PRODUCT  AGE  TARGET_LABEL_BAD=1  \n",
       "ID_CLIENT                                                     \n",
       "40269                  NaN        1   30                   0  \n",
       "35821                  1.0        1   65                   0  \n",
       "39740                  1.0        1   77                   0  \n",
       "10888                  2.0        1   30                   0  \n",
       "9705                   2.0        1   71                   0  \n",
       "\n",
       "[5 rows x 33 columns]"
      ]
     },
     "execution_count": 8,
     "metadata": {},
     "output_type": "execute_result"
    }
   ],
   "source": [
    "raw_modeling_data.sample(5)"
   ]
  },
  {
   "cell_type": "code",
   "execution_count": 9,
   "metadata": {},
   "outputs": [],
   "source": [
    "def get_columns_metrics(df: pd.DataFrame, data_types: bool = True, unique_values: bool = True,null_values_q: bool = True, null_values_p: bool = True, numerator:int = None):\n",
    "    \n",
    "    df= df.copy()\n",
    "    objs= []\n",
    "    \n",
    "    if data_types:\n",
    "        col_dypes = df.dtypes\n",
    "        col_dypes.name= \"Data type\" if numerator is None else f\"Data type DF{numerator:02d}\"\n",
    "        objs.append(col_dypes)\n",
    "        \n",
    "    if unique_values:\n",
    "        col_n_unique_values= df.nunique()\n",
    "        col_n_unique_values.name= \"# Unique Values\" if numerator is None else f\"# Unique Values DF{numerator:02d}\"\n",
    "        objs.append(col_n_unique_values)\n",
    "\n",
    "    if null_values_q:\n",
    "        col_n_null_values= df.isna().sum()\n",
    "        col_n_null_values.name= \"# NULL Values\" if numerator is None else f\"# NULL Values DF{numerator:02d}\"\n",
    "        objs.append(col_n_null_values)\n",
    "        \n",
    "    if null_values_p:\n",
    "        col_per_null_values= np.round(df.isna().sum() / df.shape[0] * 100, 2)\n",
    "        col_per_null_values.name= \"% NULL Values\" if numerator is None else f\"% NULL Values DF{numerator:02d}\"\n",
    "        objs.append(col_per_null_values)\n",
    "    \n",
    "    output= pd.concat(\n",
    "        objs= objs, \n",
    "        axis= 1\n",
    "    )\n",
    "    \n",
    "    return output"
   ]
  },
  {
   "cell_type": "code",
   "execution_count": 11,
   "metadata": {},
   "outputs": [
    {
     "data": {
      "text/html": [
       "<div>\n",
       "<style scoped>\n",
       "    .dataframe tbody tr th:only-of-type {\n",
       "        vertical-align: middle;\n",
       "    }\n",
       "\n",
       "    .dataframe tbody tr th {\n",
       "        vertical-align: top;\n",
       "    }\n",
       "\n",
       "    .dataframe thead th {\n",
       "        text-align: right;\n",
       "    }\n",
       "</style>\n",
       "<table border=\"1\" class=\"dataframe\">\n",
       "  <thead>\n",
       "    <tr style=\"text-align: right;\">\n",
       "      <th></th>\n",
       "      <th>Data type</th>\n",
       "      <th># Unique Values</th>\n",
       "      <th># NULL Values</th>\n",
       "      <th>% NULL Values</th>\n",
       "    </tr>\n",
       "  </thead>\n",
       "  <tbody>\n",
       "    <tr>\n",
       "      <th>PAYMENT_DAY</th>\n",
       "      <td>int64</td>\n",
       "      <td>6</td>\n",
       "      <td>0</td>\n",
       "      <td>0.00</td>\n",
       "    </tr>\n",
       "    <tr>\n",
       "      <th>APPLICATION_SUBMISSION_TYPE</th>\n",
       "      <td>object</td>\n",
       "      <td>2</td>\n",
       "      <td>19461</td>\n",
       "      <td>38.92</td>\n",
       "    </tr>\n",
       "    <tr>\n",
       "      <th>POSTAL_ADDRESS_TYPE</th>\n",
       "      <td>int64</td>\n",
       "      <td>2</td>\n",
       "      <td>0</td>\n",
       "      <td>0.00</td>\n",
       "    </tr>\n",
       "    <tr>\n",
       "      <th>SEX</th>\n",
       "      <td>object</td>\n",
       "      <td>2</td>\n",
       "      <td>65</td>\n",
       "      <td>0.13</td>\n",
       "    </tr>\n",
       "    <tr>\n",
       "      <th>MARITAL_STATUS</th>\n",
       "      <td>float64</td>\n",
       "      <td>7</td>\n",
       "      <td>202</td>\n",
       "      <td>0.40</td>\n",
       "    </tr>\n",
       "    <tr>\n",
       "      <th>QUANT_DEPENDANTS</th>\n",
       "      <td>int64</td>\n",
       "      <td>17</td>\n",
       "      <td>0</td>\n",
       "      <td>0.00</td>\n",
       "    </tr>\n",
       "    <tr>\n",
       "      <th>STATE_OF_BIRTH</th>\n",
       "      <td>object</td>\n",
       "      <td>29</td>\n",
       "      <td>0</td>\n",
       "      <td>0.00</td>\n",
       "    </tr>\n",
       "    <tr>\n",
       "      <th>NACIONALITY</th>\n",
       "      <td>int64</td>\n",
       "      <td>3</td>\n",
       "      <td>0</td>\n",
       "      <td>0.00</td>\n",
       "    </tr>\n",
       "    <tr>\n",
       "      <th>RESIDENCIAL_STATE</th>\n",
       "      <td>object</td>\n",
       "      <td>27</td>\n",
       "      <td>0</td>\n",
       "      <td>0.00</td>\n",
       "    </tr>\n",
       "    <tr>\n",
       "      <th>FLAG_RESIDENCIAL_PHONE</th>\n",
       "      <td>object</td>\n",
       "      <td>2</td>\n",
       "      <td>0</td>\n",
       "      <td>0.00</td>\n",
       "    </tr>\n",
       "    <tr>\n",
       "      <th>RESIDENCIAL_PHONE_AREA_CODE</th>\n",
       "      <td>object</td>\n",
       "      <td>102</td>\n",
       "      <td>0</td>\n",
       "      <td>0.00</td>\n",
       "    </tr>\n",
       "    <tr>\n",
       "      <th>RESIDENCE_TYPE</th>\n",
       "      <td>float64</td>\n",
       "      <td>5</td>\n",
       "      <td>2109</td>\n",
       "      <td>4.22</td>\n",
       "    </tr>\n",
       "    <tr>\n",
       "      <th>MONTHS_IN_RESIDENCE</th>\n",
       "      <td>float64</td>\n",
       "      <td>88</td>\n",
       "      <td>3777</td>\n",
       "      <td>7.55</td>\n",
       "    </tr>\n",
       "    <tr>\n",
       "      <th>FLAG_EMAIL</th>\n",
       "      <td>int64</td>\n",
       "      <td>2</td>\n",
       "      <td>0</td>\n",
       "      <td>0.00</td>\n",
       "    </tr>\n",
       "    <tr>\n",
       "      <th>OTHER_INCOMES</th>\n",
       "      <td>float64</td>\n",
       "      <td>615</td>\n",
       "      <td>0</td>\n",
       "      <td>0.00</td>\n",
       "    </tr>\n",
       "    <tr>\n",
       "      <th>FLAG_VISA</th>\n",
       "      <td>int64</td>\n",
       "      <td>2</td>\n",
       "      <td>0</td>\n",
       "      <td>0.00</td>\n",
       "    </tr>\n",
       "    <tr>\n",
       "      <th>FLAG_MASTERCARD</th>\n",
       "      <td>int64</td>\n",
       "      <td>2</td>\n",
       "      <td>0</td>\n",
       "      <td>0.00</td>\n",
       "    </tr>\n",
       "    <tr>\n",
       "      <th>FLAG_DINERS</th>\n",
       "      <td>int64</td>\n",
       "      <td>2</td>\n",
       "      <td>0</td>\n",
       "      <td>0.00</td>\n",
       "    </tr>\n",
       "    <tr>\n",
       "      <th>FLAG_AMERICAN_EXPRESS</th>\n",
       "      <td>int64</td>\n",
       "      <td>2</td>\n",
       "      <td>0</td>\n",
       "      <td>0.00</td>\n",
       "    </tr>\n",
       "    <tr>\n",
       "      <th>FLAG_OTHER_CARDS</th>\n",
       "      <td>int64</td>\n",
       "      <td>2</td>\n",
       "      <td>0</td>\n",
       "      <td>0.00</td>\n",
       "    </tr>\n",
       "    <tr>\n",
       "      <th>QUANT_BANKING_ACCOUNTS</th>\n",
       "      <td>int64</td>\n",
       "      <td>3</td>\n",
       "      <td>0</td>\n",
       "      <td>0.00</td>\n",
       "    </tr>\n",
       "    <tr>\n",
       "      <th>PERSONAL_ASSETS_VALUE</th>\n",
       "      <td>float64</td>\n",
       "      <td>153</td>\n",
       "      <td>0</td>\n",
       "      <td>0.00</td>\n",
       "    </tr>\n",
       "    <tr>\n",
       "      <th>QUANT_CARS</th>\n",
       "      <td>int64</td>\n",
       "      <td>2</td>\n",
       "      <td>0</td>\n",
       "      <td>0.00</td>\n",
       "    </tr>\n",
       "    <tr>\n",
       "      <th>COMPANY</th>\n",
       "      <td>object</td>\n",
       "      <td>2</td>\n",
       "      <td>0</td>\n",
       "      <td>0.00</td>\n",
       "    </tr>\n",
       "    <tr>\n",
       "      <th>PROFESSIONAL_STATE</th>\n",
       "      <td>object</td>\n",
       "      <td>28</td>\n",
       "      <td>0</td>\n",
       "      <td>0.00</td>\n",
       "    </tr>\n",
       "    <tr>\n",
       "      <th>FLAG_PROFESSIONAL_PHONE</th>\n",
       "      <td>object</td>\n",
       "      <td>2</td>\n",
       "      <td>0</td>\n",
       "      <td>0.00</td>\n",
       "    </tr>\n",
       "    <tr>\n",
       "      <th>PROFESSIONAL_PHONE_AREA_CODE</th>\n",
       "      <td>object</td>\n",
       "      <td>87</td>\n",
       "      <td>0</td>\n",
       "      <td>0.00</td>\n",
       "    </tr>\n",
       "    <tr>\n",
       "      <th>MONTHS_IN_THE_JOB</th>\n",
       "      <td>int64</td>\n",
       "      <td>21</td>\n",
       "      <td>0</td>\n",
       "      <td>0.00</td>\n",
       "    </tr>\n",
       "    <tr>\n",
       "      <th>PROFESSION_CODE</th>\n",
       "      <td>float64</td>\n",
       "      <td>19</td>\n",
       "      <td>7756</td>\n",
       "      <td>15.51</td>\n",
       "    </tr>\n",
       "    <tr>\n",
       "      <th>OCCUPATION_TYPE</th>\n",
       "      <td>float64</td>\n",
       "      <td>5</td>\n",
       "      <td>10101</td>\n",
       "      <td>20.20</td>\n",
       "    </tr>\n",
       "    <tr>\n",
       "      <th>PRODUCT</th>\n",
       "      <td>int64</td>\n",
       "      <td>3</td>\n",
       "      <td>0</td>\n",
       "      <td>0.00</td>\n",
       "    </tr>\n",
       "    <tr>\n",
       "      <th>AGE</th>\n",
       "      <td>int64</td>\n",
       "      <td>89</td>\n",
       "      <td>0</td>\n",
       "      <td>0.00</td>\n",
       "    </tr>\n",
       "    <tr>\n",
       "      <th>TARGET_LABEL_BAD=1</th>\n",
       "      <td>int64</td>\n",
       "      <td>2</td>\n",
       "      <td>0</td>\n",
       "      <td>0.00</td>\n",
       "    </tr>\n",
       "  </tbody>\n",
       "</table>\n",
       "</div>"
      ],
      "text/plain": [
       "                             Data type  # Unique Values  # NULL Values  \\\n",
       "PAYMENT_DAY                      int64                6              0   \n",
       "APPLICATION_SUBMISSION_TYPE     object                2          19461   \n",
       "POSTAL_ADDRESS_TYPE              int64                2              0   \n",
       "SEX                             object                2             65   \n",
       "MARITAL_STATUS                 float64                7            202   \n",
       "QUANT_DEPENDANTS                 int64               17              0   \n",
       "STATE_OF_BIRTH                  object               29              0   \n",
       "NACIONALITY                      int64                3              0   \n",
       "RESIDENCIAL_STATE               object               27              0   \n",
       "FLAG_RESIDENCIAL_PHONE          object                2              0   \n",
       "RESIDENCIAL_PHONE_AREA_CODE     object              102              0   \n",
       "RESIDENCE_TYPE                 float64                5           2109   \n",
       "MONTHS_IN_RESIDENCE            float64               88           3777   \n",
       "FLAG_EMAIL                       int64                2              0   \n",
       "OTHER_INCOMES                  float64              615              0   \n",
       "FLAG_VISA                        int64                2              0   \n",
       "FLAG_MASTERCARD                  int64                2              0   \n",
       "FLAG_DINERS                      int64                2              0   \n",
       "FLAG_AMERICAN_EXPRESS            int64                2              0   \n",
       "FLAG_OTHER_CARDS                 int64                2              0   \n",
       "QUANT_BANKING_ACCOUNTS           int64                3              0   \n",
       "PERSONAL_ASSETS_VALUE          float64              153              0   \n",
       "QUANT_CARS                       int64                2              0   \n",
       "COMPANY                         object                2              0   \n",
       "PROFESSIONAL_STATE              object               28              0   \n",
       "FLAG_PROFESSIONAL_PHONE         object                2              0   \n",
       "PROFESSIONAL_PHONE_AREA_CODE    object               87              0   \n",
       "MONTHS_IN_THE_JOB                int64               21              0   \n",
       "PROFESSION_CODE                float64               19           7756   \n",
       "OCCUPATION_TYPE                float64                5          10101   \n",
       "PRODUCT                          int64                3              0   \n",
       "AGE                              int64               89              0   \n",
       "TARGET_LABEL_BAD=1               int64                2              0   \n",
       "\n",
       "                              % NULL Values  \n",
       "PAYMENT_DAY                            0.00  \n",
       "APPLICATION_SUBMISSION_TYPE           38.92  \n",
       "POSTAL_ADDRESS_TYPE                    0.00  \n",
       "SEX                                    0.13  \n",
       "MARITAL_STATUS                         0.40  \n",
       "QUANT_DEPENDANTS                       0.00  \n",
       "STATE_OF_BIRTH                         0.00  \n",
       "NACIONALITY                            0.00  \n",
       "RESIDENCIAL_STATE                      0.00  \n",
       "FLAG_RESIDENCIAL_PHONE                 0.00  \n",
       "RESIDENCIAL_PHONE_AREA_CODE            0.00  \n",
       "RESIDENCE_TYPE                         4.22  \n",
       "MONTHS_IN_RESIDENCE                    7.55  \n",
       "FLAG_EMAIL                             0.00  \n",
       "OTHER_INCOMES                          0.00  \n",
       "FLAG_VISA                              0.00  \n",
       "FLAG_MASTERCARD                        0.00  \n",
       "FLAG_DINERS                            0.00  \n",
       "FLAG_AMERICAN_EXPRESS                  0.00  \n",
       "FLAG_OTHER_CARDS                       0.00  \n",
       "QUANT_BANKING_ACCOUNTS                 0.00  \n",
       "PERSONAL_ASSETS_VALUE                  0.00  \n",
       "QUANT_CARS                             0.00  \n",
       "COMPANY                                0.00  \n",
       "PROFESSIONAL_STATE                     0.00  \n",
       "FLAG_PROFESSIONAL_PHONE                0.00  \n",
       "PROFESSIONAL_PHONE_AREA_CODE           0.00  \n",
       "MONTHS_IN_THE_JOB                      0.00  \n",
       "PROFESSION_CODE                       15.51  \n",
       "OCCUPATION_TYPE                       20.20  \n",
       "PRODUCT                                0.00  \n",
       "AGE                                    0.00  \n",
       "TARGET_LABEL_BAD=1                     0.00  "
      ]
     },
     "execution_count": 11,
     "metadata": {},
     "output_type": "execute_result"
    }
   ],
   "source": [
    "columns_metrics= get_columns_metrics(raw_modeling_data,)\n",
    "columns_metrics"
   ]
  },
  {
   "cell_type": "code",
   "execution_count": 28,
   "metadata": {},
   "outputs": [],
   "source": [
    "## Build processing pipeline\n",
    "# Create individual transformers\n",
    "num_transformer = Pipeline(\n",
    "        steps=[\n",
    "            ('imputer' , SimpleImputer(strategy='median')),\n",
    "            ('scaler'  , RobustScaler())\n",
    "        ]\n",
    ")\n",
    "\n",
    "cat_transformer = Pipeline(\n",
    "        steps=[\n",
    "            ('imputer2', SimpleImputer(missing_values=pd.NA,\n",
    "                                      strategy='most_frequent')),\n",
    "            ('encoder' , OneHotEncoder(drop='if_binary',\n",
    "                                       #dtype='int8',\n",
    "                                       handle_unknown='ignore',\n",
    "                                       sparse=False))\n",
    "        ]\n",
    ")\n",
    "\n",
    "# Ensemble all the transformers\n",
    "preprocessor = ColumnTransformer(\n",
    "        transformers=[\n",
    "            ('num' , num_transformer , num_features),\n",
    "            ('cat' , cat_transformer , cat_features)\n",
    "        ]\n",
    ")"
   ]
  },
  {
   "cell_type": "code",
   "execution_count": 29,
   "metadata": {},
   "outputs": [
    {
     "name": "stderr",
     "output_type": "stream",
     "text": [
      "/home/fedecano/AnyoneAI/proyecto-final-anyoneai/project-final/lib/python3.8/site-packages/sklearn/preprocessing/_encoders.py:188: UserWarning: Found unknown categories in columns [2, 4, 6] during transform. These unknown categories will be encoded as all zeros\n",
      "  warnings.warn(\n",
      "/home/fedecano/AnyoneAI/proyecto-final-anyoneai/project-final/lib/python3.8/site-packages/sklearn/preprocessing/_encoders.py:188: UserWarning: Found unknown categories in columns [2, 4, 6] during transform. These unknown categories will be encoded as all zeros\n",
      "  warnings.warn(\n",
      "/home/fedecano/AnyoneAI/proyecto-final-anyoneai/project-final/lib/python3.8/site-packages/sklearn/preprocessing/_encoders.py:188: UserWarning: Found unknown categories in columns [4, 6] during transform. These unknown categories will be encoded as all zeros\n",
      "  warnings.warn(\n"
     ]
    }
   ],
   "source": [
    "# Use ColumnTransformer 'preprocessor' to process data\n",
    "# Train data\n",
    "X_train_pre   = preprocessor.fit_transform(X=X_train)\n",
    "X_train_0_pre = preprocessor.transform(X=X_train_0)\n",
    "# Validation data\n",
    "X_val_pre = preprocessor.transform(X=X_val)\n",
    "# Test data\n",
    "X_test_pre = preprocessor.transform(X=X_test)"
   ]
  },
  {
   "cell_type": "code",
   "execution_count": 30,
   "metadata": {},
   "outputs": [
    {
     "data": {
      "text/plain": [
       "(32000, 306)"
      ]
     },
     "execution_count": 30,
     "metadata": {},
     "output_type": "execute_result"
    }
   ],
   "source": [
    "X_train_pre.shape"
   ]
  },
  {
   "cell_type": "code",
   "execution_count": 31,
   "metadata": {},
   "outputs": [
    {
     "data": {
      "text/plain": [
       "32"
      ]
     },
     "execution_count": 31,
     "metadata": {},
     "output_type": "execute_result"
    }
   ],
   "source": [
    "len(cat_features)+len(num_features)"
   ]
  },
  {
   "cell_type": "code",
   "execution_count": 32,
   "metadata": {},
   "outputs": [],
   "source": [
    "# Define baseline model\n",
    "baseline_classifier = RandomForestClassifier(random_state=SEED,\n",
    "                                             n_jobs=-1,\n",
    "                                             class_weight='balanced'\n",
    "                                             )"
   ]
  },
  {
   "cell_type": "code",
   "execution_count": 33,
   "metadata": {},
   "outputs": [],
   "source": [
    "# Cross Validation\n",
    "cv_scores = cross_val_score(estimator=baseline_classifier,\n",
    "                            X=X_train_0_pre,\n",
    "                            y=y_train_0,\n",
    "                            cv=5,\n",
    "                            scoring='recall')"
   ]
  },
  {
   "cell_type": "code",
   "execution_count": 34,
   "metadata": {},
   "outputs": [
    {
     "data": {
      "text/plain": [
       "array([0.05505026, 0.05457157, 0.05887985, 0.05983724, 0.06031594])"
      ]
     },
     "execution_count": 34,
     "metadata": {},
     "output_type": "execute_result"
    }
   ],
   "source": [
    "cv_scores"
   ]
  },
  {
   "cell_type": "code",
   "execution_count": 35,
   "metadata": {},
   "outputs": [
    {
     "data": {
      "text/html": [
       "<style>#sk-container-id-1 {color: black;background-color: white;}#sk-container-id-1 pre{padding: 0;}#sk-container-id-1 div.sk-toggleable {background-color: white;}#sk-container-id-1 label.sk-toggleable__label {cursor: pointer;display: block;width: 100%;margin-bottom: 0;padding: 0.3em;box-sizing: border-box;text-align: center;}#sk-container-id-1 label.sk-toggleable__label-arrow:before {content: \"▸\";float: left;margin-right: 0.25em;color: #696969;}#sk-container-id-1 label.sk-toggleable__label-arrow:hover:before {color: black;}#sk-container-id-1 div.sk-estimator:hover label.sk-toggleable__label-arrow:before {color: black;}#sk-container-id-1 div.sk-toggleable__content {max-height: 0;max-width: 0;overflow: hidden;text-align: left;background-color: #f0f8ff;}#sk-container-id-1 div.sk-toggleable__content pre {margin: 0.2em;color: black;border-radius: 0.25em;background-color: #f0f8ff;}#sk-container-id-1 input.sk-toggleable__control:checked~div.sk-toggleable__content {max-height: 200px;max-width: 100%;overflow: auto;}#sk-container-id-1 input.sk-toggleable__control:checked~label.sk-toggleable__label-arrow:before {content: \"▾\";}#sk-container-id-1 div.sk-estimator input.sk-toggleable__control:checked~label.sk-toggleable__label {background-color: #d4ebff;}#sk-container-id-1 div.sk-label input.sk-toggleable__control:checked~label.sk-toggleable__label {background-color: #d4ebff;}#sk-container-id-1 input.sk-hidden--visually {border: 0;clip: rect(1px 1px 1px 1px);clip: rect(1px, 1px, 1px, 1px);height: 1px;margin: -1px;overflow: hidden;padding: 0;position: absolute;width: 1px;}#sk-container-id-1 div.sk-estimator {font-family: monospace;background-color: #f0f8ff;border: 1px dotted black;border-radius: 0.25em;box-sizing: border-box;margin-bottom: 0.5em;}#sk-container-id-1 div.sk-estimator:hover {background-color: #d4ebff;}#sk-container-id-1 div.sk-parallel-item::after {content: \"\";width: 100%;border-bottom: 1px solid gray;flex-grow: 1;}#sk-container-id-1 div.sk-label:hover label.sk-toggleable__label {background-color: #d4ebff;}#sk-container-id-1 div.sk-serial::before {content: \"\";position: absolute;border-left: 1px solid gray;box-sizing: border-box;top: 0;bottom: 0;left: 50%;z-index: 0;}#sk-container-id-1 div.sk-serial {display: flex;flex-direction: column;align-items: center;background-color: white;padding-right: 0.2em;padding-left: 0.2em;position: relative;}#sk-container-id-1 div.sk-item {position: relative;z-index: 1;}#sk-container-id-1 div.sk-parallel {display: flex;align-items: stretch;justify-content: center;background-color: white;position: relative;}#sk-container-id-1 div.sk-item::before, #sk-container-id-1 div.sk-parallel-item::before {content: \"\";position: absolute;border-left: 1px solid gray;box-sizing: border-box;top: 0;bottom: 0;left: 50%;z-index: -1;}#sk-container-id-1 div.sk-parallel-item {display: flex;flex-direction: column;z-index: 1;position: relative;background-color: white;}#sk-container-id-1 div.sk-parallel-item:first-child::after {align-self: flex-end;width: 50%;}#sk-container-id-1 div.sk-parallel-item:last-child::after {align-self: flex-start;width: 50%;}#sk-container-id-1 div.sk-parallel-item:only-child::after {width: 0;}#sk-container-id-1 div.sk-dashed-wrapped {border: 1px dashed gray;margin: 0 0.4em 0.5em 0.4em;box-sizing: border-box;padding-bottom: 0.4em;background-color: white;}#sk-container-id-1 div.sk-label label {font-family: monospace;font-weight: bold;display: inline-block;line-height: 1.2em;}#sk-container-id-1 div.sk-label-container {text-align: center;}#sk-container-id-1 div.sk-container {/* jupyter's `normalize.less` sets `[hidden] { display: none; }` but bootstrap.min.css set `[hidden] { display: none !important; }` so we also need the `!important` here to be able to override the default hidden behavior on the sphinx rendered scikit-learn.org. See: https://github.com/scikit-learn/scikit-learn/issues/21755 */display: inline-block !important;position: relative;}#sk-container-id-1 div.sk-text-repr-fallback {display: none;}</style><div id=\"sk-container-id-1\" class=\"sk-top-container\"><div class=\"sk-text-repr-fallback\"><pre>RandomForestClassifier(class_weight=&#x27;balanced&#x27;, n_jobs=-1, random_state=1)</pre><b>In a Jupyter environment, please rerun this cell to show the HTML representation or trust the notebook. <br />On GitHub, the HTML representation is unable to render, please try loading this page with nbviewer.org.</b></div><div class=\"sk-container\" hidden><div class=\"sk-item\"><div class=\"sk-estimator sk-toggleable\"><input class=\"sk-toggleable__control sk-hidden--visually\" id=\"sk-estimator-id-1\" type=\"checkbox\" checked><label for=\"sk-estimator-id-1\" class=\"sk-toggleable__label sk-toggleable__label-arrow\">RandomForestClassifier</label><div class=\"sk-toggleable__content\"><pre>RandomForestClassifier(class_weight=&#x27;balanced&#x27;, n_jobs=-1, random_state=1)</pre></div></div></div></div></div>"
      ],
      "text/plain": [
       "RandomForestClassifier(class_weight='balanced', n_jobs=-1, random_state=1)"
      ]
     },
     "execution_count": 35,
     "metadata": {},
     "output_type": "execute_result"
    }
   ],
   "source": [
    "baseline_classifier.fit(X=X_train_pre, y=y_train)"
   ]
  },
  {
   "cell_type": "code",
   "execution_count": 36,
   "metadata": {},
   "outputs": [],
   "source": [
    "blm_predict = baseline_classifier.predict(X=X_val_pre)"
   ]
  },
  {
   "cell_type": "code",
   "execution_count": 38,
   "metadata": {},
   "outputs": [
    {
     "name": "stdout",
     "output_type": "stream",
     "text": [
      "Model Performance metrics:\n",
      "------------------------------\n",
      "Accuracy: 0.7342\n",
      "Precision: 0.3822\n",
      "Recall: 0.0651\n",
      "F1 Score: 0.1112\n",
      "\n",
      "Model Classification report:\n",
      "------------------------------\n",
      "              precision    recall  f1-score   support\n",
      "\n",
      "         0.0       0.75      0.96      0.84      5956\n",
      "         1.0       0.38      0.07      0.11      2044\n",
      "\n",
      "    accuracy                           0.73      8000\n",
      "   macro avg       0.57      0.51      0.48      8000\n",
      "weighted avg       0.66      0.73      0.66      8000\n",
      "\n",
      "\n",
      "Prediction Confusion Matrix:\n",
      "------------------------------\n",
      "      0    1\n",
      "0  5741  215\n",
      "1  1911  133\n"
     ]
    }
   ],
   "source": [
    "blm_metrics = evaluation.get_performance(predictions=blm_predict,\n",
    "                                               y_test=y_val)"
   ]
  },
  {
   "cell_type": "code",
   "execution_count": 40,
   "metadata": {},
   "outputs": [
    {
     "data": {
      "image/png": "[encoded data removed]",
      "text/plain": [
       "<Figure size 1000x500 with 1 Axes>"
      ]
     },
     "metadata": {},
     "output_type": "display_data"
    },
    {
     "name": "stdout",
     "output_type": "stream",
     "text": [
      "AUC Score of Baseline Model is 0.603\n"
     ]
    }
   ],
   "source": [
    "blm_roc_auc = evaluation.plot_roc(model=baseline_classifier,\n",
    "                                        y_test=y_val,\n",
    "                                        features=X_val_pre)\n",
    "\n",
    "print(f'AUC Score of Baseline Model is {round(blm_roc_auc, 4)}')"
   ]
  },
  {
   "cell_type": "code",
   "execution_count": 41,
   "metadata": {},
   "outputs": [],
   "source": [
    "# Try with another classifier\n",
    "lgb_clf = LGBMClassifier(random_state=SEED, class_weight='balanced')\n",
    "# Training\n",
    "lgb_clf.fit(X=X_train_pre, y=y_train)\n",
    "# Prediction\n",
    "lgb_pred = lgb_clf.predict(X=X_val_pre)"
   ]
  },
  {
   "cell_type": "code",
   "execution_count": 43,
   "metadata": {},
   "outputs": [
    {
     "name": "stdout",
     "output_type": "stream",
     "text": [
      "Model Performance metrics:\n",
      "------------------------------\n",
      "Accuracy: 0.5886\n",
      "Precision: 0.3359\n",
      "Recall: 0.6243\n",
      "F1 Score: 0.4368\n",
      "\n",
      "Model Classification report:\n",
      "------------------------------\n",
      "              precision    recall  f1-score   support\n",
      "\n",
      "         0.0       0.82      0.58      0.68      5956\n",
      "         1.0       0.34      0.62      0.44      2044\n",
      "\n",
      "    accuracy                           0.59      8000\n",
      "   macro avg       0.58      0.60      0.56      8000\n",
      "weighted avg       0.69      0.59      0.61      8000\n",
      "\n",
      "\n",
      "Prediction Confusion Matrix:\n",
      "------------------------------\n",
      "      0     1\n",
      "0  3433  2523\n",
      "1   768  1276\n"
     ]
    }
   ],
   "source": [
    "lgb_metrics = evaluation.get_performance(predictions=lgb_pred,\n",
    "                                               y_test=y_val)"
   ]
  },
  {
   "cell_type": "code",
   "execution_count": 45,
   "metadata": {},
   "outputs": [
    {
     "data": {
      "image/png": "[encoded data removed]",
      "text/plain": [
       "<Figure size 1000x500 with 1 Axes>"
      ]
     },
     "metadata": {},
     "output_type": "display_data"
    }
   ],
   "source": [
    "lgb_auc_score = evaluation.plot_roc(model=lgb_clf,\n",
    "                                          y_test=y_val,\n",
    "                                          features=X_val_pre)"
   ]
  },
  {
   "cell_type": "code",
   "execution_count": 46,
   "metadata": {},
   "outputs": [],
   "source": [
    "# Hyperparameter Optimization\n",
    "# Parameters\n",
    "params = {\n",
    "    'num_leaves'     : [30, 40, 50, 60, 70, 80, 90, 100],\n",
    "    #'num_iterations' : [100, 200, 300, 400, 500],\n",
    "    'learning_rate'  : [0.1, 0.01, 0.001, 0.0001]\n",
    "}\n",
    "# Set RandomizedSearchCV\n",
    "best_lgb_clf = RandomizedSearchCV(estimator=lgb_clf,\n",
    "                                  param_distributions=params,\n",
    "                                  scoring='accuracy',\n",
    "                                  n_iter=20)\n",
    "# Train\n",
    "lgb_search = best_lgb_clf.fit(X=X_train_pre, y=y_train)"
   ]
  },
  {
   "cell_type": "code",
   "execution_count": 47,
   "metadata": {},
   "outputs": [
    {
     "data": {
      "text/plain": [
       "{'num_leaves': 90, 'learning_rate': 0.1}"
      ]
     },
     "execution_count": 47,
     "metadata": {},
     "output_type": "execute_result"
    }
   ],
   "source": [
    "lgb_search.best_params_"
   ]
  },
  {
   "cell_type": "code",
   "execution_count": 48,
   "metadata": {},
   "outputs": [],
   "source": [
    "best_lgb_clf_pred = best_lgb_clf.predict(X=X_val_pre)"
   ]
  },
  {
   "cell_type": "code",
   "execution_count": 49,
   "metadata": {},
   "outputs": [
    {
     "name": "stdout",
     "output_type": "stream",
     "text": [
      "Model Performance metrics:\n",
      "------------------------------\n",
      "Accuracy: 0.6091\n",
      "Precision: 0.3399\n",
      "Recall: 0.5626\n",
      "F1 Score: 0.4238\n",
      "\n",
      "Model Classification report:\n",
      "------------------------------\n",
      "              precision    recall  f1-score   support\n",
      "\n",
      "         0.0       0.81      0.63      0.70      5956\n",
      "         1.0       0.34      0.56      0.42      2044\n",
      "\n",
      "    accuracy                           0.61      8000\n",
      "   macro avg       0.57      0.59      0.56      8000\n",
      "weighted avg       0.69      0.61      0.63      8000\n",
      "\n",
      "\n",
      "Prediction Confusion Matrix:\n",
      "------------------------------\n",
      "      0     1\n",
      "0  3723  2233\n",
      "1   894  1150\n"
     ]
    }
   ],
   "source": [
    "best_lgb_clf_metrics = evaluation.get_performance(\n",
    "    predictions=best_lgb_clf_pred, y_test=y_val)"
   ]
  },
  {
   "cell_type": "code",
   "execution_count": 51,
   "metadata": {},
   "outputs": [
    {
     "data": {
      "image/png": "[encoded data removed]",
      "text/plain": [
       "<Figure size 1000x500 with 1 Axes>"
      ]
     },
     "metadata": {},
     "output_type": "display_data"
    }
   ],
   "source": [
    "best_lgb_auc_score = evaluation.plot_roc(model=best_lgb_clf,\n",
    "                                               y_test=y_val,\n",
    "                                               features=X_val_pre)"
   ]
  },
  {
   "cell_type": "code",
   "execution_count": 53,
   "metadata": {},
   "outputs": [
    {
     "name": "stdout",
     "output_type": "stream",
     "text": [
      "[16:05:04] WARNING: ../src/learner.cc:248: No visible GPU is found, setting `gpu_id` to -1\n"
     ]
    },
    {
     "ename": "XGBoostError",
     "evalue": "[16:05:04] ../src/gbm/gbtree.cc:597: Check failed: common::AllVisibleGPUs() >= 1 (0 vs. 1) : No visible GPU is found for XGBoost.\nStack trace:\n  [bt] (0) /home/fedecano/AnyoneAI/proyecto-final-anyoneai/project-final/lib/python3.8/site-packages/xgboost/lib/libxgboost.so(+0x1e4459) [0x7f0e8002a459]\n  [bt] (1) /home/fedecano/AnyoneAI/proyecto-final-anyoneai/project-final/lib/python3.8/site-packages/xgboost/lib/libxgboost.so(+0x1e5571) [0x7f0e8002b571]\n  [bt] (2) /home/fedecano/AnyoneAI/proyecto-final-anyoneai/project-final/lib/python3.8/site-packages/xgboost/lib/libxgboost.so(+0x1e595a) [0x7f0e8002b95a]\n  [bt] (3) /home/fedecano/AnyoneAI/proyecto-final-anyoneai/project-final/lib/python3.8/site-packages/xgboost/lib/libxgboost.so(+0x225a3d) [0x7f0e8006ba3d]\n  [bt] (4) /home/fedecano/AnyoneAI/proyecto-final-anyoneai/project-final/lib/python3.8/site-packages/xgboost/lib/libxgboost.so(XGBoosterUpdateOneIter+0x68) [0x7f0e7ff05098]\n  [bt] (5) /lib/x86_64-linux-gnu/libffi.so.7(+0x6ff5) [0x7f0eee1daff5]\n  [bt] (6) /lib/x86_64-linux-gnu/libffi.so.7(+0x640a) [0x7f0eee1da40a]\n  [bt] (7) /usr/lib/python3.8/lib-dynload/_ctypes.cpython-38-x86_64-linux-gnu.so(_ctypes_callproc+0x5b6) [0x7f0eee1fb316]\n  [bt] (8) /usr/lib/python3.8/lib-dynload/_ctypes.cpython-38-x86_64-linux-gnu.so(+0x139ec) [0x7f0eee1fb9ec]\n\n",
     "output_type": "error",
     "traceback": [
      "\u001b[0;31m---------------------------------------------------------------------------\u001b[0m",
      "\u001b[0;31mXGBoostError\u001b[0m                              Traceback (most recent call last)",
      "Cell \u001b[0;32mIn [53], line 10\u001b[0m\n\u001b[1;32m      2\u001b[0m xgb_clf \u001b[39m=\u001b[39m xgb\u001b[39m.\u001b[39mXGBClassifier(tree_method\u001b[39m=\u001b[39m\u001b[39m'\u001b[39m\u001b[39mgpu_hist\u001b[39m\u001b[39m'\u001b[39m,\n\u001b[1;32m      3\u001b[0m                             max_depth\u001b[39m=\u001b[39m\u001b[39m10\u001b[39m,\n\u001b[1;32m      4\u001b[0m                             eta\u001b[39m=\u001b[39m\u001b[39m0.5\u001b[39m,\n\u001b[0;32m   (...)\u001b[0m\n\u001b[1;32m      7\u001b[0m                             eval_metric\u001b[39m=\u001b[39m\u001b[39m'\u001b[39m\u001b[39mauc\u001b[39m\u001b[39m'\u001b[39m,\n\u001b[1;32m      8\u001b[0m                             seed\u001b[39m=\u001b[39mSEED)\n\u001b[1;32m      9\u001b[0m \u001b[39m# Train model\u001b[39;00m\n\u001b[0;32m---> 10\u001b[0m xgb_clf\u001b[39m.\u001b[39;49mfit(X\u001b[39m=\u001b[39;49mX_train_pre, y\u001b[39m=\u001b[39;49my_train)\n\u001b[1;32m     11\u001b[0m \u001b[39m# Prediction\u001b[39;00m\n\u001b[1;32m     12\u001b[0m xgb_pred \u001b[39m=\u001b[39m xgb_clf\u001b[39m.\u001b[39mpredict(X\u001b[39m=\u001b[39mX_val_pre)\n",
      "File \u001b[0;32m~/AnyoneAI/proyecto-final-anyoneai/project-final/lib/python3.8/site-packages/xgboost/core.py:575\u001b[0m, in \u001b[0;36m_deprecate_positional_args.<locals>.inner_f\u001b[0;34m(*args, **kwargs)\u001b[0m\n\u001b[1;32m    573\u001b[0m \u001b[39mfor\u001b[39;00m k, arg \u001b[39min\u001b[39;00m \u001b[39mzip\u001b[39m(sig\u001b[39m.\u001b[39mparameters, args):\n\u001b[1;32m    574\u001b[0m     kwargs[k] \u001b[39m=\u001b[39m arg\n\u001b[0;32m--> 575\u001b[0m \u001b[39mreturn\u001b[39;00m f(\u001b[39m*\u001b[39;49m\u001b[39m*\u001b[39;49mkwargs)\n",
      "File \u001b[0;32m~/AnyoneAI/proyecto-final-anyoneai/project-final/lib/python3.8/site-packages/xgboost/sklearn.py:1400\u001b[0m, in \u001b[0;36mXGBClassifier.fit\u001b[0;34m(self, X, y, sample_weight, base_margin, eval_set, eval_metric, early_stopping_rounds, verbose, xgb_model, sample_weight_eval_set, base_margin_eval_set, feature_weights, callbacks)\u001b[0m\n\u001b[1;32m   1379\u001b[0m model, metric, params, early_stopping_rounds, callbacks \u001b[39m=\u001b[39m \u001b[39mself\u001b[39m\u001b[39m.\u001b[39m_configure_fit(\n\u001b[1;32m   1380\u001b[0m     xgb_model, eval_metric, params, early_stopping_rounds, callbacks\n\u001b[1;32m   1381\u001b[0m )\n\u001b[1;32m   1382\u001b[0m train_dmatrix, evals \u001b[39m=\u001b[39m _wrap_evaluation_matrices(\n\u001b[1;32m   1383\u001b[0m     missing\u001b[39m=\u001b[39m\u001b[39mself\u001b[39m\u001b[39m.\u001b[39mmissing,\n\u001b[1;32m   1384\u001b[0m     X\u001b[39m=\u001b[39mX,\n\u001b[0;32m   (...)\u001b[0m\n\u001b[1;32m   1397\u001b[0m     enable_categorical\u001b[39m=\u001b[39m\u001b[39mself\u001b[39m\u001b[39m.\u001b[39menable_categorical,\n\u001b[1;32m   1398\u001b[0m )\n\u001b[0;32m-> 1400\u001b[0m \u001b[39mself\u001b[39m\u001b[39m.\u001b[39m_Booster \u001b[39m=\u001b[39m train(\n\u001b[1;32m   1401\u001b[0m     params,\n\u001b[1;32m   1402\u001b[0m     train_dmatrix,\n\u001b[1;32m   1403\u001b[0m     \u001b[39mself\u001b[39;49m\u001b[39m.\u001b[39;49mget_num_boosting_rounds(),\n\u001b[1;32m   1404\u001b[0m     evals\u001b[39m=\u001b[39;49mevals,\n\u001b[1;32m   1405\u001b[0m     early_stopping_rounds\u001b[39m=\u001b[39;49mearly_stopping_rounds,\n\u001b[1;32m   1406\u001b[0m     evals_result\u001b[39m=\u001b[39;49mevals_result,\n\u001b[1;32m   1407\u001b[0m     obj\u001b[39m=\u001b[39;49mobj,\n\u001b[1;32m   1408\u001b[0m     custom_metric\u001b[39m=\u001b[39;49mmetric,\n\u001b[1;32m   1409\u001b[0m     verbose_eval\u001b[39m=\u001b[39;49mverbose,\n\u001b[1;32m   1410\u001b[0m     xgb_model\u001b[39m=\u001b[39;49mmodel,\n\u001b[1;32m   1411\u001b[0m     callbacks\u001b[39m=\u001b[39;49mcallbacks,\n\u001b[1;32m   1412\u001b[0m )\n\u001b[1;32m   1414\u001b[0m \u001b[39mif\u001b[39;00m \u001b[39mnot\u001b[39;00m callable(\u001b[39mself\u001b[39m\u001b[39m.\u001b[39mobjective):\n\u001b[1;32m   1415\u001b[0m     \u001b[39mself\u001b[39m\u001b[39m.\u001b[39mobjective \u001b[39m=\u001b[39m params[\u001b[39m\"\u001b[39m\u001b[39mobjective\u001b[39m\u001b[39m\"\u001b[39m]\n",
      "File \u001b[0;32m~/AnyoneAI/proyecto-final-anyoneai/project-final/lib/python3.8/site-packages/xgboost/core.py:575\u001b[0m, in \u001b[0;36m_deprecate_positional_args.<locals>.inner_f\u001b[0;34m(*args, **kwargs)\u001b[0m\n\u001b[1;32m    573\u001b[0m \u001b[39mfor\u001b[39;00m k, arg \u001b[39min\u001b[39;00m \u001b[39mzip\u001b[39m(sig\u001b[39m.\u001b[39mparameters, args):\n\u001b[1;32m    574\u001b[0m     kwargs[k] \u001b[39m=\u001b[39m arg\n\u001b[0;32m--> 575\u001b[0m \u001b[39mreturn\u001b[39;00m f(\u001b[39m*\u001b[39;49m\u001b[39m*\u001b[39;49mkwargs)\n",
      "File \u001b[0;32m~/AnyoneAI/proyecto-final-anyoneai/project-final/lib/python3.8/site-packages/xgboost/training.py:181\u001b[0m, in \u001b[0;36mtrain\u001b[0;34m(params, dtrain, num_boost_round, evals, obj, feval, maximize, early_stopping_rounds, evals_result, verbose_eval, xgb_model, callbacks, custom_metric)\u001b[0m\n\u001b[1;32m    179\u001b[0m \u001b[39mif\u001b[39;00m cb_container\u001b[39m.\u001b[39mbefore_iteration(bst, i, dtrain, evals):\n\u001b[1;32m    180\u001b[0m     \u001b[39mbreak\u001b[39;00m\n\u001b[0;32m--> 181\u001b[0m bst\u001b[39m.\u001b[39;49mupdate(dtrain, i, obj)\n\u001b[1;32m    182\u001b[0m \u001b[39mif\u001b[39;00m cb_container\u001b[39m.\u001b[39mafter_iteration(bst, i, dtrain, evals):\n\u001b[1;32m    183\u001b[0m     \u001b[39mbreak\u001b[39;00m\n",
      "File \u001b[0;32m~/AnyoneAI/proyecto-final-anyoneai/project-final/lib/python3.8/site-packages/xgboost/core.py:1778\u001b[0m, in \u001b[0;36mBooster.update\u001b[0;34m(self, dtrain, iteration, fobj)\u001b[0m\n\u001b[1;32m   1775\u001b[0m \u001b[39mself\u001b[39m\u001b[39m.\u001b[39m_validate_features(dtrain)\n\u001b[1;32m   1777\u001b[0m \u001b[39mif\u001b[39;00m fobj \u001b[39mis\u001b[39;00m \u001b[39mNone\u001b[39;00m:\n\u001b[0;32m-> 1778\u001b[0m     _check_call(_LIB\u001b[39m.\u001b[39;49mXGBoosterUpdateOneIter(\u001b[39mself\u001b[39;49m\u001b[39m.\u001b[39;49mhandle,\n\u001b[1;32m   1779\u001b[0m                                             ctypes\u001b[39m.\u001b[39;49mc_int(iteration),\n\u001b[1;32m   1780\u001b[0m                                             dtrain\u001b[39m.\u001b[39;49mhandle))\n\u001b[1;32m   1781\u001b[0m \u001b[39melse\u001b[39;00m:\n\u001b[1;32m   1782\u001b[0m     pred \u001b[39m=\u001b[39m \u001b[39mself\u001b[39m\u001b[39m.\u001b[39mpredict(dtrain, output_margin\u001b[39m=\u001b[39m\u001b[39mTrue\u001b[39;00m, training\u001b[39m=\u001b[39m\u001b[39mTrue\u001b[39;00m)\n",
      "File \u001b[0;32m~/AnyoneAI/proyecto-final-anyoneai/project-final/lib/python3.8/site-packages/xgboost/core.py:246\u001b[0m, in \u001b[0;36m_check_call\u001b[0;34m(ret)\u001b[0m\n\u001b[1;32m    235\u001b[0m \u001b[39m\"\"\"Check the return value of C API call\u001b[39;00m\n\u001b[1;32m    236\u001b[0m \n\u001b[1;32m    237\u001b[0m \u001b[39mThis function will raise exception when error occurs.\u001b[39;00m\n\u001b[0;32m   (...)\u001b[0m\n\u001b[1;32m    243\u001b[0m \u001b[39m    return value from API calls\u001b[39;00m\n\u001b[1;32m    244\u001b[0m \u001b[39m\"\"\"\u001b[39;00m\n\u001b[1;32m    245\u001b[0m \u001b[39mif\u001b[39;00m ret \u001b[39m!=\u001b[39m \u001b[39m0\u001b[39m:\n\u001b[0;32m--> 246\u001b[0m     \u001b[39mraise\u001b[39;00m XGBoostError(py_str(_LIB\u001b[39m.\u001b[39mXGBGetLastError()))\n",
      "\u001b[0;31mXGBoostError\u001b[0m: [16:05:04] ../src/gbm/gbtree.cc:597: Check failed: common::AllVisibleGPUs() >= 1 (0 vs. 1) : No visible GPU is found for XGBoost.\nStack trace:\n  [bt] (0) /home/fedecano/AnyoneAI/proyecto-final-anyoneai/project-final/lib/python3.8/site-packages/xgboost/lib/libxgboost.so(+0x1e4459) [0x7f0e8002a459]\n  [bt] (1) /home/fedecano/AnyoneAI/proyecto-final-anyoneai/project-final/lib/python3.8/site-packages/xgboost/lib/libxgboost.so(+0x1e5571) [0x7f0e8002b571]\n  [bt] (2) /home/fedecano/AnyoneAI/proyecto-final-anyoneai/project-final/lib/python3.8/site-packages/xgboost/lib/libxgboost.so(+0x1e595a) [0x7f0e8002b95a]\n  [bt] (3) /home/fedecano/AnyoneAI/proyecto-final-anyoneai/project-final/lib/python3.8/site-packages/xgboost/lib/libxgboost.so(+0x225a3d) [0x7f0e8006ba3d]\n  [bt] (4) /home/fedecano/AnyoneAI/proyecto-final-anyoneai/project-final/lib/python3.8/site-packages/xgboost/lib/libxgboost.so(XGBoosterUpdateOneIter+0x68) [0x7f0e7ff05098]\n  [bt] (5) /lib/x86_64-linux-gnu/libffi.so.7(+0x6ff5) [0x7f0eee1daff5]\n  [bt] (6) /lib/x86_64-linux-gnu/libffi.so.7(+0x640a) [0x7f0eee1da40a]\n  [bt] (7) /usr/lib/python3.8/lib-dynload/_ctypes.cpython-38-x86_64-linux-gnu.so(_ctypes_callproc+0x5b6) [0x7f0eee1fb316]\n  [bt] (8) /usr/lib/python3.8/lib-dynload/_ctypes.cpython-38-x86_64-linux-gnu.so(+0x139ec) [0x7f0eee1fb9ec]\n\n"
     ]
    }
   ],
   "source": [
    "# Define model\n",
    "xgb_clf = xgb.XGBClassifier(tree_method='gpu_hist',\n",
    "                            max_depth=10,\n",
    "                            eta=0.5,\n",
    "                            objective='binary:logistic',\n",
    "                            gpu_id='0',\n",
    "                            eval_metric='auc',\n",
    "                            seed=SEED)\n",
    "# Train model\n",
    "xgb_clf.fit(X=X_train_pre, y=y_train)\n",
    "# Prediction\n",
    "xgb_pred = xgb_clf.predict(X=X_val_pre)"
   ]
  },
  {
   "cell_type": "code",
   "execution_count": null,
   "metadata": {},
   "outputs": [],
   "source": [
    "xgb_auc = evaluation.plot_roc(model=xgb_clf,\n",
    "                                    y_test=y_val,\n",
    "                                    features=X_val_pre)"
   ]
  }
 ],
 "metadata": {
  "kernelspec": {
   "display_name": "Python 3.8.10 ('project-final': venv)",
   "language": "python",
   "name": "python3"
  },
  "language_info": {
   "codemirror_mode": {
    "name": "ipython",
    "version": 3
   },
   "file_extension": ".py",
   "mimetype": "text/x-python",
   "name": "python",
   "nbconvert_exporter": "python",
   "pygments_lexer": "ipython3",
   "version": "3.8.10"
  },
  "orig_nbformat": 4,
  "vscode": {
   "interpreter": {
    "hash": "588d34d40b008a6653848567839318b58ba551d050e62f790680498a13a1d857"
   }
  }
 },
 "nbformat": 4,
 "nbformat_minor": 2
}
