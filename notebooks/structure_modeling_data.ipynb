{
 "cells": [
  {
   "cell_type": "code",
   "execution_count": 1,
   "id": "2562aec9",
   "metadata": {},
   "outputs": [],
   "source": [
    "import os\n",
    "import pandas as pd\n",
    "import numpy  as np"
   ]
  },
  {
   "cell_type": "code",
   "execution_count": 2,
   "id": "e2fe60f6",
   "metadata": {},
   "outputs": [],
   "source": [
    "import warnings\n",
    "warnings.filterwarnings(\"ignore\")"
   ]
  },
  {
   "cell_type": "markdown",
   "id": "aca1faac",
   "metadata": {},
   "source": [
    "# Exploratory Data Analysis"
   ]
  },
  {
   "cell_type": "markdown",
   "id": "0fdf7809",
   "metadata": {},
   "source": [
    "The following notebook assumes:\n",
    "- There hasn't been any problem getting the data.\n",
    "- The data is located in the **data** repository, located at the same level than the **notebooks** repository that hosts this notebook "
   ]
  },
  {
   "cell_type": "code",
   "execution_count": 3,
   "id": "69e7a654",
   "metadata": {},
   "outputs": [],
   "source": [
    "DATA_REPOSITORY= '../data'"
   ]
  },
  {
   "cell_type": "code",
   "execution_count": 4,
   "id": "7c1d4b08",
   "metadata": {},
   "outputs": [],
   "source": [
    "modeling_data_path= os.path.join(\n",
    "    DATA_REPOSITORY,\n",
    "    'PAKDD2010_Modeling_Data.txt'\n",
    ")\n",
    "variables_data_path= os.path.join(\n",
    "    DATA_REPOSITORY,\n",
    "    'PAKDD2010_VariablesList.XLS'\n",
    ")"
   ]
  },
  {
   "cell_type": "markdown",
   "id": "9e8cec0b",
   "metadata": {},
   "source": [
    "### Load the modeling data into a pd.DataFrame object"
   ]
  },
  {
   "cell_type": "code",
   "execution_count": 5,
   "id": "a8a38ce8",
   "metadata": {
    "scrolled": true
   },
   "outputs": [],
   "source": [
    "modeling_data= pd.read_csv(\n",
    "    filepath_or_buffer= modeling_data_path, \n",
    "    encoding= \"ISO-8859-1\", \n",
    "    header= None, \n",
    "    delimiter='\\t'\n",
    ")"
   ]
  },
  {
   "cell_type": "code",
   "execution_count": 6,
   "id": "7b1735df",
   "metadata": {},
   "outputs": [
    {
     "data": {
      "text/html": [
       "<div>\n",
       "<style scoped>\n",
       "    .dataframe tbody tr th:only-of-type {\n",
       "        vertical-align: middle;\n",
       "    }\n",
       "\n",
       "    .dataframe tbody tr th {\n",
       "        vertical-align: top;\n",
       "    }\n",
       "\n",
       "    .dataframe thead th {\n",
       "        text-align: right;\n",
       "    }\n",
       "</style>\n",
       "<table border=\"1\" class=\"dataframe\">\n",
       "  <thead>\n",
       "    <tr style=\"text-align: right;\">\n",
       "      <th></th>\n",
       "      <th>0</th>\n",
       "      <th>1</th>\n",
       "      <th>2</th>\n",
       "      <th>3</th>\n",
       "      <th>4</th>\n",
       "      <th>5</th>\n",
       "      <th>6</th>\n",
       "      <th>7</th>\n",
       "      <th>8</th>\n",
       "      <th>9</th>\n",
       "      <th>...</th>\n",
       "      <th>44</th>\n",
       "      <th>45</th>\n",
       "      <th>46</th>\n",
       "      <th>47</th>\n",
       "      <th>48</th>\n",
       "      <th>49</th>\n",
       "      <th>50</th>\n",
       "      <th>51</th>\n",
       "      <th>52</th>\n",
       "      <th>53</th>\n",
       "    </tr>\n",
       "  </thead>\n",
       "  <tbody>\n",
       "    <tr>\n",
       "      <th>0</th>\n",
       "      <td>1</td>\n",
       "      <td>C</td>\n",
       "      <td>5</td>\n",
       "      <td>Web</td>\n",
       "      <td>0</td>\n",
       "      <td>1</td>\n",
       "      <td>F</td>\n",
       "      <td>6</td>\n",
       "      <td>1</td>\n",
       "      <td>0</td>\n",
       "      <td>...</td>\n",
       "      <td>0</td>\n",
       "      <td>0</td>\n",
       "      <td>0</td>\n",
       "      <td>0</td>\n",
       "      <td>1</td>\n",
       "      <td>N</td>\n",
       "      <td>32</td>\n",
       "      <td>595</td>\n",
       "      <td>595</td>\n",
       "      <td>1</td>\n",
       "    </tr>\n",
       "    <tr>\n",
       "      <th>1</th>\n",
       "      <td>2</td>\n",
       "      <td>C</td>\n",
       "      <td>15</td>\n",
       "      <td>Carga</td>\n",
       "      <td>0</td>\n",
       "      <td>1</td>\n",
       "      <td>F</td>\n",
       "      <td>2</td>\n",
       "      <td>0</td>\n",
       "      <td>0</td>\n",
       "      <td>...</td>\n",
       "      <td>0</td>\n",
       "      <td>0</td>\n",
       "      <td>0</td>\n",
       "      <td>0</td>\n",
       "      <td>1</td>\n",
       "      <td>N</td>\n",
       "      <td>34</td>\n",
       "      <td>230</td>\n",
       "      <td>230</td>\n",
       "      <td>1</td>\n",
       "    </tr>\n",
       "    <tr>\n",
       "      <th>2</th>\n",
       "      <td>3</td>\n",
       "      <td>C</td>\n",
       "      <td>5</td>\n",
       "      <td>Web</td>\n",
       "      <td>0</td>\n",
       "      <td>1</td>\n",
       "      <td>F</td>\n",
       "      <td>2</td>\n",
       "      <td>0</td>\n",
       "      <td>0</td>\n",
       "      <td>...</td>\n",
       "      <td>0</td>\n",
       "      <td>0</td>\n",
       "      <td>0</td>\n",
       "      <td>0</td>\n",
       "      <td>1</td>\n",
       "      <td>N</td>\n",
       "      <td>27</td>\n",
       "      <td>591</td>\n",
       "      <td>591</td>\n",
       "      <td>0</td>\n",
       "    </tr>\n",
       "    <tr>\n",
       "      <th>3</th>\n",
       "      <td>4</td>\n",
       "      <td>C</td>\n",
       "      <td>20</td>\n",
       "      <td>Web</td>\n",
       "      <td>0</td>\n",
       "      <td>1</td>\n",
       "      <td>F</td>\n",
       "      <td>2</td>\n",
       "      <td>0</td>\n",
       "      <td>0</td>\n",
       "      <td>...</td>\n",
       "      <td>0</td>\n",
       "      <td>0</td>\n",
       "      <td>0</td>\n",
       "      <td>0</td>\n",
       "      <td>1</td>\n",
       "      <td>N</td>\n",
       "      <td>61</td>\n",
       "      <td>545</td>\n",
       "      <td>545</td>\n",
       "      <td>0</td>\n",
       "    </tr>\n",
       "    <tr>\n",
       "      <th>4</th>\n",
       "      <td>5</td>\n",
       "      <td>C</td>\n",
       "      <td>10</td>\n",
       "      <td>Web</td>\n",
       "      <td>0</td>\n",
       "      <td>1</td>\n",
       "      <td>M</td>\n",
       "      <td>2</td>\n",
       "      <td>0</td>\n",
       "      <td>0</td>\n",
       "      <td>...</td>\n",
       "      <td>0</td>\n",
       "      <td>0</td>\n",
       "      <td>0</td>\n",
       "      <td>0</td>\n",
       "      <td>1</td>\n",
       "      <td>N</td>\n",
       "      <td>48</td>\n",
       "      <td>235</td>\n",
       "      <td>235</td>\n",
       "      <td>1</td>\n",
       "    </tr>\n",
       "  </tbody>\n",
       "</table>\n",
       "<p>5 rows × 54 columns</p>\n",
       "</div>"
      ],
      "text/plain": [
       "   0  1   2      3   4   5  6   7   8   9   ... 44 45  46 47 48 49  50   51  \\\n",
       "0   1  C   5    Web   0   1  F   6   1   0  ...  0  0   0  0  1  N  32  595   \n",
       "1   2  C  15  Carga   0   1  F   2   0   0  ...  0  0   0  0  1  N  34  230   \n",
       "2   3  C   5    Web   0   1  F   2   0   0  ...  0  0   0  0  1  N  27  591   \n",
       "3   4  C  20    Web   0   1  F   2   0   0  ...  0  0   0  0  1  N  61  545   \n",
       "4   5  C  10    Web   0   1  M   2   0   0  ...  0  0   0  0  1  N  48  235   \n",
       "\n",
       "    52  53  \n",
       "0  595   1  \n",
       "1  230   1  \n",
       "2  591   0  \n",
       "3  545   0  \n",
       "4  235   1  \n",
       "\n",
       "[5 rows x 54 columns]"
      ]
     },
     "execution_count": 6,
     "metadata": {},
     "output_type": "execute_result"
    }
   ],
   "source": [
    "modeling_data.head()"
   ]
  },
  {
   "cell_type": "markdown",
   "id": "1d4062f1",
   "metadata": {},
   "source": [
    "### Load the variables data into a pd.DataFrame object"
   ]
  },
  {
   "cell_type": "code",
   "execution_count": 7,
   "id": "35633378",
   "metadata": {},
   "outputs": [],
   "source": [
    "df_variables= pd.read_excel(\n",
    "    io=variables_data_path,  \n",
    "    index_col= 0,\n",
    "    header= 0\n",
    ")\n",
    "df_variables= df_variables\\\n",
    "    .set_index(df_variables.index - 1)\n",
    "\n",
    "df_variables.index.name= 'COL_ID'"
   ]
  },
  {
   "cell_type": "code",
   "execution_count": 8,
   "id": "36d8774f",
   "metadata": {},
   "outputs": [
    {
     "data": {
      "text/html": [
       "<div>\n",
       "<style scoped>\n",
       "    .dataframe tbody tr th:only-of-type {\n",
       "        vertical-align: middle;\n",
       "    }\n",
       "\n",
       "    .dataframe tbody tr th {\n",
       "        vertical-align: top;\n",
       "    }\n",
       "\n",
       "    .dataframe thead th {\n",
       "        text-align: right;\n",
       "    }\n",
       "</style>\n",
       "<table border=\"1\" class=\"dataframe\">\n",
       "  <thead>\n",
       "    <tr style=\"text-align: right;\">\n",
       "      <th></th>\n",
       "      <th>Var_Title</th>\n",
       "      <th>Var_Description</th>\n",
       "      <th>Field_Content</th>\n",
       "    </tr>\n",
       "    <tr>\n",
       "      <th>COL_ID</th>\n",
       "      <th></th>\n",
       "      <th></th>\n",
       "      <th></th>\n",
       "    </tr>\n",
       "  </thead>\n",
       "  <tbody>\n",
       "    <tr>\n",
       "      <th>0</th>\n",
       "      <td>ID_CLIENT</td>\n",
       "      <td>Sequential number for the applicant (to be use...</td>\n",
       "      <td>1-50000, 50001-70000, 70001-90000</td>\n",
       "    </tr>\n",
       "    <tr>\n",
       "      <th>1</th>\n",
       "      <td>CLERK_TYPE</td>\n",
       "      <td>Not informed</td>\n",
       "      <td>C</td>\n",
       "    </tr>\n",
       "    <tr>\n",
       "      <th>2</th>\n",
       "      <td>PAYMENT_DAY</td>\n",
       "      <td>Day of the month for bill payment, chosen by t...</td>\n",
       "      <td>1,5,10,15,20,25</td>\n",
       "    </tr>\n",
       "    <tr>\n",
       "      <th>3</th>\n",
       "      <td>APPLICATION_SUBMISSION_TYPE</td>\n",
       "      <td>Indicates if the application was submitted via...</td>\n",
       "      <td>Web, Carga</td>\n",
       "    </tr>\n",
       "    <tr>\n",
       "      <th>4</th>\n",
       "      <td>QUANT_ADDITIONAL_CARDS</td>\n",
       "      <td>Quantity of additional cards asked for in the ...</td>\n",
       "      <td>1,2,NULL</td>\n",
       "    </tr>\n",
       "  </tbody>\n",
       "</table>\n",
       "</div>"
      ],
      "text/plain": [
       "                          Var_Title  \\\n",
       "COL_ID                                \n",
       "0                         ID_CLIENT   \n",
       "1                        CLERK_TYPE   \n",
       "2                       PAYMENT_DAY   \n",
       "3       APPLICATION_SUBMISSION_TYPE   \n",
       "4            QUANT_ADDITIONAL_CARDS   \n",
       "\n",
       "                                          Var_Description  \\\n",
       "COL_ID                                                      \n",
       "0       Sequential number for the applicant (to be use...   \n",
       "1                                            Not informed   \n",
       "2       Day of the month for bill payment, chosen by t...   \n",
       "3       Indicates if the application was submitted via...   \n",
       "4       Quantity of additional cards asked for in the ...   \n",
       "\n",
       "                            Field_Content  \n",
       "COL_ID                                     \n",
       "0       1-50000, 50001-70000, 70001-90000  \n",
       "1                                       C  \n",
       "2                         1,5,10,15,20,25  \n",
       "3                              Web, Carga  \n",
       "4                                1,2,NULL  "
      ]
     },
     "execution_count": 8,
     "metadata": {},
     "output_type": "execute_result"
    }
   ],
   "source": [
    "df_variables.head()"
   ]
  },
  {
   "cell_type": "markdown",
   "id": "77c1bad6",
   "metadata": {},
   "source": [
    "### Rename modeling data columns\n",
    "\n",
    "the **df_variables** dataframe has the title and description for the columns in **modeling_data** dataframe.\n",
    "\n",
    "We need to:\n",
    "- Check if variable titles are unique.\n",
    "    - In case they aren't rename them in order to make sure there is a 1:1 Title - Column relationship\n",
    "- Rename columns in **modeling_data** dataframe in order to clarify the dataset"
   ]
  },
  {
   "cell_type": "code",
   "execution_count": 9,
   "id": "21c87c5f",
   "metadata": {},
   "outputs": [
    {
     "data": {
      "text/html": [
       "<div>\n",
       "<style scoped>\n",
       "    .dataframe tbody tr th:only-of-type {\n",
       "        vertical-align: middle;\n",
       "    }\n",
       "\n",
       "    .dataframe tbody tr th {\n",
       "        vertical-align: top;\n",
       "    }\n",
       "\n",
       "    .dataframe thead th {\n",
       "        text-align: right;\n",
       "    }\n",
       "</style>\n",
       "<table border=\"1\" class=\"dataframe\">\n",
       "  <thead>\n",
       "    <tr style=\"text-align: right;\">\n",
       "      <th></th>\n",
       "      <th>Var_Title</th>\n",
       "    </tr>\n",
       "  </thead>\n",
       "  <tbody>\n",
       "    <tr>\n",
       "      <th>EDUCATION_LEVEL</th>\n",
       "      <td>2</td>\n",
       "    </tr>\n",
       "  </tbody>\n",
       "</table>\n",
       "</div>"
      ],
      "text/plain": [
       "                 Var_Title\n",
       "EDUCATION_LEVEL          2"
      ]
     },
     "execution_count": 9,
     "metadata": {},
     "output_type": "execute_result"
    }
   ],
   "source": [
    "pd.DataFrame(df_variables.Var_Title\\\n",
    "    .value_counts()\\\n",
    "    .sort_values(ascending= False)[df_variables.Var_Title\\\n",
    "        .value_counts()\\\n",
    "        .sort_values(ascending= False) > 1\n",
    "    ]\n",
    ")"
   ]
  },
  {
   "cell_type": "markdown",
   "id": "e81cef4f",
   "metadata": {},
   "source": [
    "There are two columns with the **EDUCATION_LEVEL** title\n",
    "\n",
    "Lets understand each column with the variables' descriptions"
   ]
  },
  {
   "cell_type": "code",
   "execution_count": 10,
   "id": "02d69857",
   "metadata": {},
   "outputs": [],
   "source": [
    "ed_level_col_descrip_df = pd.DataFrame(\n",
    "    df_variables[\n",
    "        df_variables.Var_Title == \"EDUCATION_LEVEL\"\n",
    "    ].Var_Description\n",
    ")"
   ]
  },
  {
   "cell_type": "code",
   "execution_count": 11,
   "id": "8ae8653c",
   "metadata": {},
   "outputs": [
    {
     "name": "stdout",
     "output_type": "stream",
     "text": [
      "--- Column ID:  9 ---\n",
      "Edducational level in gradual order not informed\n",
      "--- Column ID: 43 ---\n",
      "Mate's educational level in gradual order not informed\n"
     ]
    }
   ],
   "source": [
    "for i, row in ed_level_col_descrip_df.iterrows():\n",
    "    print(\n",
    "        f\"--- Column ID: {i:2d} ---\",\n",
    "        f\"{row.Var_Description}\",\n",
    "        sep='\\n'\n",
    "    )"
   ]
  },
  {
   "cell_type": "markdown",
   "id": "6fdd74eb",
   "metadata": {},
   "source": [
    "#### As we can see, the COL_ID 9 refers to the clients educational level and COL_ID 43 refers to the client mate's educational level. We will then:\n",
    "\n",
    "- Create a dictionary to rename **modeling_data** dataframe columns to map the Column ID with the Variable Title\n",
    "- Customly, define the COL_ID 09 as CLI_EDUCATION_LEVEL\n",
    "- Customly, define the COL_ID 43 as MATE_EDUCATION_LEVEL\n",
    "- We will change the name in **df_variables** and save it in a csv to retrieve it\n",
    "\n",
    "#### Finally, we will rename the columns using the created dictionary as a mapper and set the ID_CLIENT as the dataframe index\n"
   ]
  },
  {
   "cell_type": "code",
   "execution_count": 12,
   "id": "5b810cfd",
   "metadata": {},
   "outputs": [],
   "source": [
    "rename_dict= {column: df_variables.loc[column].Var_Title for column in df_variables.index}\n",
    "rename_dict[9]  = f\"CLI_{rename_dict[9]}\" \n",
    "rename_dict[43] = f\"MATE_{rename_dict[43]}\" "
   ]
  },
  {
   "cell_type": "code",
   "execution_count": 13,
   "id": "38d7978b",
   "metadata": {},
   "outputs": [],
   "source": [
    "modeling_data = modeling_data.rename(\n",
    "    columns= rename_dict\n",
    ").set_index('ID_CLIENT')"
   ]
  },
  {
   "cell_type": "code",
   "execution_count": 17,
   "id": "05e2ee15",
   "metadata": {},
   "outputs": [],
   "source": [
    "df_variables.loc[9, 'Var_Title']= \"CLI_EDUCATION_LEVEL\"\n",
    "df_variables.loc[43, 'Var_Title']= \"MATE_EDUCATION_LEVEL\""
   ]
  },
  {
   "cell_type": "code",
   "execution_count": 19,
   "id": "86dbd110",
   "metadata": {},
   "outputs": [],
   "source": [
    "VAR_DESCRIPTIONS_FILENAME= 'var_descriptions.csv'\n",
    "VAR_DESCRIPTIONS_PATH= os.path.join(\n",
    "    DATA_REPOSITORY,\n",
    "    VAR_DESCRIPTIONS_FILENAME\n",
    ")"
   ]
  },
  {
   "cell_type": "code",
   "execution_count": 20,
   "id": "39889813",
   "metadata": {},
   "outputs": [],
   "source": [
    "df_variables.to_csv(\n",
    "    path_or_buf= VAR_DESCRIPTIONS_PATH\n",
    ")"
   ]
  },
  {
   "cell_type": "markdown",
   "id": "e97c577a",
   "metadata": {},
   "source": [
    "With the raw data structured, we will save it with the name defined in **RAW_DATA_FILENAME** as a csv"
   ]
  },
  {
   "cell_type": "code",
   "execution_count": 118,
   "id": "4a5c975e",
   "metadata": {},
   "outputs": [],
   "source": [
    "RAW_DATA_FILENAME= 'raw_modeling_data.csv'"
   ]
  },
  {
   "cell_type": "code",
   "execution_count": 119,
   "id": "1ffd1885",
   "metadata": {},
   "outputs": [],
   "source": [
    "RAW_DATA_PATH= os.path.join(\n",
    "    DATA_REPOSITORY,\n",
    "    RAW_DATA_FILENAME\n",
    ")"
   ]
  },
  {
   "cell_type": "code",
   "execution_count": 120,
   "id": "d36f2aee",
   "metadata": {},
   "outputs": [
    {
     "data": {
      "text/plain": [
       "'../data/raw_modeling_data.csv'"
      ]
     },
     "execution_count": 120,
     "metadata": {},
     "output_type": "execute_result"
    }
   ],
   "source": [
    "RAW_DATA_PATH"
   ]
  },
  {
   "cell_type": "code",
   "execution_count": 121,
   "id": "cdcf98af",
   "metadata": {},
   "outputs": [],
   "source": [
    "modeling_data.to_csv(\n",
    "    path_or_buf= RAW_DATA_PATH\n",
    ")"
   ]
  }
 ],
 "metadata": {
  "kernelspec": {
   "display_name": "Python 3 (ipykernel)",
   "language": "python",
   "name": "python3"
  },
  "language_info": {
   "codemirror_mode": {
    "name": "ipython",
    "version": 3
   },
   "file_extension": ".py",
   "mimetype": "text/x-python",
   "name": "python",
   "nbconvert_exporter": "python",
   "pygments_lexer": "ipython3",
   "version": "3.8.9"
  }
 },
 "nbformat": 4,
 "nbformat_minor": 5
}
