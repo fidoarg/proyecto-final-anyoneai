{
 "cells": [
  {
   "cell_type": "code",
   "execution_count": 2,
   "metadata": {},
   "outputs": [],
   "source": [
    "import torch\n",
    "import torch.nn as nn\n",
    "from torch.nn.utils import weight_norm\n",
    "from sklearn.pipeline import Pipeline\n",
    "from sklearn.impute import SimpleImputer\n",
    "from sklearn.preprocessing import StandardScaler, FunctionTransformer, OneHotEncoder, OrdinalEncoder\n",
    "from sklearn.compose import ColumnTransformer\n",
    "from sklearn.model_selection import train_test_split, RandomizedSearchCV\n",
    "from sklearn.metrics import roc_auc_score, classification_report\n",
    "import numpy as np\n",
    "import pandas as pd\n",
    "import pickle"
   ]
  },
  {
   "cell_type": "code",
   "execution_count": 3,
   "metadata": {},
   "outputs": [],
   "source": [
    "with open('../data/dataset.pkl', 'rb') as f:\n",
    "    features, labels = pickle.load(f)\n",
    "X_train, X_test, y_train, y_test = train_test_split(features, labels, test_size=0.2, random_state=42)"
   ]
  },
  {
   "cell_type": "code",
   "execution_count": 4,
   "metadata": {},
   "outputs": [],
   "source": [
    "class Chomp1d(nn.Module):\n",
    "    def __init__(self, chomp_size):\n",
    "        super(Chomp1d, self).__init__()\n",
    "        self.chomp_size = chomp_size\n",
    "\n",
    "    def forward(self, x):\n",
    "        return x[:, :, :-self.chomp_size].contiguous()"
   ]
  },
  {
   "cell_type": "code",
   "execution_count": 26,
   "metadata": {},
   "outputs": [],
   "source": [
    "class TCN_block(nn.Module):\n",
    "    def __init__(self, n_inputs, n_outputs, kernel_size, dilation, padding, stride=1, dropout=0.2):\n",
    "        super(TCN_block, self).__init__()\n",
    "        self.conv = weight_norm(nn.Conv1d(n_inputs, n_outputs, kernel_size,\n",
    "                                           stride=stride, padding=padding, dilation=dilation))\n",
    "# [n_outputs, n_inputs, kernel_size]\n",
    "        self.chomp = Chomp1d(padding)\n",
    "        self.relu = nn.ReLU()\n",
    "        self.dropout = nn.Dropout(dropout)\n",
    "\n",
    "        self.net = nn.Sequential(self.conv, self.chomp, self.relu, self.dropout)\n",
    "        self.downsample = nn.Conv1d(n_inputs, n_outputs, 1) if n_inputs != n_outputs else None\n",
    "        self.init_weights()\n",
    "\n",
    "    def init_weights(self):\n",
    "        self.conv.weight.data.normal_(0, 0.01)\n",
    "        if self.downsample is not None:\n",
    "            self.downsample.weight.data.normal_(0, 0.01)\n",
    "\n",
    "    def forward(self, x):\n",
    "        out = self.net(x)\n",
    "        res = x if self.downsample is None else self.downsample(x)\n",
    "        return self.relu(out + res)"
   ]
  },
  {
   "cell_type": "code",
   "execution_count": 70,
   "metadata": {},
   "outputs": [],
   "source": [
    "class TCN_Model(nn.Module):\n",
    "    def __init__(self, batch_size, firs_layer_outputs, kernel_size, dilation):\n",
    "        super(TCN_Model, self).__init__()\n",
    "        padding = dilation * (kernel_size - 1)\n",
    "        self.tcn1 = TCN_block(1, firs_layer_outputs, kernel_size, dilation, padding)\n",
    "        self.tcn2 = TCN_block(firs_layer_outputs, firs_layer_outputs * 5, kernel_size, dilation, padding)\n",
    "        self.flatten = nn.Flatten()\n",
    "        self.dense1 = nn.Linear(n_outputs//5, n_outputs//15)\n",
    "        self.dense2 = nn.Linear(n_outputs//15, n_outputs//30)\n",
    "        self.dense3 = nn.Linear(n_outputs//30, n_outputs//60)\n",
    "        self.dense4 = nn.Linear(n_outputs//60, n_outputs//120)\n",
    "        self.dense_layers = nn.Sequential(self.dense1, nn.ReLU(),\n",
    "                                          self.dense2, nn.ReLU(),\n",
    "                                          self.dense3, nn.ReLU(),\n",
    "                                          self.dense4, nn.Sigmoid())\n",
    "        self.init_weights()\n",
    "        \n",
    "    def init_weights(self):\n",
    "        self.dense1.weight.data.normal_(0, 0.01)\n",
    "        self.dense2.weight.data.normal_(0, 0.01)\n",
    "        self.dense3.weight.data.normal_(0, 0.01)\n",
    "        self.dense4.weight.data.normal_(0, 0.01)\n",
    "    \n",
    "    def forward(self, x):\n",
    "        conv_out = self.conv_layers(x)\n",
    "        torch.reshape(conv_out,(1,len(conv_out)))\n",
    "        return self.dense_layers(conv_out)"
   ]
  },
  {
   "cell_type": "code",
   "execution_count": 60,
   "metadata": {},
   "outputs": [],
   "source": [
    "def outlier_handler(df):\n",
    "    q1 = df.quantile(0.25)\n",
    "    q3 = df.quantile(0.75)\n",
    "    IQR = q3-q1\n",
    "    lwr_bound = q1-(1.5*IQR)\n",
    "    upr_bound = q3+(1.5*IQR)\n",
    "    df = np.where(df > upr_bound, df.median(), np.where(df < lwr_bound, df.median(), df))\n",
    "    return df\n",
    "\n",
    "numeric_transformer = Pipeline([\n",
    "    ('Outlier_handler', FunctionTransformer(outlier_handler)),\n",
    "    ('Imputer', SimpleImputer(strategy='median'))\n",
    "])\n",
    "\n",
    "categorical_transformer = Pipeline([\n",
    "    ('Imputer', SimpleImputer(strategy='constant', fill_value='Missing')),\n",
    "    ('Binary_encoder', OneHotEncoder(sparse=False, drop='if_binary', handle_unknown='ignore'))\n",
    "    # ('encoder', OrdinalEncoder(handle_unknown='use_encoded_value', unknown_value=-1))\n",
    "])\n",
    "\n",
    "numeric_features = X_train.select_dtypes(['int64', 'float64']).columns\n",
    "cat_cols = X_train.select_dtypes('category').columns\n",
    "preprocessor = ColumnTransformer([\n",
    "    (\"num\", numeric_transformer, numeric_features),\n",
    "    (\"cat\", categorical_transformer, cat_cols)\n",
    "])\n",
    "\n",
    "proc = Pipeline([\n",
    "    (\"preprocessor\", preprocessor),\n",
    "    (\"scaler\", StandardScaler())\n",
    "])"
   ]
  },
  {
   "cell_type": "code",
   "execution_count": 74,
   "metadata": {},
   "outputs": [],
   "source": [
    "processed_data = proc.fit_transform(X_train, y_train)\n",
    "data_shape = processed_data.shape\n",
    "processed_data = processed_data.reshape([data_shape[0], 1, data_shape[1]])\n",
    "batch_size = 40\n",
    "\n",
    "training_set = []\n",
    "for i in range(len(processed_data)):\n",
    "   training_set.append([processed_data[i], y_train.to_numpy()[i]])\n",
    "\n",
    "training_loader = torch.utils.data.DataLoader(training_set, batch_size=batch_size, shuffle=False, num_workers=4)"
   ]
  },
  {
   "cell_type": "code",
   "execution_count": 71,
   "metadata": {},
   "outputs": [],
   "source": [
    "firs_layer_outputs = 5\n",
    "kernel_size = 2\n",
    "dilation = 1\n",
    "\n",
    "model = TCN_Model(firs_layer_outputs, kernel_size, dilation)\n",
    "loss_fn = nn.BCELoss()\n",
    "optimizer = torch.optim.Adam(model.parameters(), lr=0.001)"
   ]
  },
  {
   "cell_type": "code",
   "execution_count": 72,
   "metadata": {},
   "outputs": [],
   "source": [
    "def train_one_epoch(epoch_index, tb_writer):\n",
    "    running_loss = 0.\n",
    "    last_loss = 0.\n",
    "\n",
    "    # Here, we use enumerate(training_loader) instead of\n",
    "    # iter(training_loader) so that we can track the batch\n",
    "    # index and do some intra-epoch reporting\n",
    "    \n",
    "    for i, data in enumerate(training_loader):\n",
    "        # Every data instance is an input + label pair\n",
    "        inputs, labels = data\n",
    "\n",
    "        # Zero your gradients for every batch!\n",
    "        optimizer.zero_grad()\n",
    "\n",
    "        # Make predictions for this batch\n",
    "        \n",
    "        outputs = model(inputs.float())\n",
    "\n",
    "        # Compute the loss and its gradients\n",
    "        loss = loss_fn(outputs, labels)\n",
    "        loss.backward()\n",
    "\n",
    "        # Adjust learning weights\n",
    "        optimizer.step()\n",
    "\n",
    "        # Gather data and report\n",
    "        running_loss += loss.item()\n",
    "        if i % 1000 == 999:\n",
    "            last_loss = running_loss / 1000 # loss per batch\n",
    "            print('  batch {} loss: {}'.format(i + 1, last_loss))\n",
    "            tb_x = epoch_index * len(training_loader) + i + 1\n",
    "            tb_writer.add_scalar('Loss/train', last_loss, tb_x)\n",
    "            running_loss = 0.\n",
    "\n",
    "    return last_loss"
   ]
  },
  {
   "cell_type": "code",
   "execution_count": 73,
   "metadata": {},
   "outputs": [
    {
     "ename": "TypeError",
     "evalue": "reshape(): argument 'shape' must be tuple of ints, but found element of type builtin_function_or_method at pos 2",
     "output_type": "error",
     "traceback": [
      "\u001b[0;31m---------------------------------------------------------------------------\u001b[0m",
      "\u001b[0;31mTypeError\u001b[0m                                 Traceback (most recent call last)",
      "\u001b[1;32m/home/toldex/Notebooks/anyoneai/proyecto-final-anyoneai/proyecto-final-anyoneai/notebooks/TCN_model.ipynb Celda 10\u001b[0m in \u001b[0;36m<cell line: 10>\u001b[0;34m()\u001b[0m\n\u001b[1;32m      <a href='vscode-notebook-cell://wsl%2Bubuntu/home/toldex/Notebooks/anyoneai/proyecto-final-anyoneai/proyecto-final-anyoneai/notebooks/TCN_model.ipynb#X12sdnNjb2RlLXJlbW90ZQ%3D%3D?line=7'>8</a>\u001b[0m model \u001b[39m=\u001b[39m model\u001b[39m.\u001b[39mfloat()\n\u001b[1;32m      <a href='vscode-notebook-cell://wsl%2Bubuntu/home/toldex/Notebooks/anyoneai/proyecto-final-anyoneai/proyecto-final-anyoneai/notebooks/TCN_model.ipynb#X12sdnNjb2RlLXJlbW90ZQ%3D%3D?line=8'>9</a>\u001b[0m model\u001b[39m.\u001b[39mtrain(\u001b[39mTrue\u001b[39;00m)\n\u001b[0;32m---> <a href='vscode-notebook-cell://wsl%2Bubuntu/home/toldex/Notebooks/anyoneai/proyecto-final-anyoneai/proyecto-final-anyoneai/notebooks/TCN_model.ipynb#X12sdnNjb2RlLXJlbW90ZQ%3D%3D?line=9'>10</a>\u001b[0m avg_loss \u001b[39m=\u001b[39m train_one_epoch(epoch_number, writer)\n",
      "\u001b[1;32m/home/toldex/Notebooks/anyoneai/proyecto-final-anyoneai/proyecto-final-anyoneai/notebooks/TCN_model.ipynb Celda 10\u001b[0m in \u001b[0;36mtrain_one_epoch\u001b[0;34m(epoch_index, tb_writer)\u001b[0m\n\u001b[1;32m     <a href='vscode-notebook-cell://wsl%2Bubuntu/home/toldex/Notebooks/anyoneai/proyecto-final-anyoneai/proyecto-final-anyoneai/notebooks/TCN_model.ipynb#X12sdnNjb2RlLXJlbW90ZQ%3D%3D?line=13'>14</a>\u001b[0m optimizer\u001b[39m.\u001b[39mzero_grad()\n\u001b[1;32m     <a href='vscode-notebook-cell://wsl%2Bubuntu/home/toldex/Notebooks/anyoneai/proyecto-final-anyoneai/proyecto-final-anyoneai/notebooks/TCN_model.ipynb#X12sdnNjb2RlLXJlbW90ZQ%3D%3D?line=15'>16</a>\u001b[0m \u001b[39m# Make predictions for this batch\u001b[39;00m\n\u001b[0;32m---> <a href='vscode-notebook-cell://wsl%2Bubuntu/home/toldex/Notebooks/anyoneai/proyecto-final-anyoneai/proyecto-final-anyoneai/notebooks/TCN_model.ipynb#X12sdnNjb2RlLXJlbW90ZQ%3D%3D?line=17'>18</a>\u001b[0m outputs \u001b[39m=\u001b[39m model(inputs\u001b[39m.\u001b[39;49mfloat())\n\u001b[1;32m     <a href='vscode-notebook-cell://wsl%2Bubuntu/home/toldex/Notebooks/anyoneai/proyecto-final-anyoneai/proyecto-final-anyoneai/notebooks/TCN_model.ipynb#X12sdnNjb2RlLXJlbW90ZQ%3D%3D?line=19'>20</a>\u001b[0m \u001b[39m# Compute the loss and its gradients\u001b[39;00m\n\u001b[1;32m     <a href='vscode-notebook-cell://wsl%2Bubuntu/home/toldex/Notebooks/anyoneai/proyecto-final-anyoneai/proyecto-final-anyoneai/notebooks/TCN_model.ipynb#X12sdnNjb2RlLXJlbW90ZQ%3D%3D?line=20'>21</a>\u001b[0m loss \u001b[39m=\u001b[39m loss_fn(outputs, labels)\n",
      "File \u001b[0;32m~/miniconda3/envs/tensorflow/lib/python3.9/site-packages/torch/nn/modules/module.py:1102\u001b[0m, in \u001b[0;36mModule._call_impl\u001b[0;34m(self, *input, **kwargs)\u001b[0m\n\u001b[1;32m   1098\u001b[0m \u001b[39m# If we don't have any hooks, we want to skip the rest of the logic in\u001b[39;00m\n\u001b[1;32m   1099\u001b[0m \u001b[39m# this function, and just call forward.\u001b[39;00m\n\u001b[1;32m   1100\u001b[0m \u001b[39mif\u001b[39;00m \u001b[39mnot\u001b[39;00m (\u001b[39mself\u001b[39m\u001b[39m.\u001b[39m_backward_hooks \u001b[39mor\u001b[39;00m \u001b[39mself\u001b[39m\u001b[39m.\u001b[39m_forward_hooks \u001b[39mor\u001b[39;00m \u001b[39mself\u001b[39m\u001b[39m.\u001b[39m_forward_pre_hooks \u001b[39mor\u001b[39;00m _global_backward_hooks\n\u001b[1;32m   1101\u001b[0m         \u001b[39mor\u001b[39;00m _global_forward_hooks \u001b[39mor\u001b[39;00m _global_forward_pre_hooks):\n\u001b[0;32m-> 1102\u001b[0m     \u001b[39mreturn\u001b[39;00m forward_call(\u001b[39m*\u001b[39;49m\u001b[39minput\u001b[39;49m, \u001b[39m*\u001b[39;49m\u001b[39m*\u001b[39;49mkwargs)\n\u001b[1;32m   1103\u001b[0m \u001b[39m# Do not call functions when jit is used\u001b[39;00m\n\u001b[1;32m   1104\u001b[0m full_backward_hooks, non_full_backward_hooks \u001b[39m=\u001b[39m [], []\n",
      "\u001b[1;32m/home/toldex/Notebooks/anyoneai/proyecto-final-anyoneai/proyecto-final-anyoneai/notebooks/TCN_model.ipynb Celda 10\u001b[0m in \u001b[0;36mTCN_Model.forward\u001b[0;34m(self, x)\u001b[0m\n\u001b[1;32m     <a href='vscode-notebook-cell://wsl%2Bubuntu/home/toldex/Notebooks/anyoneai/proyecto-final-anyoneai/proyecto-final-anyoneai/notebooks/TCN_model.ipynb#X12sdnNjb2RlLXJlbW90ZQ%3D%3D?line=22'>23</a>\u001b[0m \u001b[39mdef\u001b[39;00m \u001b[39mforward\u001b[39m(\u001b[39mself\u001b[39m, x):\n\u001b[1;32m     <a href='vscode-notebook-cell://wsl%2Bubuntu/home/toldex/Notebooks/anyoneai/proyecto-final-anyoneai/proyecto-final-anyoneai/notebooks/TCN_model.ipynb#X12sdnNjb2RlLXJlbW90ZQ%3D%3D?line=23'>24</a>\u001b[0m     conv_out \u001b[39m=\u001b[39m \u001b[39mself\u001b[39m\u001b[39m.\u001b[39mconv_layers(x)\n\u001b[0;32m---> <a href='vscode-notebook-cell://wsl%2Bubuntu/home/toldex/Notebooks/anyoneai/proyecto-final-anyoneai/proyecto-final-anyoneai/notebooks/TCN_model.ipynb#X12sdnNjb2RlLXJlbW90ZQ%3D%3D?line=24'>25</a>\u001b[0m     dense_in \u001b[39m=\u001b[39m torch\u001b[39m.\u001b[39;49mreshape(conv_out,(\u001b[39m1\u001b[39;49m,conv_out\u001b[39m.\u001b[39;49msize))\n\u001b[1;32m     <a href='vscode-notebook-cell://wsl%2Bubuntu/home/toldex/Notebooks/anyoneai/proyecto-final-anyoneai/proyecto-final-anyoneai/notebooks/TCN_model.ipynb#X12sdnNjb2RlLXJlbW90ZQ%3D%3D?line=25'>26</a>\u001b[0m     \u001b[39mreturn\u001b[39;00m \u001b[39mself\u001b[39m\u001b[39m.\u001b[39mdense_layers(dense_in)\n",
      "\u001b[0;31mTypeError\u001b[0m: reshape(): argument 'shape' must be tuple of ints, but found element of type builtin_function_or_method at pos 2"
     ]
    }
   ],
   "source": [
    "from datetime import datetime\n",
    "from torch.utils.tensorboard import SummaryWriter\n",
    "\n",
    "timestamp = datetime.now().strftime('%Y%m%d_%H%M%S')\n",
    "writer = SummaryWriter('runs/fashion_trainer_{}'.format(timestamp))\n",
    "epoch_number = 0\n",
    "\n",
    "model = model.float()\n",
    "model.train(True)\n",
    "avg_loss = train_one_epoch(epoch_number, writer)"
   ]
  }
 ],
 "metadata": {
  "kernelspec": {
   "display_name": "tensorflow",
   "language": "python",
   "name": "tensorflow"
  },
  "language_info": {
   "codemirror_mode": {
    "name": "ipython",
    "version": 3
   },
   "file_extension": ".py",
   "mimetype": "text/x-python",
   "name": "python",
   "nbconvert_exporter": "python",
   "pygments_lexer": "ipython3",
   "version": "3.9.12"
  },
  "orig_nbformat": 4
 },
 "nbformat": 4,
 "nbformat_minor": 2
}
