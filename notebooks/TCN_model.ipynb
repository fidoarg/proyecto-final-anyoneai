{
 "cells": [
  {
   "cell_type": "code",
   "execution_count": 1,
   "metadata": {},
   "outputs": [],
   "source": [
    "import torch\n",
    "import torch.nn as nn\n",
    "from torch.nn.utils import weight_norm\n",
    "from datetime import datetime\n",
    "from torch.utils.tensorboard import SummaryWriter\n",
    "from sklearn.pipeline import Pipeline\n",
    "from sklearn.impute import SimpleImputer\n",
    "from sklearn.preprocessing import StandardScaler, FunctionTransformer, OneHotEncoder, OrdinalEncoder\n",
    "from sklearn.compose import ColumnTransformer\n",
    "from sklearn.model_selection import train_test_split, RandomizedSearchCV\n",
    "from sklearn.metrics import roc_auc_score, classification_report, recall_score\n",
    "import numpy as np\n",
    "import pandas as pd\n",
    "import pickle"
   ]
  },
  {
   "cell_type": "code",
   "execution_count": 2,
   "metadata": {},
   "outputs": [],
   "source": [
    "class Chomp1d(nn.Module):\n",
    "    def __init__(self, chomp_size):\n",
    "        super(Chomp1d, self).__init__()\n",
    "        self.chomp_size = chomp_size\n",
    "\n",
    "    def forward(self, x):\n",
    "        return x[:, :, :-self.chomp_size].contiguous()"
   ]
  },
  {
   "cell_type": "code",
   "execution_count": 3,
   "metadata": {},
   "outputs": [],
   "source": [
    "class TCN_block(nn.Module):\n",
    "    def __init__(self, n_inputs, n_outputs, kernel_size, dilation, padding, stride=1, dropout=0.2):\n",
    "        super(TCN_block, self).__init__()\n",
    "        self.conv = weight_norm(nn.Conv1d(n_inputs, n_outputs, kernel_size,\n",
    "                                           stride=stride, padding=padding, dilation=dilation))\n",
    "        self.chomp = Chomp1d(padding)\n",
    "        self.relu = nn.ReLU()\n",
    "        self.dropout = nn.Dropout(dropout)\n",
    "\n",
    "        self.net = nn.Sequential(self.conv, self.chomp, self.relu, self.dropout)\n",
    "        self.downsample = nn.Conv1d(n_inputs, n_outputs, 1) if n_inputs != n_outputs else None\n",
    "        self.init_weights()\n",
    "\n",
    "    def init_weights(self):\n",
    "        self.conv.weight.data.normal_(0, 0.01)\n",
    "        if self.downsample is not None:\n",
    "            self.downsample.weight.data.normal_(0, 0.01)\n",
    "\n",
    "    def forward(self, x):\n",
    "        out = self.net(x)\n",
    "        res = x if self.downsample is None else self.downsample(x)\n",
    "        return self.relu(out + res)"
   ]
  },
  {
   "cell_type": "code",
   "execution_count": 11,
   "metadata": {},
   "outputs": [],
   "source": [
    "class TCN_Model(nn.Module):\n",
    "    def __init__(self, n_features, first_layer_outputs, kernel_size, dilation):\n",
    "        super(TCN_Model, self).__init__()\n",
    "        padding = dilation * (kernel_size - 1)\n",
    "        first_linear_input_size = n_features*first_layer_outputs*5\n",
    "        self.tcn1 = TCN_block(1, first_layer_outputs, kernel_size, dilation, padding)\n",
    "        self.tcn2 = TCN_block(first_layer_outputs, first_layer_outputs * 5, kernel_size, dilation, padding)\n",
    "        self.flatten = nn.Flatten()\n",
    "        self.dense1 = nn.Linear(first_linear_input_size, first_linear_input_size//15)\n",
    "        self.dense2 = nn.Linear(first_linear_input_size//15, first_linear_input_size//30)\n",
    "        self.dense3 = nn.Linear(first_linear_input_size//30, first_linear_input_size//60)\n",
    "        self.dense4 = nn.Linear(first_linear_input_size//60, first_linear_input_size//(120*19))\n",
    "        self.dense_layers = nn.Sequential(self.tcn1, self.tcn2, self.flatten,\n",
    "                                          self.dense1, nn.ReLU(),\n",
    "                                          self.dense2, nn.ReLU(),\n",
    "                                          self.dense3, nn.ReLU(),\n",
    "                                          self.dense4, nn.Sigmoid())\n",
    "        self.init_weights()\n",
    "        \n",
    "    def init_weights(self):\n",
    "        self.dense1.weight.data.normal_(0, 0.01)\n",
    "        self.dense2.weight.data.normal_(0, 0.01)\n",
    "        self.dense3.weight.data.normal_(0, 0.01)\n",
    "        self.dense4.weight.data.normal_(0, 0.01)\n",
    "    \n",
    "    def forward(self, x):\n",
    "        return self.dense_layers(x)"
   ]
  },
  {
   "cell_type": "code",
   "execution_count": 5,
   "metadata": {},
   "outputs": [],
   "source": [
    "with open('../data/dataset.pkl', 'rb') as f:\n",
    "    features, labels = pickle.load(f)\n",
    "X_train, X_test, y_train, y_test = train_test_split(features, labels, test_size=0.2, random_state=42)\n",
    "X_train, X_val, y_train, y_val = train_test_split(X_train, y_train, test_size=0.2, random_state=42)"
   ]
  },
  {
   "cell_type": "code",
   "execution_count": 38,
   "metadata": {},
   "outputs": [],
   "source": [
    "## Preprocessor proc\n",
    "def outlier_handler(df):\n",
    "    q1 = df.quantile(0.25)\n",
    "    q3 = df.quantile(0.75)\n",
    "    IQR = q3-q1\n",
    "    lwr_bound = q1-(1.5*IQR)\n",
    "    upr_bound = q3+(1.5*IQR)\n",
    "    df = np.where(df > upr_bound, df.median(), np.where(df < lwr_bound, df.median(), df))\n",
    "    return df\n",
    "\n",
    "numeric_transformer = Pipeline([\n",
    "    ('Outlier_handler', FunctionTransformer(outlier_handler)),\n",
    "    ('Imputer', SimpleImputer(strategy='median'))\n",
    "])\n",
    "\n",
    "categorical_transformer = Pipeline([\n",
    "    ('Imputer', SimpleImputer(strategy='constant', fill_value='Missing')),\n",
    "    ('Binary_encoder', OneHotEncoder(sparse=False, drop='if_binary', handle_unknown='ignore'))\n",
    "    # ('encoder', OrdinalEncoder(handle_unknown='use_encoded_value', unknown_value=-1))\n",
    "])\n",
    "\n",
    "numeric_features = X_train.select_dtypes(['int64', 'float64']).columns\n",
    "cat_cols = X_train.select_dtypes('category').columns\n",
    "preprocessor = ColumnTransformer([\n",
    "    (\"num\", numeric_transformer, numeric_features),\n",
    "    (\"cat\", categorical_transformer, cat_cols)\n",
    "])\n",
    "\n",
    "proc = Pipeline([\n",
    "    (\"preprocessor\", preprocessor),\n",
    "    (\"scaler\", StandardScaler())\n",
    "])"
   ]
  },
  {
   "cell_type": "code",
   "execution_count": 53,
   "metadata": {},
   "outputs": [
    {
     "name": "stderr",
     "output_type": "stream",
     "text": [
      "/home/toldex/miniconda3/envs/tensorflow/lib/python3.9/site-packages/sklearn/preprocessing/_encoders.py:170: UserWarning: Found unknown categories in columns [5] during transform. These unknown categories will be encoded as all zeros\n",
      "  warnings.warn(\n"
     ]
    }
   ],
   "source": [
    "def generate_dataloader(X, y, proc_fit_transform, batch_size):\n",
    "   X = proc_fit_transform(X)\n",
    "   X = X.reshape([X.shape[0], 1, X.shape[1]])\n",
    "   y = y.to_numpy().reshape([X.shape[0], 1])\n",
    "   dataset = []\n",
    "   for i in range(X.shape[0]):\n",
    "      dataset.append([X[i], y[i]])\n",
    "   loader = torch.utils.data.DataLoader(dataset, batch_size=batch_size, shuffle=False, num_workers=4)\n",
    "   return X.shape[2], loader\n",
    "\n",
    "batch_size = 100\n",
    "\n",
    "num_cols, train_loader = generate_dataloader(X_train, y_train, proc.fit_transform, batch_size)\n",
    "_, test_loader = generate_dataloader(X_test, y_test, proc.transform, batch_size)\n",
    "_, val_loader = generate_dataloader(X_val, y_val, proc.transform, batch_size)"
   ]
  },
  {
   "cell_type": "code",
   "execution_count": 36,
   "metadata": {},
   "outputs": [],
   "source": [
    "def one_epoch(epoch_index, tb_writer, loader):\n",
    "    last_loss = 0.\n",
    "    roc_auc = 0.\n",
    "    recall = 0.\n",
    "    \n",
    "    for i, data in enumerate(loader):\n",
    "        inputs, labels = data\n",
    "        optimizer.zero_grad()\n",
    "        outputs = model(inputs.to(torch.float32))\n",
    "        print(outputs)\n",
    "        loss = loss_fn(outputs, labels.to(torch.float32))\n",
    "        loss.backward()\n",
    "        optimizer.step()\n",
    "        last_loss += loss.item()\n",
    "        roc_auc += roc_auc_score(labels, outputs.detach().numpy())\n",
    "        recall += recall_score(labels, outputs.detach().numpy().round())\n",
    "        \n",
    "    last_loss = last_loss / (i + 1)\n",
    "    roc_auc = roc_auc / (i + 1)\n",
    "    recall = recall / (i + 1)\n",
    "    print(f'Epoch: {epoch_index} | loss: {last_loss} | ROC_AUC: {roc_auc} | Recall: {recall}')\n",
    "    tb_x = epoch_index * len(training_loader) + i + 1\n",
    "    tb_writer.add_scalar('Loss/train', last_loss, tb_x)\n",
    "\n",
    "    return last_loss"
   ]
  },
  {
   "cell_type": "code",
   "execution_count": 55,
   "metadata": {},
   "outputs": [],
   "source": [
    "first_layer_outputs = 5\n",
    "kernel_size = 2\n",
    "dilation = 2\n",
    "\n",
    "model = TCN_Model(num_cols, first_layer_outputs, kernel_size, dilation)\n",
    "loss_fn = nn.BCELoss()\n",
    "optimizer = torch.optim.Adam(model.parameters(), lr=0.001)"
   ]
  },
  {
   "cell_type": "code",
   "execution_count": 35,
   "metadata": {},
   "outputs": [
    {
     "name": "stdout",
     "output_type": "stream",
     "text": [
      "tensor([], size=(100, 0), grad_fn=<SigmoidBackward0>)\n"
     ]
    },
    {
     "ename": "ValueError",
     "evalue": "Using a target size (torch.Size([100, 1])) that is different to the input size (torch.Size([100, 0])) is deprecated. Please ensure they have the same size.",
     "output_type": "error",
     "traceback": [
      "\u001b[0;31m---------------------------------------------------------------------------\u001b[0m",
      "\u001b[0;31mValueError\u001b[0m                                Traceback (most recent call last)",
      "\u001b[1;32m/home/toldex/Notebooks/anyoneai/proyecto-final-anyoneai/proyecto-final-anyoneai/notebooks/TCN_model.ipynb Celda 10\u001b[0m in \u001b[0;36m<cell line: 4>\u001b[0;34m()\u001b[0m\n\u001b[1;32m      <a href='vscode-notebook-cell://wsl%2Bubuntu/home/toldex/Notebooks/anyoneai/proyecto-final-anyoneai/proyecto-final-anyoneai/notebooks/TCN_model.ipynb#X12sdnNjb2RlLXJlbW90ZQ%3D%3D?line=4'>5</a>\u001b[0m model \u001b[39m=\u001b[39m model\u001b[39m.\u001b[39mto(torch\u001b[39m.\u001b[39mfloat32)\n\u001b[1;32m      <a href='vscode-notebook-cell://wsl%2Bubuntu/home/toldex/Notebooks/anyoneai/proyecto-final-anyoneai/proyecto-final-anyoneai/notebooks/TCN_model.ipynb#X12sdnNjb2RlLXJlbW90ZQ%3D%3D?line=5'>6</a>\u001b[0m model\u001b[39m.\u001b[39mtrain(\u001b[39mTrue\u001b[39;00m)\n\u001b[0;32m----> <a href='vscode-notebook-cell://wsl%2Bubuntu/home/toldex/Notebooks/anyoneai/proyecto-final-anyoneai/proyecto-final-anyoneai/notebooks/TCN_model.ipynb#X12sdnNjb2RlLXJlbW90ZQ%3D%3D?line=6'>7</a>\u001b[0m avg_loss \u001b[39m=\u001b[39m one_epoch(EPOCH, writer, train_loader)\n\u001b[1;32m      <a href='vscode-notebook-cell://wsl%2Bubuntu/home/toldex/Notebooks/anyoneai/proyecto-final-anyoneai/proyecto-final-anyoneai/notebooks/TCN_model.ipynb#X12sdnNjb2RlLXJlbW90ZQ%3D%3D?line=7'>8</a>\u001b[0m model\u001b[39m.\u001b[39mtrain(\u001b[39mFalse\u001b[39;00m)\n\u001b[1;32m      <a href='vscode-notebook-cell://wsl%2Bubuntu/home/toldex/Notebooks/anyoneai/proyecto-final-anyoneai/proyecto-final-anyoneai/notebooks/TCN_model.ipynb#X12sdnNjb2RlLXJlbW90ZQ%3D%3D?line=8'>9</a>\u001b[0m vavg_loss \u001b[39m=\u001b[39m one_epoch(EPOCH, writer, val_loader)\n",
      "\u001b[1;32m/home/toldex/Notebooks/anyoneai/proyecto-final-anyoneai/proyecto-final-anyoneai/notebooks/TCN_model.ipynb Celda 10\u001b[0m in \u001b[0;36mone_epoch\u001b[0;34m(epoch_index, tb_writer, loader)\u001b[0m\n\u001b[1;32m      <a href='vscode-notebook-cell://wsl%2Bubuntu/home/toldex/Notebooks/anyoneai/proyecto-final-anyoneai/proyecto-final-anyoneai/notebooks/TCN_model.ipynb#X12sdnNjb2RlLXJlbW90ZQ%3D%3D?line=8'>9</a>\u001b[0m outputs \u001b[39m=\u001b[39m model(inputs\u001b[39m.\u001b[39mto(torch\u001b[39m.\u001b[39mfloat32))\n\u001b[1;32m     <a href='vscode-notebook-cell://wsl%2Bubuntu/home/toldex/Notebooks/anyoneai/proyecto-final-anyoneai/proyecto-final-anyoneai/notebooks/TCN_model.ipynb#X12sdnNjb2RlLXJlbW90ZQ%3D%3D?line=9'>10</a>\u001b[0m \u001b[39mprint\u001b[39m(outputs)\n\u001b[0;32m---> <a href='vscode-notebook-cell://wsl%2Bubuntu/home/toldex/Notebooks/anyoneai/proyecto-final-anyoneai/proyecto-final-anyoneai/notebooks/TCN_model.ipynb#X12sdnNjb2RlLXJlbW90ZQ%3D%3D?line=10'>11</a>\u001b[0m loss \u001b[39m=\u001b[39m loss_fn(outputs, labels\u001b[39m.\u001b[39;49mto(torch\u001b[39m.\u001b[39;49mfloat32))\n\u001b[1;32m     <a href='vscode-notebook-cell://wsl%2Bubuntu/home/toldex/Notebooks/anyoneai/proyecto-final-anyoneai/proyecto-final-anyoneai/notebooks/TCN_model.ipynb#X12sdnNjb2RlLXJlbW90ZQ%3D%3D?line=11'>12</a>\u001b[0m loss\u001b[39m.\u001b[39mbackward()\n\u001b[1;32m     <a href='vscode-notebook-cell://wsl%2Bubuntu/home/toldex/Notebooks/anyoneai/proyecto-final-anyoneai/proyecto-final-anyoneai/notebooks/TCN_model.ipynb#X12sdnNjb2RlLXJlbW90ZQ%3D%3D?line=12'>13</a>\u001b[0m optimizer\u001b[39m.\u001b[39mstep()\n",
      "File \u001b[0;32m~/miniconda3/envs/tensorflow/lib/python3.9/site-packages/torch/nn/modules/module.py:1102\u001b[0m, in \u001b[0;36mModule._call_impl\u001b[0;34m(self, *input, **kwargs)\u001b[0m\n\u001b[1;32m   1098\u001b[0m \u001b[39m# If we don't have any hooks, we want to skip the rest of the logic in\u001b[39;00m\n\u001b[1;32m   1099\u001b[0m \u001b[39m# this function, and just call forward.\u001b[39;00m\n\u001b[1;32m   1100\u001b[0m \u001b[39mif\u001b[39;00m \u001b[39mnot\u001b[39;00m (\u001b[39mself\u001b[39m\u001b[39m.\u001b[39m_backward_hooks \u001b[39mor\u001b[39;00m \u001b[39mself\u001b[39m\u001b[39m.\u001b[39m_forward_hooks \u001b[39mor\u001b[39;00m \u001b[39mself\u001b[39m\u001b[39m.\u001b[39m_forward_pre_hooks \u001b[39mor\u001b[39;00m _global_backward_hooks\n\u001b[1;32m   1101\u001b[0m         \u001b[39mor\u001b[39;00m _global_forward_hooks \u001b[39mor\u001b[39;00m _global_forward_pre_hooks):\n\u001b[0;32m-> 1102\u001b[0m     \u001b[39mreturn\u001b[39;00m forward_call(\u001b[39m*\u001b[39;49m\u001b[39minput\u001b[39;49m, \u001b[39m*\u001b[39;49m\u001b[39m*\u001b[39;49mkwargs)\n\u001b[1;32m   1103\u001b[0m \u001b[39m# Do not call functions when jit is used\u001b[39;00m\n\u001b[1;32m   1104\u001b[0m full_backward_hooks, non_full_backward_hooks \u001b[39m=\u001b[39m [], []\n",
      "File \u001b[0;32m~/miniconda3/envs/tensorflow/lib/python3.9/site-packages/torch/nn/modules/loss.py:603\u001b[0m, in \u001b[0;36mBCELoss.forward\u001b[0;34m(self, input, target)\u001b[0m\n\u001b[1;32m    602\u001b[0m \u001b[39mdef\u001b[39;00m \u001b[39mforward\u001b[39m(\u001b[39mself\u001b[39m, \u001b[39minput\u001b[39m: Tensor, target: Tensor) \u001b[39m-\u001b[39m\u001b[39m>\u001b[39m Tensor:\n\u001b[0;32m--> 603\u001b[0m     \u001b[39mreturn\u001b[39;00m F\u001b[39m.\u001b[39;49mbinary_cross_entropy(\u001b[39minput\u001b[39;49m, target, weight\u001b[39m=\u001b[39;49m\u001b[39mself\u001b[39;49m\u001b[39m.\u001b[39;49mweight, reduction\u001b[39m=\u001b[39;49m\u001b[39mself\u001b[39;49m\u001b[39m.\u001b[39;49mreduction)\n",
      "File \u001b[0;32m~/miniconda3/envs/tensorflow/lib/python3.9/site-packages/torch/nn/functional.py:2906\u001b[0m, in \u001b[0;36mbinary_cross_entropy\u001b[0;34m(input, target, weight, size_average, reduce, reduction)\u001b[0m\n\u001b[1;32m   2904\u001b[0m     reduction_enum \u001b[39m=\u001b[39m _Reduction\u001b[39m.\u001b[39mget_enum(reduction)\n\u001b[1;32m   2905\u001b[0m \u001b[39mif\u001b[39;00m target\u001b[39m.\u001b[39msize() \u001b[39m!=\u001b[39m \u001b[39minput\u001b[39m\u001b[39m.\u001b[39msize():\n\u001b[0;32m-> 2906\u001b[0m     \u001b[39mraise\u001b[39;00m \u001b[39mValueError\u001b[39;00m(\n\u001b[1;32m   2907\u001b[0m         \u001b[39m\"\u001b[39m\u001b[39mUsing a target size (\u001b[39m\u001b[39m{}\u001b[39;00m\u001b[39m) that is different to the input size (\u001b[39m\u001b[39m{}\u001b[39;00m\u001b[39m) is deprecated. \u001b[39m\u001b[39m\"\u001b[39m\n\u001b[1;32m   2908\u001b[0m         \u001b[39m\"\u001b[39m\u001b[39mPlease ensure they have the same size.\u001b[39m\u001b[39m\"\u001b[39m\u001b[39m.\u001b[39mformat(target\u001b[39m.\u001b[39msize(), \u001b[39minput\u001b[39m\u001b[39m.\u001b[39msize())\n\u001b[1;32m   2909\u001b[0m     )\n\u001b[1;32m   2911\u001b[0m \u001b[39mif\u001b[39;00m weight \u001b[39mis\u001b[39;00m \u001b[39mnot\u001b[39;00m \u001b[39mNone\u001b[39;00m:\n\u001b[1;32m   2912\u001b[0m     new_size \u001b[39m=\u001b[39m _infer_size(target\u001b[39m.\u001b[39msize(), weight\u001b[39m.\u001b[39msize())\n",
      "\u001b[0;31mValueError\u001b[0m: Using a target size (torch.Size([100, 1])) that is different to the input size (torch.Size([100, 0])) is deprecated. Please ensure they have the same size."
     ]
    }
   ],
   "source": [
    "timestamp = datetime.now().strftime('%Y%m%d_%H%M%S')\n",
    "writer = SummaryWriter('runs/TCN_trainer_{}'.format(timestamp))\n",
    "writer_val = SummaryWriter('runs/TCN_val_{}'.format(timestamp))\n",
    "for EPOCH in range(10):\n",
    "    model = model.to(torch.float32)\n",
    "    model.train(True)\n",
    "    avg_loss = one_epoch(EPOCH, writer, train_loader)\n",
    "    model.train(False)\n",
    "    vavg_loss = one_epoch(EPOCH, writer, val_loader)"
   ]
  },
  {
   "cell_type": "code",
   "execution_count": 163,
   "metadata": {},
   "outputs": [
    {
     "name": "stdout",
     "output_type": "stream",
     "text": [
      "LOSS train 0.30620070078223943 valid 1.841170310974121\n"
     ]
    }
   ],
   "source": [
    "running_loss = 0.\n",
    "roc_auc = 0.\n",
    "recall = 0.\n",
    "model.train(False)\n",
    "for i, test_data in enumerate(test_loader):\n",
    "    inputs, labels = test_data\n",
    "    outputs = model(inputs.to(torch.float32))\n",
    "    loss = loss_fn(outputs, labels.to(torch.float32))\n",
    "    running_loss += loss\n",
    "    roc_auc += roc_auc_score(labels, outputs.detach().numpy())\n",
    "    recall += recall_score(labels, outputs.detach().numpy().round())\n",
    "\n",
    "tavg_loss = running_loss / (i + 1)\n",
    "avg_roc_auc = roc_auc / (i + 1)\n",
    "avg_recall = recall / (i + 1)\n",
    "print('LOSS train {} valid {}'.format(avg_loss, tavg_loss))\n",
    "print('ROC AUC score: {} Recall: {}'.format(avg_roc_auc, avg_recall))"
   ]
  },
  {
   "cell_type": "code",
   "execution_count": 165,
   "metadata": {},
   "outputs": [
    {
     "name": "stdout",
     "output_type": "stream",
     "text": [
      "ROC AUC score: 0.5476429120156832 Recall: 0.2298254891994832\n"
     ]
    }
   ],
   "source": [
    "avg_roc_auc = roc_auc / (i + 1)\n",
    "avg_recall = recall / (i + 1)\n",
    "print('ROC AUC score: {} Recall: {}'.format(avg_roc_auc, avg_recall))"
   ]
  },
  {
   "cell_type": "code",
   "execution_count": 170,
   "metadata": {},
   "outputs": [
    {
     "data": {
      "text/html": [
       "<div>\n",
       "<style scoped>\n",
       "    .dataframe tbody tr th:only-of-type {\n",
       "        vertical-align: middle;\n",
       "    }\n",
       "\n",
       "    .dataframe tbody tr th {\n",
       "        vertical-align: top;\n",
       "    }\n",
       "\n",
       "    .dataframe thead th {\n",
       "        text-align: right;\n",
       "    }\n",
       "</style>\n",
       "<table border=\"1\" class=\"dataframe\">\n",
       "  <thead>\n",
       "    <tr style=\"text-align: right;\">\n",
       "      <th></th>\n",
       "      <th>dil=1,ep=1</th>\n",
       "      <th>dil=2,ep=1</th>\n",
       "      <th>dil=2,ep=100</th>\n",
       "    </tr>\n",
       "  </thead>\n",
       "  <tbody>\n",
       "    <tr>\n",
       "      <th>roc_auc</th>\n",
       "      <td>0.388672</td>\n",
       "      <td>0.722656</td>\n",
       "      <td>0.589844</td>\n",
       "    </tr>\n",
       "    <tr>\n",
       "      <th>recall</th>\n",
       "      <td>0.000000</td>\n",
       "      <td>0.000000</td>\n",
       "      <td>0.229825</td>\n",
       "    </tr>\n",
       "  </tbody>\n",
       "</table>\n",
       "</div>"
      ],
      "text/plain": [
       "         dil=1,ep=1  dil=2,ep=1  dil=2,ep=100\n",
       "roc_auc    0.388672    0.722656      0.589844\n",
       "recall     0.000000    0.000000      0.229825"
      ]
     },
     "execution_count": 170,
     "metadata": {},
     "output_type": "execute_result"
    }
   ],
   "source": [
    "roc_auc_list = [0.388671875, 0.72265625, 0.58984375]\n",
    "recall_list = [0., 0., 0.2298254891994832]\n",
    "cols = ['dil=1,ep=1', 'dil=2,ep=1', 'dil=2,ep=100']\n",
    "rows= ['roc_auc', 'recall']\n",
    "pd.DataFrame([roc_auc_list, recall_list], columns=cols, index=rows)"
   ]
  }
 ],
 "metadata": {
  "kernelspec": {
   "display_name": "tensorflow",
   "language": "python",
   "name": "tensorflow"
  },
  "language_info": {
   "codemirror_mode": {
    "name": "ipython",
    "version": 3
   },
   "file_extension": ".py",
   "mimetype": "text/x-python",
   "name": "python",
   "nbconvert_exporter": "python",
   "pygments_lexer": "ipython3",
   "version": "3.9.12"
  },
  "orig_nbformat": 4
 },
 "nbformat": 4,
 "nbformat_minor": 2
}
