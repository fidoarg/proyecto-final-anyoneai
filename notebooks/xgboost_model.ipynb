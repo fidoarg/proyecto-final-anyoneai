{
 "cells": [
  {
   "cell_type": "code",
   "execution_count": 1,
   "metadata": {},
   "outputs": [],
   "source": [
    "from sklearn.pipeline import Pipeline\n",
    "from sklearn.impute import SimpleImputer\n",
    "from sklearn.preprocessing import StandardScaler, FunctionTransformer, OneHotEncoder, OrdinalEncoder\n",
    "from sklearn.compose import ColumnTransformer\n",
    "from sklearn.model_selection import train_test_split, RandomizedSearchCV\n",
    "from sklearn.metrics import roc_auc_score, classification_report\n",
    "import numpy as np\n",
    "import pandas as pd\n",
    "from xgboost import XGBClassifier"
   ]
  },
  {
   "cell_type": "code",
   "execution_count": 20,
   "metadata": {},
   "outputs": [],
   "source": [
    "features = pd.read_csv('../data/features.csv', index_col=0)\n",
    "labels = pd.read_csv('../data/labels.csv', index_col=0)\n",
    "X_train, X_test, y_train, y_test = train_test_split(features, labels, test_size=0.2, random_state=42)"
   ]
  },
  {
   "cell_type": "code",
   "execution_count": 21,
   "metadata": {},
   "outputs": [],
   "source": [
    "def outlier_handler(df):\n",
    "    q1 = df.quantile(0.25)\n",
    "    q3 = df.quantile(0.75)\n",
    "    IQR = q3-q1\n",
    "    lwr_bound = q1-(1.5*IQR)\n",
    "    upr_bound = q3+(1.5*IQR)\n",
    "    df = np.where(df > upr_bound, df.median(), np.where(df < lwr_bound, df.median(), df))\n",
    "    return df\n",
    "\n",
    "numeric_transformer = Pipeline([\n",
    "    ('Outlier_handler', FunctionTransformer(outlier_handler)),\n",
    "    ('Imputer', SimpleImputer(strategy='median'))\n",
    "])\n",
    "\n",
    "categorical_transformer = Pipeline([\n",
    "    ('Imputer', SimpleImputer(strategy='constant', fill_value='Missing')),\n",
    "    ('Binary_encoder', OneHotEncoder(sparse=False, drop='if_binary', handle_unknown='ignore'))\n",
    "    # ('encoder', OrdinalEncoder(handle_unknown='use_encoded_value', unknown_value=-1))\n",
    "])\n",
    "\n",
    "numeric_features = X_train.select_dtypes(['int64', 'float64']).columns\n",
    "cat_cols = X_train.select_dtypes('category').columns\n",
    "preprocessor = ColumnTransformer([\n",
    "    (\"num\", numeric_transformer, numeric_features),\n",
    "    (\"cat\", categorical_transformer, cat_cols)\n",
    "])\n",
    "model = XGBClassifier(tree_method='hist',\n",
    "                            objective='binary:logistic',\n",
    "                            eval_metric='auc',\n",
    "                            seed=0)\n",
    "baseline_clf = Pipeline([\n",
    "    (\"preprocessor\", preprocessor),\n",
    "    (\"scaler\", StandardScaler()), \n",
    "    (\"clf\", model)\n",
    "])"
   ]
  },
  {
   "cell_type": "code",
   "execution_count": null,
   "metadata": {},
   "outputs": [],
   "source": [
    "param_grid = {\n",
    "    'clf__learning_rate': np.arange(0.05, 1, 0.05),\n",
    "    'clf__max_depth': np.arange(3,100,1),\n",
    "    'clf__n_estimators': np.arange(50,2500,50),\n",
    "    'clf__eta'             : [0.001, 0.01, 0.1, 0.2, 0.3, 0.4, 0.5, 0.6],\n",
    "    'clf__scale_pos_weight': [1, 1.5, 2, 2.5, 3, 3.5]\n",
    "}\n",
    "rand_auc = RandomizedSearchCV(estimator=baseline_clf, param_distributions=param_grid, scoring='recall', n_iter=100, verbose=False, \n",
    "                              n_jobs=-1, random_state=0)\n",
    "rand_auc.fit(X_train, y_train)\n",
    "rand_auc.best_score_, rand_auc.best_params_"
   ]
  },
  {
   "cell_type": "code",
   "execution_count": 6,
   "metadata": {},
   "outputs": [],
   "source": [
    "learning_rate = rand_auc.best_params_['clf__learning_rate']\n",
    "max_depth = rand_auc.best_params_['clf__max_depth']\n",
    "n_estimators = rand_auc.best_params_['clf__n_estimators']\n",
    "eta = rand_auc.best_params_['clf__learning_rate']\n",
    "scale_pos_weight = rand_auc.best_params_['clf__scale_pos_weight']\n",
    "\n",
    "model = XGBClassifier(learning_rate=learning_rate, max_depth=max_depth, n_estimators=n_estimators, eta=eta, scale_pos_weight=scale_pos_weight)\n",
    "\n",
    "baseline_clf = Pipeline([\n",
    "    (\"preprocessor\", preprocessor),\n",
    "    (\"scaler\", StandardScaler()), \n",
    "    (\"clf\", model)\n",
    "]).fit(X_train, y_train)"
   ]
  },
  {
   "cell_type": "code",
   "execution_count": null,
   "metadata": {},
   "outputs": [],
   "source": [
    "# baseline_clf.fit(X_train, y_train)\n",
    "\n",
    "y_pred = baseline_clf.predict_proba(X_test)\n",
    "print(f'ROC 1: {roc_auc_score(y_test, y_pred[:,1])}')\n",
    "print(classification_report(y_test, baseline_clf.predict(X_test)))"
   ]
  },
  {
   "cell_type": "markdown",
   "metadata": {},
   "source": [
    "ROC 1: 0.6284227418530853\n",
    "\n",
    "                        precision    recall  f1-score   support\n",
    "                    0       0.84      0.33      0.48      7336\n",
    "                    1       0.31      0.83      0.45      2664\n",
    "\n",
    "        accuracy                                0.47     10000\n",
    "        macro avg           0.58      0.58      0.46     10000\n",
    "        weighted avg        0.70      0.47      0.47     10000"
   ]
  }
 ],
 "metadata": {
  "kernelspec": {
   "display_name": "tensorflow",
   "language": "python",
   "name": "tensorflow"
  },
  "language_info": {
   "codemirror_mode": {
    "name": "ipython",
    "version": 3
   },
   "file_extension": ".py",
   "mimetype": "text/x-python",
   "name": "python",
   "nbconvert_exporter": "python",
   "pygments_lexer": "ipython3",
   "version": "3.9.12"
  },
  "orig_nbformat": 4
 },
 "nbformat": 4,
 "nbformat_minor": 2
}
