{
 "cells": [
  {
   "cell_type": "code",
   "execution_count": 13,
   "id": "2562aec9",
   "metadata": {},
   "outputs": [],
   "source": [
    "import os\n",
    "import boto3\n",
    "import pandas as pd"
   ]
  },
  {
   "cell_type": "code",
   "execution_count": 2,
   "id": "a5547d32",
   "metadata": {},
   "outputs": [],
   "source": [
    "_AWS_S3_KEY= os.getenv('AWS_S3_KEY')\n",
    "_AWS_S3_SECRET= os.getenv('AWS_S3_SECRET')"
   ]
  },
  {
   "cell_type": "code",
   "execution_count": 3,
   "id": "c24a90b3",
   "metadata": {},
   "outputs": [
    {
     "data": {
      "text/plain": [
       "'2mhUrECgcIuUYo4ZM9/f1Vdlm8wdaI6Fp8e9IYWY'"
      ]
     },
     "execution_count": 3,
     "metadata": {},
     "output_type": "execute_result"
    }
   ],
   "source": [
    "_AWS_S3_SECRET"
   ]
  },
  {
   "cell_type": "code",
   "execution_count": 4,
   "id": "fd5cc8b7",
   "metadata": {},
   "outputs": [],
   "source": [
    "session= boto3.Session(\n",
    "    aws_access_key_id=_AWS_S3_KEY,\n",
    "    aws_secret_access_key=_AWS_S3_SECRET,\n",
    ")"
   ]
  },
  {
   "cell_type": "code",
   "execution_count": 7,
   "id": "ec8b1701",
   "metadata": {},
   "outputs": [],
   "source": [
    "s3 = session.resource(\"s3\")"
   ]
  },
  {
   "cell_type": "code",
   "execution_count": 8,
   "id": "3ecfc2b9",
   "metadata": {
    "scrolled": false
   },
   "outputs": [],
   "source": [
    "s3_bucket= s3.Bucket(\"anyoneai-datasets\")"
   ]
  },
  {
   "cell_type": "code",
   "execution_count": 9,
   "id": "1a27f871",
   "metadata": {},
   "outputs": [],
   "source": [
    "l = list(s3_bucket.objects.filter(Prefix=\"credit-data-2010/\"))"
   ]
  },
  {
   "cell_type": "code",
   "execution_count": 10,
   "id": "2e2e8660",
   "metadata": {},
   "outputs": [],
   "source": [
    "objs = [item for item in l if item.key[-1] != '/']"
   ]
  },
  {
   "cell_type": "code",
   "execution_count": 11,
   "id": "7dac7c9f",
   "metadata": {
    "scrolled": true
   },
   "outputs": [],
   "source": [
    "for object_summary in s3_bucket.objects.filter(Prefix=\"credit-data-2010/\"):\n",
    "    try:\n",
    "        with open(os.path.join(\n",
    "                '../data', os.path.split(object_summary.key)[-1]\n",
    "                  ), 'wb') as data:\n",
    "            s3_bucket.download_fileobj(object_summary.key, data)\n",
    "    except IsADirectoryError:\n",
    "        continue"
   ]
  },
  {
   "cell_type": "code",
   "execution_count": 122,
   "id": "a8a38ce8",
   "metadata": {
    "scrolled": true
   },
   "outputs": [
    {
     "name": "stderr",
     "output_type": "stream",
     "text": [
      "/var/folders/7m/ryt4krsd3q58y7d6y0f2_k1w0000gp/T/ipykernel_2170/2582088791.py:1: DtypeWarning: Columns (51,52) have mixed types. Specify dtype option on import or set low_memory=False.\n",
      "  data= pd.read_csv('../data/PAKDD2010_Modeling_Data.txt', encoding= \"ISO-8859-1\", header= None, delimiter='\\t')\n"
     ]
    }
   ],
   "source": [
    "data= pd.read_csv('../data/PAKDD2010_Modeling_Data.txt', encoding= \"ISO-8859-1\", header= None, delimiter='\\t')"
   ]
  },
  {
   "cell_type": "markdown",
   "id": "42c5ea69",
   "metadata": {},
   "source": [
    "There are two \"EDUCATION_LEVEL\""
   ]
  },
  {
   "cell_type": "code",
   "execution_count": 123,
   "id": "cc377278",
   "metadata": {},
   "outputs": [],
   "source": [
    "df_variables = pd.read_excel(\n",
    "    '../data/PAKDD2010_VariablesList.XLS', \n",
    "    header= 0, \n",
    "    index_col= 0\n",
    ")\n",
    "\n",
    "df_variables= df_variables\\\n",
    "    .set_index(fido.index - 1)"
   ]
  },
  {
   "cell_type": "code",
   "execution_count": 124,
   "id": "07404c68",
   "metadata": {
    "scrolled": true
   },
   "outputs": [
    {
     "data": {
      "text/plain": [
       "Var_Id\n",
       "9      Edducational level in gradual order not informed\n",
       "43    Mate's educational level in gradual order not ...\n",
       "Name: Var_Description, dtype: object"
      ]
     },
     "execution_count": 124,
     "metadata": {},
     "output_type": "execute_result"
    }
   ],
   "source": [
    "df_variables[df_variables.Var_Title == \"EDUCATION_LEVEL\"].Var_Description"
   ]
  },
  {
   "cell_type": "code",
   "execution_count": 125,
   "id": "5b810cfd",
   "metadata": {},
   "outputs": [],
   "source": [
    "rename_dict= {column: df_variables.loc[column].Var_Title for column in data.columns}"
   ]
  },
  {
   "cell_type": "code",
   "execution_count": 126,
   "id": "7dfee61b",
   "metadata": {},
   "outputs": [],
   "source": [
    "rename_dict[43] = f\"MATE_{rename_dict[43]}\" "
   ]
  },
  {
   "cell_type": "code",
   "execution_count": null,
   "id": "991767bd",
   "metadata": {},
   "outputs": [],
   "source": [
    "pd.DataFrame.columns"
   ]
  },
  {
   "cell_type": "code",
   "execution_count": 141,
   "id": "ae8782ef",
   "metadata": {},
   "outputs": [],
   "source": [
    "import numpy as np"
   ]
  },
  {
   "cell_type": "code",
   "execution_count": 142,
   "id": "ba76d4c7",
   "metadata": {},
   "outputs": [],
   "source": [
    "s_n_unique_values= data.nunique()\n",
    "s_n_unique_values.name= \"# unique values\"\n",
    "s_n_null_values= data.isna().sum()\n",
    "s_n_null_values.name= \"# NULL Values\"\n",
    "s_per_null_values= np.round(data.isna().sum() / data.shape[0] * 100, 2)\n",
    "s_per_null_values.name= \"% NULL Values\""
   ]
  },
  {
   "cell_type": "code",
   "execution_count": 145,
   "id": "656f2bb7",
   "metadata": {
    "scrolled": false
   },
   "outputs": [],
   "source": [
    "columns_metrics= pd.concat(objs=[s_n_unique_values, s_n_null_values, s_per_null_values], axis= 1)"
   ]
  },
  {
   "cell_type": "code",
   "execution_count": 150,
   "id": "d7ca00c1",
   "metadata": {},
   "outputs": [],
   "source": [
    "mask_drop_col_condition_01 = ((columns_metrics[\"# unique values\"] == 1) & (columns_metrics[\"# NULL Values\"] == 0))\n",
    "mask_drop_col_condition_02 = (columns_metrics[\"% NULL Values\"] > 50)"
   ]
  },
  {
   "cell_type": "code",
   "execution_count": 157,
   "id": "f61fed69",
   "metadata": {},
   "outputs": [
    {
     "data": {
      "text/html": [
       "<div>\n",
       "<style scoped>\n",
       "    .dataframe tbody tr th:only-of-type {\n",
       "        vertical-align: middle;\n",
       "    }\n",
       "\n",
       "    .dataframe tbody tr th {\n",
       "        vertical-align: top;\n",
       "    }\n",
       "\n",
       "    .dataframe thead th {\n",
       "        text-align: right;\n",
       "    }\n",
       "</style>\n",
       "<table border=\"1\" class=\"dataframe\">\n",
       "  <thead>\n",
       "    <tr style=\"text-align: right;\">\n",
       "      <th></th>\n",
       "      <th># unique values</th>\n",
       "      <th># NULL Values</th>\n",
       "      <th>% NULL Values</th>\n",
       "    </tr>\n",
       "  </thead>\n",
       "  <tbody>\n",
       "    <tr>\n",
       "      <th>CLERK_TYPE</th>\n",
       "      <td>1</td>\n",
       "      <td>0</td>\n",
       "      <td>0.00</td>\n",
       "    </tr>\n",
       "    <tr>\n",
       "      <th>QUANT_ADDITIONAL_CARDS</th>\n",
       "      <td>1</td>\n",
       "      <td>0</td>\n",
       "      <td>0.00</td>\n",
       "    </tr>\n",
       "    <tr>\n",
       "      <th>EDUCATION_LEVEL</th>\n",
       "      <td>1</td>\n",
       "      <td>0</td>\n",
       "      <td>0.00</td>\n",
       "    </tr>\n",
       "    <tr>\n",
       "      <th>FLAG_MOBILE_PHONE</th>\n",
       "      <td>1</td>\n",
       "      <td>0</td>\n",
       "      <td>0.00</td>\n",
       "    </tr>\n",
       "    <tr>\n",
       "      <th>PROFESSIONAL_CITY</th>\n",
       "      <td>2236</td>\n",
       "      <td>33783</td>\n",
       "      <td>67.57</td>\n",
       "    </tr>\n",
       "    <tr>\n",
       "      <th>PROFESSIONAL_BOROUGH</th>\n",
       "      <td>5057</td>\n",
       "      <td>33783</td>\n",
       "      <td>67.57</td>\n",
       "    </tr>\n",
       "    <tr>\n",
       "      <th>MATE_PROFESSION_CODE</th>\n",
       "      <td>18</td>\n",
       "      <td>28884</td>\n",
       "      <td>57.77</td>\n",
       "    </tr>\n",
       "    <tr>\n",
       "      <th>MATE_EDUCATION_LEVEL</th>\n",
       "      <td>6</td>\n",
       "      <td>32338</td>\n",
       "      <td>64.68</td>\n",
       "    </tr>\n",
       "    <tr>\n",
       "      <th>FLAG_HOME_ADDRESS_DOCUMENT</th>\n",
       "      <td>1</td>\n",
       "      <td>0</td>\n",
       "      <td>0.00</td>\n",
       "    </tr>\n",
       "    <tr>\n",
       "      <th>FLAG_RG</th>\n",
       "      <td>1</td>\n",
       "      <td>0</td>\n",
       "      <td>0.00</td>\n",
       "    </tr>\n",
       "    <tr>\n",
       "      <th>FLAG_CPF</th>\n",
       "      <td>1</td>\n",
       "      <td>0</td>\n",
       "      <td>0.00</td>\n",
       "    </tr>\n",
       "    <tr>\n",
       "      <th>FLAG_INCOME_PROOF</th>\n",
       "      <td>1</td>\n",
       "      <td>0</td>\n",
       "      <td>0.00</td>\n",
       "    </tr>\n",
       "    <tr>\n",
       "      <th>FLAG_ACSP_RECORD</th>\n",
       "      <td>1</td>\n",
       "      <td>0</td>\n",
       "      <td>0.00</td>\n",
       "    </tr>\n",
       "  </tbody>\n",
       "</table>\n",
       "</div>"
      ],
      "text/plain": [
       "                            # unique values  # NULL Values  % NULL Values\n",
       "CLERK_TYPE                                1              0           0.00\n",
       "QUANT_ADDITIONAL_CARDS                    1              0           0.00\n",
       "EDUCATION_LEVEL                           1              0           0.00\n",
       "FLAG_MOBILE_PHONE                         1              0           0.00\n",
       "PROFESSIONAL_CITY                      2236          33783          67.57\n",
       "PROFESSIONAL_BOROUGH                   5057          33783          67.57\n",
       "MATE_PROFESSION_CODE                     18          28884          57.77\n",
       "MATE_EDUCATION_LEVEL                      6          32338          64.68\n",
       "FLAG_HOME_ADDRESS_DOCUMENT                1              0           0.00\n",
       "FLAG_RG                                   1              0           0.00\n",
       "FLAG_CPF                                  1              0           0.00\n",
       "FLAG_INCOME_PROOF                         1              0           0.00\n",
       "FLAG_ACSP_RECORD                          1              0           0.00"
      ]
     },
     "execution_count": 157,
     "metadata": {},
     "output_type": "execute_result"
    }
   ],
   "source": [
    "columns_metrics[mask_drop_col_condition_01 | mask_drop_col_condition_02]"
   ]
  },
  {
   "cell_type": "code",
   "execution_count": 158,
   "id": "f792343c",
   "metadata": {
    "scrolled": true
   },
   "outputs": [
    {
     "data": {
      "text/plain": [
       "Index(['CLERK_TYPE', 'QUANT_ADDITIONAL_CARDS', 'EDUCATION_LEVEL',\n",
       "       'FLAG_MOBILE_PHONE', 'PROFESSIONAL_CITY', 'PROFESSIONAL_BOROUGH',\n",
       "       'MATE_PROFESSION_CODE', 'MATE_EDUCATION_LEVEL',\n",
       "       'FLAG_HOME_ADDRESS_DOCUMENT', 'FLAG_RG', 'FLAG_CPF',\n",
       "       'FLAG_INCOME_PROOF', 'FLAG_ACSP_RECORD'],\n",
       "      dtype='object')"
      ]
     },
     "execution_count": 158,
     "metadata": {},
     "output_type": "execute_result"
    }
   ],
   "source": [
    "columns_metrics[mask_drop_col_condition_01 | mask_drop_col_condition_02].index"
   ]
  },
  {
   "cell_type": "code",
   "execution_count": 159,
   "id": "7f9be5a1",
   "metadata": {},
   "outputs": [
    {
     "data": {
      "text/plain": [
       "['PAYMENT_DAY',\n",
       " 'APPLICATION_SUBMISSION_TYPE',\n",
       " 'POSTAL_ADDRESS_TYPE',\n",
       " 'SEX',\n",
       " 'MARITAL_STATUS',\n",
       " 'QUANT_DEPENDANTS',\n",
       " 'STATE_OF_BIRTH',\n",
       " 'CITY_OF_BIRTH',\n",
       " 'NACIONALITY',\n",
       " 'RESIDENCIAL_STATE',\n",
       " 'RESIDENCIAL_CITY',\n",
       " 'RESIDENCIAL_BOROUGH',\n",
       " 'FLAG_RESIDENCIAL_PHONE',\n",
       " 'RESIDENCIAL_PHONE_AREA_CODE',\n",
       " 'RESIDENCE_TYPE',\n",
       " 'MONTHS_IN_RESIDENCE',\n",
       " 'FLAG_EMAIL',\n",
       " 'PERSONAL_MONTHLY_INCOME',\n",
       " 'OTHER_INCOMES',\n",
       " 'FLAG_VISA',\n",
       " 'FLAG_MASTERCARD',\n",
       " 'FLAG_DINERS',\n",
       " 'FLAG_AMERICAN_EXPRESS',\n",
       " 'FLAG_OTHER_CARDS',\n",
       " 'QUANT_BANKING_ACCOUNTS',\n",
       " 'QUANT_SPECIAL_BANKING_ACCOUNTS',\n",
       " 'PERSONAL_ASSETS_VALUE',\n",
       " 'QUANT_CARS',\n",
       " 'COMPANY',\n",
       " 'PROFESSIONAL_STATE',\n",
       " 'FLAG_PROFESSIONAL_PHONE',\n",
       " 'PROFESSIONAL_PHONE_AREA_CODE',\n",
       " 'MONTHS_IN_THE_JOB',\n",
       " 'PROFESSION_CODE',\n",
       " 'OCCUPATION_TYPE',\n",
       " 'PRODUCT',\n",
       " 'AGE',\n",
       " 'RESIDENCIAL_ZIP_3',\n",
       " 'PROFESSIONAL_ZIP_3',\n",
       " 'TARGET_LABEL_BAD=1']"
      ]
     },
     "execution_count": 159,
     "metadata": {},
     "output_type": "execute_result"
    }
   ],
   "source": [
    "[\n",
    "    col for col in data.columns if col not in columns_metrics[mask_drop_col_condition_01 | mask_drop_col_condition_02].index\n",
    "]"
   ]
  },
  {
   "cell_type": "code",
   "execution_count": 160,
   "id": "3cdc1b8f",
   "metadata": {},
   "outputs": [
    {
     "name": "stderr",
     "output_type": "stream",
     "text": [
      "/var/folders/7m/ryt4krsd3q58y7d6y0f2_k1w0000gp/T/ipykernel_2170/3312967917.py:1: FutureWarning: The default value of numeric_only in DataFrame.corr is deprecated. In a future version, it will default to False. Select only valid columns or specify the value of numeric_only to silence this warning.\n",
      "  data[[\n"
     ]
    },
    {
     "data": {
      "text/plain": [
       "PAYMENT_DAY                       0.070633\n",
       "POSTAL_ADDRESS_TYPE              -0.002423\n",
       "MARITAL_STATUS                   -0.030380\n",
       "QUANT_DEPENDANTS                  0.012157\n",
       "NACIONALITY                      -0.000952\n",
       "RESIDENCE_TYPE                    0.019168\n",
       "MONTHS_IN_RESIDENCE              -0.029336\n",
       "FLAG_EMAIL                       -0.008067\n",
       "PERSONAL_MONTHLY_INCOME           0.002819\n",
       "OTHER_INCOMES                     0.004442\n",
       "FLAG_VISA                        -0.005398\n",
       "FLAG_MASTERCARD                  -0.017658\n",
       "FLAG_DINERS                       0.002240\n",
       "FLAG_AMERICAN_EXPRESS             0.000337\n",
       "FLAG_OTHER_CARDS                  0.001410\n",
       "QUANT_BANKING_ACCOUNTS            0.011997\n",
       "QUANT_SPECIAL_BANKING_ACCOUNTS    0.011997\n",
       "PERSONAL_ASSETS_VALUE            -0.003886\n",
       "QUANT_CARS                        0.011706\n",
       "MONTHS_IN_THE_JOB                -0.007073\n",
       "PROFESSION_CODE                  -0.011593\n",
       "OCCUPATION_TYPE                   0.040216\n",
       "PRODUCT                           0.019293\n",
       "AGE                              -0.107886\n",
       "TARGET_LABEL_BAD=1                1.000000\n",
       "Name: TARGET_LABEL_BAD=1, dtype: float64"
      ]
     },
     "execution_count": 160,
     "metadata": {},
     "output_type": "execute_result"
    }
   ],
   "source": [
    "data[[\n",
    "    col for col in data.columns if col not in columns_metrics[mask_drop_col_condition_01 | mask_drop_col_condition_02].index\n",
    "]].corr()[data.columns[-1]]"
   ]
  },
  {
   "cell_type": "code",
   "execution_count": 151,
   "id": "5a7de7f9",
   "metadata": {
    "scrolled": true
   },
   "outputs": [
    {
     "data": {
      "text/html": [
       "<div>\n",
       "<style scoped>\n",
       "    .dataframe tbody tr th:only-of-type {\n",
       "        vertical-align: middle;\n",
       "    }\n",
       "\n",
       "    .dataframe tbody tr th {\n",
       "        vertical-align: top;\n",
       "    }\n",
       "\n",
       "    .dataframe thead th {\n",
       "        text-align: right;\n",
       "    }\n",
       "</style>\n",
       "<table border=\"1\" class=\"dataframe\">\n",
       "  <thead>\n",
       "    <tr style=\"text-align: right;\">\n",
       "      <th></th>\n",
       "      <th># unique values</th>\n",
       "      <th># NULL Values</th>\n",
       "      <th>% NULL Values</th>\n",
       "    </tr>\n",
       "  </thead>\n",
       "  <tbody>\n",
       "    <tr>\n",
       "      <th>CLERK_TYPE</th>\n",
       "      <td>1</td>\n",
       "      <td>0</td>\n",
       "      <td>0.00</td>\n",
       "    </tr>\n",
       "    <tr>\n",
       "      <th>QUANT_ADDITIONAL_CARDS</th>\n",
       "      <td>1</td>\n",
       "      <td>0</td>\n",
       "      <td>0.00</td>\n",
       "    </tr>\n",
       "    <tr>\n",
       "      <th>EDUCATION_LEVEL</th>\n",
       "      <td>1</td>\n",
       "      <td>0</td>\n",
       "      <td>0.00</td>\n",
       "    </tr>\n",
       "    <tr>\n",
       "      <th>FLAG_MOBILE_PHONE</th>\n",
       "      <td>1</td>\n",
       "      <td>0</td>\n",
       "      <td>0.00</td>\n",
       "    </tr>\n",
       "    <tr>\n",
       "      <th>PROFESSIONAL_CITY</th>\n",
       "      <td>2236</td>\n",
       "      <td>33783</td>\n",
       "      <td>67.57</td>\n",
       "    </tr>\n",
       "    <tr>\n",
       "      <th>PROFESSIONAL_BOROUGH</th>\n",
       "      <td>5057</td>\n",
       "      <td>33783</td>\n",
       "      <td>67.57</td>\n",
       "    </tr>\n",
       "    <tr>\n",
       "      <th>MATE_PROFESSION_CODE</th>\n",
       "      <td>18</td>\n",
       "      <td>28884</td>\n",
       "      <td>57.77</td>\n",
       "    </tr>\n",
       "    <tr>\n",
       "      <th>MATE_EDUCATION_LEVEL</th>\n",
       "      <td>6</td>\n",
       "      <td>32338</td>\n",
       "      <td>64.68</td>\n",
       "    </tr>\n",
       "    <tr>\n",
       "      <th>FLAG_HOME_ADDRESS_DOCUMENT</th>\n",
       "      <td>1</td>\n",
       "      <td>0</td>\n",
       "      <td>0.00</td>\n",
       "    </tr>\n",
       "    <tr>\n",
       "      <th>FLAG_RG</th>\n",
       "      <td>1</td>\n",
       "      <td>0</td>\n",
       "      <td>0.00</td>\n",
       "    </tr>\n",
       "    <tr>\n",
       "      <th>FLAG_CPF</th>\n",
       "      <td>1</td>\n",
       "      <td>0</td>\n",
       "      <td>0.00</td>\n",
       "    </tr>\n",
       "    <tr>\n",
       "      <th>FLAG_INCOME_PROOF</th>\n",
       "      <td>1</td>\n",
       "      <td>0</td>\n",
       "      <td>0.00</td>\n",
       "    </tr>\n",
       "    <tr>\n",
       "      <th>FLAG_ACSP_RECORD</th>\n",
       "      <td>1</td>\n",
       "      <td>0</td>\n",
       "      <td>0.00</td>\n",
       "    </tr>\n",
       "  </tbody>\n",
       "</table>\n",
       "</div>"
      ],
      "text/plain": [
       "                            # unique values  # NULL Values  % NULL Values\n",
       "CLERK_TYPE                                1              0           0.00\n",
       "QUANT_ADDITIONAL_CARDS                    1              0           0.00\n",
       "EDUCATION_LEVEL                           1              0           0.00\n",
       "FLAG_MOBILE_PHONE                         1              0           0.00\n",
       "PROFESSIONAL_CITY                      2236          33783          67.57\n",
       "PROFESSIONAL_BOROUGH                   5057          33783          67.57\n",
       "MATE_PROFESSION_CODE                     18          28884          57.77\n",
       "MATE_EDUCATION_LEVEL                      6          32338          64.68\n",
       "FLAG_HOME_ADDRESS_DOCUMENT                1              0           0.00\n",
       "FLAG_RG                                   1              0           0.00\n",
       "FLAG_CPF                                  1              0           0.00\n",
       "FLAG_INCOME_PROOF                         1              0           0.00\n",
       "FLAG_ACSP_RECORD                          1              0           0.00"
      ]
     },
     "execution_count": 151,
     "metadata": {},
     "output_type": "execute_result"
    }
   ],
   "source": [
    "columns_metrics[mask_drop_col_condition_01 | mask_drop_col_condition_02]"
   ]
  },
  {
   "cell_type": "code",
   "execution_count": 127,
   "id": "a6f07ff1",
   "metadata": {},
   "outputs": [],
   "source": [
    "data = data\\\n",
    "    .rename(columns= rename_dict)\\\n",
    "    .set_index('ID_CLIENT')"
   ]
  },
  {
   "cell_type": "markdown",
   "id": "59f9958e",
   "metadata": {},
   "source": [
    "### Ed Level"
   ]
  },
  {
   "cell_type": "code",
   "execution_count": 102,
   "id": "a2bbe528",
   "metadata": {
    "scrolled": true
   },
   "outputs": [
    {
     "data": {
      "text/plain": [
       "array([nan, 11.,  0.,  9., 16.,  2., 10., 12.,  6., 15., 13.,  7.,  8.,\n",
       "        5., 17.,  1.,  3.,  4., 14.])"
      ]
     },
     "execution_count": 102,
     "metadata": {},
     "output_type": "execute_result"
    }
   ],
   "source": [
    "data.MATE_PROFESSION_CODE.unique()"
   ]
  },
  {
   "cell_type": "code",
   "execution_count": 92,
   "id": "c224f9cd",
   "metadata": {
    "scrolled": true
   },
   "outputs": [
    {
     "data": {
      "text/plain": [
       "array([\"Applicant's profession code. Encoding not informed\"], dtype=object)"
      ]
     },
     "execution_count": 92,
     "metadata": {},
     "output_type": "execute_result"
    }
   ],
   "source": [
    "df_variables[df_variables.Var_Title == \"PROFESSION_CODE\"].Var_Description.values"
   ]
  },
  {
   "cell_type": "code",
   "execution_count": 85,
   "id": "8e8a5cf1",
   "metadata": {},
   "outputs": [
    {
     "data": {
      "text/plain": [
       "RESIDENCE_TYPE           1349\n",
       "MONTHS_IN_RESIDENCE      3777\n",
       "PROFESSIONAL_CITY       33783\n",
       "PROFESSIONAL_BOROUGH    33783\n",
       "PROFESSION_CODE          7756\n",
       "OCCUPATION_TYPE          7313\n",
       "MATE_PROFESSION_CODE    28884\n",
       "MATE_EDUCATION_LEVEL    32338\n",
       "dtype: int64"
      ]
     },
     "execution_count": 85,
     "metadata": {},
     "output_type": "execute_result"
    }
   ],
   "source": [
    "data[data.columns[(data.isna().sum() > 0)]].isna().sum()"
   ]
  }
 ],
 "metadata": {
  "kernelspec": {
   "display_name": "Python 3 (ipykernel)",
   "language": "python",
   "name": "python3"
  },
  "language_info": {
   "codemirror_mode": {
    "name": "ipython",
    "version": 3
   },
   "file_extension": ".py",
   "mimetype": "text/x-python",
   "name": "python",
   "nbconvert_exporter": "python",
   "pygments_lexer": "ipython3",
   "version": "3.8.9"
  }
 },
 "nbformat": 4,
 "nbformat_minor": 5
}
