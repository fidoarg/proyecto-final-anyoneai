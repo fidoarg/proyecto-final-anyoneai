{
 "cells": [
  {
   "cell_type": "code",
   "execution_count": 1,
   "id": "8fc41579",
   "metadata": {},
   "outputs": [],
   "source": [
    "import pandas as pd\n",
    "import joblib"
   ]
  },
  {
   "cell_type": "code",
   "execution_count": 2,
   "id": "899c4d8a",
   "metadata": {},
   "outputs": [],
   "source": [
    "import sys\n",
    "sys.path.append('..')"
   ]
  },
  {
   "cell_type": "code",
   "execution_count": 3,
   "id": "04c1b3d8",
   "metadata": {},
   "outputs": [],
   "source": [
    "from sklearn.base import BaseEstimator, TransformerMixin"
   ]
  },
  {
   "cell_type": "code",
   "execution_count": 4,
   "id": "0b06640b",
   "metadata": {},
   "outputs": [],
   "source": [
    "class PerCatLimTransform(BaseEstimator, TransformerMixin):\n",
    "    \n",
    "    def __init__(self, percentage_limit: float, number_allowed_classes: int):\n",
    "        \n",
    "        assert 0 < percentage_limit < 1, 'precentage_limit needs to be between 0 and 1'\n",
    "        assert isinstance(number_allowed_classes, int), 'number_allowed_classes needs to be an int'\n",
    "        \n",
    "        self.percentage_limit = percentage_limit\n",
    "        self.number_allowed_classes= number_allowed_classes\n",
    "        self.dict_accepted_values= {} \n",
    "        \n",
    "    def fit(self, X, y= None):\n",
    "        \n",
    "        for col in X.columns:\n",
    "            if isinstance(X[col].dtype, pd.CategoricalDtype):\n",
    "                \n",
    "                s= np.round(\n",
    "                    X[col].value_counts(\n",
    "                        normalize= True,\n",
    "                        sort= True,\n",
    "                        ascending= False,\n",
    "                        dropna= False\n",
    "                    )\\\n",
    "                        .cumsum(skipna= False),\n",
    "                    decimals= 4\n",
    "                )\n",
    "                if len(s.index) < self.number_allowed_classes:\n",
    "                    allowed_classes= s.index.to_list()\n",
    "                else:\n",
    "                    allowed_classes_per= list(s[s < self.percentage_limit].index)\n",
    "                    last_value_index=s[s < self.percentage_limit].index[-1]\n",
    "                    last_value= s[s < self.percentage_limit][-1]\n",
    "                    \n",
    "                    if not pd.isna(last_value) and allowed_classes_per.index(last_value_index) <= self.number_allowed_classes:\n",
    "                        allowed_classes= allowed_classes_per\n",
    "                    elif not pd.isna(last_value): \n",
    "                        allowed_classes= allowed_classes_per[:self.number_allowed_classes] \n",
    "\n",
    "                self.dict_accepted_values[col]= allowed_classes\n",
    "                \n",
    "            else:\n",
    "                continue\n",
    "                \n",
    "        return self\n",
    "        \n",
    "    def transform(self, X):\n",
    "        \n",
    "        output_df= X.copy()\n",
    "        \n",
    "        for col in X.columns:\n",
    "            if col in self.dict_accepted_values.keys():\n",
    "                func= lambda value: 'OTRO' if not len(set(self.dict_accepted_values[col]) & set([value])) and not pd.isna(value) else value\n",
    "                output_df.loc[:, col]= X.loc[:, col].apply(func)\n",
    "        \n",
    "        return output_df"
   ]
  },
  {
   "cell_type": "code",
   "execution_count": 64,
   "id": "6fec473a",
   "metadata": {},
   "outputs": [],
   "source": [
    "X_train= pd.read_csv(\n",
    "    filepath_or_buffer= '../data/training_data_features.csv'\n",
    ").set_index('ID_CLIENT')\n",
    "y_train= pd.read_csv(\n",
    "    filepath_or_buffer= '../data/training_data_target.csv'\n",
    ").set_index('ID_CLIENT')\n",
    "X_test= pd.read_csv(\n",
    "    filepath_or_buffer= '../data/test_data_features.csv'\n",
    ").set_index('ID_CLIENT')\n",
    "y_test= pd.read_csv(\n",
    "    filepath_or_buffer= '../data/test_data_target.csv'\n",
    ").set_index('ID_CLIENT')"
   ]
  },
  {
   "cell_type": "code",
   "execution_count": 6,
   "id": "1420ae24",
   "metadata": {},
   "outputs": [],
   "source": [
    "column_transformer= joblib.load('../model/column_transformer.pkl')\n",
    "categorical_delimiter= joblib.load('../model/categorical_delimiter.pkl')"
   ]
  },
  {
   "cell_type": "code",
   "execution_count": 7,
   "id": "223a3a19",
   "metadata": {},
   "outputs": [
    {
     "data": {
      "text/html": [
       "<style>#sk-container-id-1 {color: black;background-color: white;}#sk-container-id-1 pre{padding: 0;}#sk-container-id-1 div.sk-toggleable {background-color: white;}#sk-container-id-1 label.sk-toggleable__label {cursor: pointer;display: block;width: 100%;margin-bottom: 0;padding: 0.3em;box-sizing: border-box;text-align: center;}#sk-container-id-1 label.sk-toggleable__label-arrow:before {content: \"▸\";float: left;margin-right: 0.25em;color: #696969;}#sk-container-id-1 label.sk-toggleable__label-arrow:hover:before {color: black;}#sk-container-id-1 div.sk-estimator:hover label.sk-toggleable__label-arrow:before {color: black;}#sk-container-id-1 div.sk-toggleable__content {max-height: 0;max-width: 0;overflow: hidden;text-align: left;background-color: #f0f8ff;}#sk-container-id-1 div.sk-toggleable__content pre {margin: 0.2em;color: black;border-radius: 0.25em;background-color: #f0f8ff;}#sk-container-id-1 input.sk-toggleable__control:checked~div.sk-toggleable__content {max-height: 200px;max-width: 100%;overflow: auto;}#sk-container-id-1 input.sk-toggleable__control:checked~label.sk-toggleable__label-arrow:before {content: \"▾\";}#sk-container-id-1 div.sk-estimator input.sk-toggleable__control:checked~label.sk-toggleable__label {background-color: #d4ebff;}#sk-container-id-1 div.sk-label input.sk-toggleable__control:checked~label.sk-toggleable__label {background-color: #d4ebff;}#sk-container-id-1 input.sk-hidden--visually {border: 0;clip: rect(1px 1px 1px 1px);clip: rect(1px, 1px, 1px, 1px);height: 1px;margin: -1px;overflow: hidden;padding: 0;position: absolute;width: 1px;}#sk-container-id-1 div.sk-estimator {font-family: monospace;background-color: #f0f8ff;border: 1px dotted black;border-radius: 0.25em;box-sizing: border-box;margin-bottom: 0.5em;}#sk-container-id-1 div.sk-estimator:hover {background-color: #d4ebff;}#sk-container-id-1 div.sk-parallel-item::after {content: \"\";width: 100%;border-bottom: 1px solid gray;flex-grow: 1;}#sk-container-id-1 div.sk-label:hover label.sk-toggleable__label {background-color: #d4ebff;}#sk-container-id-1 div.sk-serial::before {content: \"\";position: absolute;border-left: 1px solid gray;box-sizing: border-box;top: 0;bottom: 0;left: 50%;z-index: 0;}#sk-container-id-1 div.sk-serial {display: flex;flex-direction: column;align-items: center;background-color: white;padding-right: 0.2em;padding-left: 0.2em;position: relative;}#sk-container-id-1 div.sk-item {position: relative;z-index: 1;}#sk-container-id-1 div.sk-parallel {display: flex;align-items: stretch;justify-content: center;background-color: white;position: relative;}#sk-container-id-1 div.sk-item::before, #sk-container-id-1 div.sk-parallel-item::before {content: \"\";position: absolute;border-left: 1px solid gray;box-sizing: border-box;top: 0;bottom: 0;left: 50%;z-index: -1;}#sk-container-id-1 div.sk-parallel-item {display: flex;flex-direction: column;z-index: 1;position: relative;background-color: white;}#sk-container-id-1 div.sk-parallel-item:first-child::after {align-self: flex-end;width: 50%;}#sk-container-id-1 div.sk-parallel-item:last-child::after {align-self: flex-start;width: 50%;}#sk-container-id-1 div.sk-parallel-item:only-child::after {width: 0;}#sk-container-id-1 div.sk-dashed-wrapped {border: 1px dashed gray;margin: 0 0.4em 0.5em 0.4em;box-sizing: border-box;padding-bottom: 0.4em;background-color: white;}#sk-container-id-1 div.sk-label label {font-family: monospace;font-weight: bold;display: inline-block;line-height: 1.2em;}#sk-container-id-1 div.sk-label-container {text-align: center;}#sk-container-id-1 div.sk-container {/* jupyter's `normalize.less` sets `[hidden] { display: none; }` but bootstrap.min.css set `[hidden] { display: none !important; }` so we also need the `!important` here to be able to override the default hidden behavior on the sphinx rendered scikit-learn.org. See: https://github.com/scikit-learn/scikit-learn/issues/21755 */display: inline-block !important;position: relative;}#sk-container-id-1 div.sk-text-repr-fallback {display: none;}</style><div id=\"sk-container-id-1\" class=\"sk-top-container\"><div class=\"sk-text-repr-fallback\"><pre>PerCatLimTransform(number_allowed_classes=30, percentage_limit=0.9)</pre><b>In a Jupyter environment, please rerun this cell to show the HTML representation or trust the notebook. <br />On GitHub, the HTML representation is unable to render, please try loading this page with nbviewer.org.</b></div><div class=\"sk-container\" hidden><div class=\"sk-item\"><div class=\"sk-estimator sk-toggleable\"><input class=\"sk-toggleable__control sk-hidden--visually\" id=\"sk-estimator-id-1\" type=\"checkbox\" checked><label for=\"sk-estimator-id-1\" class=\"sk-toggleable__label sk-toggleable__label-arrow\">PerCatLimTransform</label><div class=\"sk-toggleable__content\"><pre>PerCatLimTransform(number_allowed_classes=30, percentage_limit=0.9)</pre></div></div></div></div></div>"
      ],
      "text/plain": [
       "PerCatLimTransform(number_allowed_classes=30, percentage_limit=0.9)"
      ]
     },
     "execution_count": 7,
     "metadata": {},
     "output_type": "execute_result"
    }
   ],
   "source": [
    "categorical_delimiter"
   ]
  },
  {
   "cell_type": "code",
   "execution_count": 8,
   "id": "28f839d7",
   "metadata": {},
   "outputs": [],
   "source": [
    "X_train_res= categorical_delimiter.transform(X_train)"
   ]
  },
  {
   "cell_type": "code",
   "execution_count": 27,
   "id": "e1ee2c9b",
   "metadata": {},
   "outputs": [],
   "source": [
    "from sklearn.ensemble import RandomForestClassifier, AdaBoostClassifier\n",
    "from sklearn.model_selection import RandomizedSearchCV"
   ]
  },
  {
   "cell_type": "code",
   "execution_count": 10,
   "id": "2eca554e",
   "metadata": {},
   "outputs": [],
   "source": [
    "RandomForestClassifier?\n"
   ]
  },
  {
   "cell_type": "code",
   "execution_count": 22,
   "id": "e6fd8cc9",
   "metadata": {},
   "outputs": [],
   "source": [
    "param_grid_rf= dict(\n",
    "    criterion= ['gini', 'entropy'],\n",
    "    max_depth= [1, 3, 6],\n",
    "    n_estimators= [50, 100, 150],\n",
    "    random_state= [42],\n",
    "    class_weight= [\"balanced\"]\n",
    ")"
   ]
  },
  {
   "cell_type": "code",
   "execution_count": 23,
   "id": "940d5727",
   "metadata": {
    "scrolled": false
   },
   "outputs": [],
   "source": [
    "random_search_rf= RandomizedSearchCV(\n",
    "    estimator= RandomForestClassifier(),\n",
    "    param_distributions= param_grid_rf,\n",
    "    n_iter= 10,\n",
    "    scoring= \"recall\",\n",
    "    n_jobs=-1,\n",
    "    cv= 5,\n",
    "    verbose= 5,\n",
    "    random_state= 42\n",
    ")"
   ]
  },
  {
   "cell_type": "code",
   "execution_count": 24,
   "id": "f2d16e3c",
   "metadata": {},
   "outputs": [],
   "source": [
    "X_train_res_trans= column_transformer.transform(X_train_res)"
   ]
  },
  {
   "cell_type": "code",
   "execution_count": 49,
   "id": "8428bab0",
   "metadata": {},
   "outputs": [],
   "source": [
    "import numpy as np"
   ]
  },
  {
   "cell_type": "code",
   "execution_count": 65,
   "id": "3f11b25b",
   "metadata": {},
   "outputs": [
    {
     "name": "stdout",
     "output_type": "stream",
     "text": [
      "Fitting 5 folds for each of 10 candidates, totalling 50 fits\n"
     ]
    },
    {
     "name": "stderr",
     "output_type": "stream",
     "text": [
      "/Users/fidoaragon/Documents/Proyecto Final/proyecto-final-anyoneai/venv/lib/python3.8/site-packages/sklearn/model_selection/_search.py:910: DataConversionWarning: A column-vector y was passed when a 1d array was expected. Please change the shape of y to (n_samples,), for example using ravel().\n",
      "  self.best_estimator_.fit(X, y, **fit_params)\n"
     ]
    },
    {
     "data": {
      "text/html": [
       "<style>#sk-container-id-12 {color: black;background-color: white;}#sk-container-id-12 pre{padding: 0;}#sk-container-id-12 div.sk-toggleable {background-color: white;}#sk-container-id-12 label.sk-toggleable__label {cursor: pointer;display: block;width: 100%;margin-bottom: 0;padding: 0.3em;box-sizing: border-box;text-align: center;}#sk-container-id-12 label.sk-toggleable__label-arrow:before {content: \"▸\";float: left;margin-right: 0.25em;color: #696969;}#sk-container-id-12 label.sk-toggleable__label-arrow:hover:before {color: black;}#sk-container-id-12 div.sk-estimator:hover label.sk-toggleable__label-arrow:before {color: black;}#sk-container-id-12 div.sk-toggleable__content {max-height: 0;max-width: 0;overflow: hidden;text-align: left;background-color: #f0f8ff;}#sk-container-id-12 div.sk-toggleable__content pre {margin: 0.2em;color: black;border-radius: 0.25em;background-color: #f0f8ff;}#sk-container-id-12 input.sk-toggleable__control:checked~div.sk-toggleable__content {max-height: 200px;max-width: 100%;overflow: auto;}#sk-container-id-12 input.sk-toggleable__control:checked~label.sk-toggleable__label-arrow:before {content: \"▾\";}#sk-container-id-12 div.sk-estimator input.sk-toggleable__control:checked~label.sk-toggleable__label {background-color: #d4ebff;}#sk-container-id-12 div.sk-label input.sk-toggleable__control:checked~label.sk-toggleable__label {background-color: #d4ebff;}#sk-container-id-12 input.sk-hidden--visually {border: 0;clip: rect(1px 1px 1px 1px);clip: rect(1px, 1px, 1px, 1px);height: 1px;margin: -1px;overflow: hidden;padding: 0;position: absolute;width: 1px;}#sk-container-id-12 div.sk-estimator {font-family: monospace;background-color: #f0f8ff;border: 1px dotted black;border-radius: 0.25em;box-sizing: border-box;margin-bottom: 0.5em;}#sk-container-id-12 div.sk-estimator:hover {background-color: #d4ebff;}#sk-container-id-12 div.sk-parallel-item::after {content: \"\";width: 100%;border-bottom: 1px solid gray;flex-grow: 1;}#sk-container-id-12 div.sk-label:hover label.sk-toggleable__label {background-color: #d4ebff;}#sk-container-id-12 div.sk-serial::before {content: \"\";position: absolute;border-left: 1px solid gray;box-sizing: border-box;top: 0;bottom: 0;left: 50%;z-index: 0;}#sk-container-id-12 div.sk-serial {display: flex;flex-direction: column;align-items: center;background-color: white;padding-right: 0.2em;padding-left: 0.2em;position: relative;}#sk-container-id-12 div.sk-item {position: relative;z-index: 1;}#sk-container-id-12 div.sk-parallel {display: flex;align-items: stretch;justify-content: center;background-color: white;position: relative;}#sk-container-id-12 div.sk-item::before, #sk-container-id-12 div.sk-parallel-item::before {content: \"\";position: absolute;border-left: 1px solid gray;box-sizing: border-box;top: 0;bottom: 0;left: 50%;z-index: -1;}#sk-container-id-12 div.sk-parallel-item {display: flex;flex-direction: column;z-index: 1;position: relative;background-color: white;}#sk-container-id-12 div.sk-parallel-item:first-child::after {align-self: flex-end;width: 50%;}#sk-container-id-12 div.sk-parallel-item:last-child::after {align-self: flex-start;width: 50%;}#sk-container-id-12 div.sk-parallel-item:only-child::after {width: 0;}#sk-container-id-12 div.sk-dashed-wrapped {border: 1px dashed gray;margin: 0 0.4em 0.5em 0.4em;box-sizing: border-box;padding-bottom: 0.4em;background-color: white;}#sk-container-id-12 div.sk-label label {font-family: monospace;font-weight: bold;display: inline-block;line-height: 1.2em;}#sk-container-id-12 div.sk-label-container {text-align: center;}#sk-container-id-12 div.sk-container {/* jupyter's `normalize.less` sets `[hidden] { display: none; }` but bootstrap.min.css set `[hidden] { display: none !important; }` so we also need the `!important` here to be able to override the default hidden behavior on the sphinx rendered scikit-learn.org. See: https://github.com/scikit-learn/scikit-learn/issues/21755 */display: inline-block !important;position: relative;}#sk-container-id-12 div.sk-text-repr-fallback {display: none;}</style><div id=\"sk-container-id-12\" class=\"sk-top-container\"><div class=\"sk-text-repr-fallback\"><pre>RandomizedSearchCV(cv=5, estimator=RandomForestClassifier(), n_jobs=-1,\n",
       "                   param_distributions={&#x27;class_weight&#x27;: [&#x27;balanced&#x27;],\n",
       "                                        &#x27;criterion&#x27;: [&#x27;gini&#x27;, &#x27;entropy&#x27;],\n",
       "                                        &#x27;max_depth&#x27;: [1, 3, 6],\n",
       "                                        &#x27;n_estimators&#x27;: [50, 100, 150],\n",
       "                                        &#x27;random_state&#x27;: [42]},\n",
       "                   random_state=42, scoring=&#x27;recall&#x27;, verbose=5)</pre><b>In a Jupyter environment, please rerun this cell to show the HTML representation or trust the notebook. <br />On GitHub, the HTML representation is unable to render, please try loading this page with nbviewer.org.</b></div><div class=\"sk-container\" hidden><div class=\"sk-item sk-dashed-wrapped\"><div class=\"sk-label-container\"><div class=\"sk-label sk-toggleable\"><input class=\"sk-toggleable__control sk-hidden--visually\" id=\"sk-estimator-id-26\" type=\"checkbox\" ><label for=\"sk-estimator-id-26\" class=\"sk-toggleable__label sk-toggleable__label-arrow\">RandomizedSearchCV</label><div class=\"sk-toggleable__content\"><pre>RandomizedSearchCV(cv=5, estimator=RandomForestClassifier(), n_jobs=-1,\n",
       "                   param_distributions={&#x27;class_weight&#x27;: [&#x27;balanced&#x27;],\n",
       "                                        &#x27;criterion&#x27;: [&#x27;gini&#x27;, &#x27;entropy&#x27;],\n",
       "                                        &#x27;max_depth&#x27;: [1, 3, 6],\n",
       "                                        &#x27;n_estimators&#x27;: [50, 100, 150],\n",
       "                                        &#x27;random_state&#x27;: [42]},\n",
       "                   random_state=42, scoring=&#x27;recall&#x27;, verbose=5)</pre></div></div></div><div class=\"sk-parallel\"><div class=\"sk-parallel-item\"><div class=\"sk-item\"><div class=\"sk-label-container\"><div class=\"sk-label sk-toggleable\"><input class=\"sk-toggleable__control sk-hidden--visually\" id=\"sk-estimator-id-27\" type=\"checkbox\" ><label for=\"sk-estimator-id-27\" class=\"sk-toggleable__label sk-toggleable__label-arrow\">estimator: RandomForestClassifier</label><div class=\"sk-toggleable__content\"><pre>RandomForestClassifier()</pre></div></div></div><div class=\"sk-serial\"><div class=\"sk-item\"><div class=\"sk-estimator sk-toggleable\"><input class=\"sk-toggleable__control sk-hidden--visually\" id=\"sk-estimator-id-28\" type=\"checkbox\" ><label for=\"sk-estimator-id-28\" class=\"sk-toggleable__label sk-toggleable__label-arrow\">RandomForestClassifier</label><div class=\"sk-toggleable__content\"><pre>RandomForestClassifier()</pre></div></div></div></div></div></div></div></div></div></div>"
      ],
      "text/plain": [
       "RandomizedSearchCV(cv=5, estimator=RandomForestClassifier(), n_jobs=-1,\n",
       "                   param_distributions={'class_weight': ['balanced'],\n",
       "                                        'criterion': ['gini', 'entropy'],\n",
       "                                        'max_depth': [1, 3, 6],\n",
       "                                        'n_estimators': [50, 100, 150],\n",
       "                                        'random_state': [42]},\n",
       "                   random_state=42, scoring='recall', verbose=5)"
      ]
     },
     "execution_count": 65,
     "metadata": {},
     "output_type": "execute_result"
    }
   ],
   "source": [
    "random_search_rf.fit(X_train_res_trans, y_train)"
   ]
  },
  {
   "cell_type": "code",
   "execution_count": 112,
   "id": "a0d71400",
   "metadata": {},
   "outputs": [],
   "source": [
    "rf_best= random_search_rf.best_estimator_"
   ]
  },
  {
   "cell_type": "code",
   "execution_count": 115,
   "id": "2a24aaa0",
   "metadata": {},
   "outputs": [],
   "source": [
    "y_proba_rf= rf_best.predict_proba(X_test_res_trans)\n",
    "y_pred_rf= rf_best.predict(X_test_res_trans)"
   ]
  },
  {
   "cell_type": "code",
   "execution_count": 116,
   "id": "559860e1",
   "metadata": {},
   "outputs": [
    {
     "name": "stdout",
     "output_type": "stream",
     "text": [
      "              precision    recall  f1-score   support\n",
      "\n",
      "           0       0.80      0.56      0.66      7336\n",
      "           1       0.33      0.60      0.43      2664\n",
      "\n",
      "    accuracy                           0.57     10000\n",
      "   macro avg       0.57      0.58      0.54     10000\n",
      "weighted avg       0.67      0.57      0.60     10000\n",
      "\n"
     ]
    }
   ],
   "source": [
    "print(\n",
    "    classification_report(\n",
    "        y_pred= y_pred_rf,\n",
    "        y_true= y_test\n",
    "    )\n",
    ")"
   ]
  },
  {
   "cell_type": "code",
   "execution_count": 66,
   "id": "e7f6559a",
   "metadata": {},
   "outputs": [],
   "source": [
    "from xgboost import XGBClassifier"
   ]
  },
  {
   "cell_type": "code",
   "execution_count": 80,
   "id": "d68b4b5c",
   "metadata": {},
   "outputs": [],
   "source": [
    "param_grid_xgboost= dict(\n",
    "    n_estimators= [50, 100, 150],\n",
    "    max_depth= [1, 3, 6],\n",
    "    learning_rate= [0.05, 0.1, 0.3, 0.5],\n",
    "    random_state= [42],\n",
    "    scale_pos_weight = [3.5, 10, ]\n",
    ")"
   ]
  },
  {
   "cell_type": "code",
   "execution_count": 117,
   "id": "80c8fc9b",
   "metadata": {},
   "outputs": [],
   "source": [
    "random_search_xgboost= RandomizedSearchCV(\n",
    "    estimator= XGBClassifier(),\n",
    "    param_distributions= param_grid_xgboost,\n",
    "    n_iter= 10,\n",
    "    scoring= \"roc_auc\",\n",
    "    n_jobs=-1,\n",
    "    cv= 5,\n",
    "    verbose= 5,\n",
    "    random_state= 42\n",
    ")"
   ]
  },
  {
   "cell_type": "code",
   "execution_count": 118,
   "id": "bf543ba4",
   "metadata": {},
   "outputs": [
    {
     "name": "stdout",
     "output_type": "stream",
     "text": [
      "Fitting 5 folds for each of 10 candidates, totalling 50 fits\n"
     ]
    },
    {
     "data": {
      "text/html": [
       "<style>#sk-container-id-16 {color: black;background-color: white;}#sk-container-id-16 pre{padding: 0;}#sk-container-id-16 div.sk-toggleable {background-color: white;}#sk-container-id-16 label.sk-toggleable__label {cursor: pointer;display: block;width: 100%;margin-bottom: 0;padding: 0.3em;box-sizing: border-box;text-align: center;}#sk-container-id-16 label.sk-toggleable__label-arrow:before {content: \"▸\";float: left;margin-right: 0.25em;color: #696969;}#sk-container-id-16 label.sk-toggleable__label-arrow:hover:before {color: black;}#sk-container-id-16 div.sk-estimator:hover label.sk-toggleable__label-arrow:before {color: black;}#sk-container-id-16 div.sk-toggleable__content {max-height: 0;max-width: 0;overflow: hidden;text-align: left;background-color: #f0f8ff;}#sk-container-id-16 div.sk-toggleable__content pre {margin: 0.2em;color: black;border-radius: 0.25em;background-color: #f0f8ff;}#sk-container-id-16 input.sk-toggleable__control:checked~div.sk-toggleable__content {max-height: 200px;max-width: 100%;overflow: auto;}#sk-container-id-16 input.sk-toggleable__control:checked~label.sk-toggleable__label-arrow:before {content: \"▾\";}#sk-container-id-16 div.sk-estimator input.sk-toggleable__control:checked~label.sk-toggleable__label {background-color: #d4ebff;}#sk-container-id-16 div.sk-label input.sk-toggleable__control:checked~label.sk-toggleable__label {background-color: #d4ebff;}#sk-container-id-16 input.sk-hidden--visually {border: 0;clip: rect(1px 1px 1px 1px);clip: rect(1px, 1px, 1px, 1px);height: 1px;margin: -1px;overflow: hidden;padding: 0;position: absolute;width: 1px;}#sk-container-id-16 div.sk-estimator {font-family: monospace;background-color: #f0f8ff;border: 1px dotted black;border-radius: 0.25em;box-sizing: border-box;margin-bottom: 0.5em;}#sk-container-id-16 div.sk-estimator:hover {background-color: #d4ebff;}#sk-container-id-16 div.sk-parallel-item::after {content: \"\";width: 100%;border-bottom: 1px solid gray;flex-grow: 1;}#sk-container-id-16 div.sk-label:hover label.sk-toggleable__label {background-color: #d4ebff;}#sk-container-id-16 div.sk-serial::before {content: \"\";position: absolute;border-left: 1px solid gray;box-sizing: border-box;top: 0;bottom: 0;left: 50%;z-index: 0;}#sk-container-id-16 div.sk-serial {display: flex;flex-direction: column;align-items: center;background-color: white;padding-right: 0.2em;padding-left: 0.2em;position: relative;}#sk-container-id-16 div.sk-item {position: relative;z-index: 1;}#sk-container-id-16 div.sk-parallel {display: flex;align-items: stretch;justify-content: center;background-color: white;position: relative;}#sk-container-id-16 div.sk-item::before, #sk-container-id-16 div.sk-parallel-item::before {content: \"\";position: absolute;border-left: 1px solid gray;box-sizing: border-box;top: 0;bottom: 0;left: 50%;z-index: -1;}#sk-container-id-16 div.sk-parallel-item {display: flex;flex-direction: column;z-index: 1;position: relative;background-color: white;}#sk-container-id-16 div.sk-parallel-item:first-child::after {align-self: flex-end;width: 50%;}#sk-container-id-16 div.sk-parallel-item:last-child::after {align-self: flex-start;width: 50%;}#sk-container-id-16 div.sk-parallel-item:only-child::after {width: 0;}#sk-container-id-16 div.sk-dashed-wrapped {border: 1px dashed gray;margin: 0 0.4em 0.5em 0.4em;box-sizing: border-box;padding-bottom: 0.4em;background-color: white;}#sk-container-id-16 div.sk-label label {font-family: monospace;font-weight: bold;display: inline-block;line-height: 1.2em;}#sk-container-id-16 div.sk-label-container {text-align: center;}#sk-container-id-16 div.sk-container {/* jupyter's `normalize.less` sets `[hidden] { display: none; }` but bootstrap.min.css set `[hidden] { display: none !important; }` so we also need the `!important` here to be able to override the default hidden behavior on the sphinx rendered scikit-learn.org. See: https://github.com/scikit-learn/scikit-learn/issues/21755 */display: inline-block !important;position: relative;}#sk-container-id-16 div.sk-text-repr-fallback {display: none;}</style><div id=\"sk-container-id-16\" class=\"sk-top-container\"><div class=\"sk-text-repr-fallback\"><pre>RandomizedSearchCV(cv=5,\n",
       "                   estimator=XGBClassifier(base_score=None, booster=None,\n",
       "                                           callbacks=None,\n",
       "                                           colsample_bylevel=None,\n",
       "                                           colsample_bynode=None,\n",
       "                                           colsample_bytree=None,\n",
       "                                           early_stopping_rounds=None,\n",
       "                                           enable_categorical=False,\n",
       "                                           eval_metric=None, feature_types=None,\n",
       "                                           gamma=None, gpu_id=None,\n",
       "                                           grow_policy=None,\n",
       "                                           importance_type=None,\n",
       "                                           interaction_constraints=None,\n",
       "                                           learning_rate...\n",
       "                                           min_child_weight=None, missing=nan,\n",
       "                                           monotone_constraints=None,\n",
       "                                           n_estimators=100, n_jobs=None,\n",
       "                                           num_parallel_tree=None,\n",
       "                                           predictor=None, random_state=None, ...),\n",
       "                   n_jobs=-1,\n",
       "                   param_distributions={&#x27;learning_rate&#x27;: [0.05, 0.1, 0.3, 0.5],\n",
       "                                        &#x27;max_depth&#x27;: [1, 3, 6],\n",
       "                                        &#x27;n_estimators&#x27;: [50, 100, 150],\n",
       "                                        &#x27;random_state&#x27;: [42],\n",
       "                                        &#x27;scale_pos_weight&#x27;: [3.5]},\n",
       "                   random_state=42, scoring=&#x27;roc_auc&#x27;, verbose=5)</pre><b>In a Jupyter environment, please rerun this cell to show the HTML representation or trust the notebook. <br />On GitHub, the HTML representation is unable to render, please try loading this page with nbviewer.org.</b></div><div class=\"sk-container\" hidden><div class=\"sk-item sk-dashed-wrapped\"><div class=\"sk-label-container\"><div class=\"sk-label sk-toggleable\"><input class=\"sk-toggleable__control sk-hidden--visually\" id=\"sk-estimator-id-36\" type=\"checkbox\" ><label for=\"sk-estimator-id-36\" class=\"sk-toggleable__label sk-toggleable__label-arrow\">RandomizedSearchCV</label><div class=\"sk-toggleable__content\"><pre>RandomizedSearchCV(cv=5,\n",
       "                   estimator=XGBClassifier(base_score=None, booster=None,\n",
       "                                           callbacks=None,\n",
       "                                           colsample_bylevel=None,\n",
       "                                           colsample_bynode=None,\n",
       "                                           colsample_bytree=None,\n",
       "                                           early_stopping_rounds=None,\n",
       "                                           enable_categorical=False,\n",
       "                                           eval_metric=None, feature_types=None,\n",
       "                                           gamma=None, gpu_id=None,\n",
       "                                           grow_policy=None,\n",
       "                                           importance_type=None,\n",
       "                                           interaction_constraints=None,\n",
       "                                           learning_rate...\n",
       "                                           min_child_weight=None, missing=nan,\n",
       "                                           monotone_constraints=None,\n",
       "                                           n_estimators=100, n_jobs=None,\n",
       "                                           num_parallel_tree=None,\n",
       "                                           predictor=None, random_state=None, ...),\n",
       "                   n_jobs=-1,\n",
       "                   param_distributions={&#x27;learning_rate&#x27;: [0.05, 0.1, 0.3, 0.5],\n",
       "                                        &#x27;max_depth&#x27;: [1, 3, 6],\n",
       "                                        &#x27;n_estimators&#x27;: [50, 100, 150],\n",
       "                                        &#x27;random_state&#x27;: [42],\n",
       "                                        &#x27;scale_pos_weight&#x27;: [3.5]},\n",
       "                   random_state=42, scoring=&#x27;roc_auc&#x27;, verbose=5)</pre></div></div></div><div class=\"sk-parallel\"><div class=\"sk-parallel-item\"><div class=\"sk-item\"><div class=\"sk-label-container\"><div class=\"sk-label sk-toggleable\"><input class=\"sk-toggleable__control sk-hidden--visually\" id=\"sk-estimator-id-37\" type=\"checkbox\" ><label for=\"sk-estimator-id-37\" class=\"sk-toggleable__label sk-toggleable__label-arrow\">estimator: XGBClassifier</label><div class=\"sk-toggleable__content\"><pre>XGBClassifier(base_score=None, booster=None, callbacks=None,\n",
       "              colsample_bylevel=None, colsample_bynode=None,\n",
       "              colsample_bytree=None, early_stopping_rounds=None,\n",
       "              enable_categorical=False, eval_metric=None, feature_types=None,\n",
       "              gamma=None, gpu_id=None, grow_policy=None, importance_type=None,\n",
       "              interaction_constraints=None, learning_rate=None, max_bin=None,\n",
       "              max_cat_threshold=None, max_cat_to_onehot=None,\n",
       "              max_delta_step=None, max_depth=None, max_leaves=None,\n",
       "              min_child_weight=None, missing=nan, monotone_constraints=None,\n",
       "              n_estimators=100, n_jobs=None, num_parallel_tree=None,\n",
       "              predictor=None, random_state=None, ...)</pre></div></div></div><div class=\"sk-serial\"><div class=\"sk-item\"><div class=\"sk-estimator sk-toggleable\"><input class=\"sk-toggleable__control sk-hidden--visually\" id=\"sk-estimator-id-38\" type=\"checkbox\" ><label for=\"sk-estimator-id-38\" class=\"sk-toggleable__label sk-toggleable__label-arrow\">XGBClassifier</label><div class=\"sk-toggleable__content\"><pre>XGBClassifier(base_score=None, booster=None, callbacks=None,\n",
       "              colsample_bylevel=None, colsample_bynode=None,\n",
       "              colsample_bytree=None, early_stopping_rounds=None,\n",
       "              enable_categorical=False, eval_metric=None, feature_types=None,\n",
       "              gamma=None, gpu_id=None, grow_policy=None, importance_type=None,\n",
       "              interaction_constraints=None, learning_rate=None, max_bin=None,\n",
       "              max_cat_threshold=None, max_cat_to_onehot=None,\n",
       "              max_delta_step=None, max_depth=None, max_leaves=None,\n",
       "              min_child_weight=None, missing=nan, monotone_constraints=None,\n",
       "              n_estimators=100, n_jobs=None, num_parallel_tree=None,\n",
       "              predictor=None, random_state=None, ...)</pre></div></div></div></div></div></div></div></div></div></div>"
      ],
      "text/plain": [
       "RandomizedSearchCV(cv=5,\n",
       "                   estimator=XGBClassifier(base_score=None, booster=None,\n",
       "                                           callbacks=None,\n",
       "                                           colsample_bylevel=None,\n",
       "                                           colsample_bynode=None,\n",
       "                                           colsample_bytree=None,\n",
       "                                           early_stopping_rounds=None,\n",
       "                                           enable_categorical=False,\n",
       "                                           eval_metric=None, feature_types=None,\n",
       "                                           gamma=None, gpu_id=None,\n",
       "                                           grow_policy=None,\n",
       "                                           importance_type=None,\n",
       "                                           interaction_constraints=None,\n",
       "                                           learning_rate...\n",
       "                                           min_child_weight=None, missing=nan,\n",
       "                                           monotone_constraints=None,\n",
       "                                           n_estimators=100, n_jobs=None,\n",
       "                                           num_parallel_tree=None,\n",
       "                                           predictor=None, random_state=None, ...),\n",
       "                   n_jobs=-1,\n",
       "                   param_distributions={'learning_rate': [0.05, 0.1, 0.3, 0.5],\n",
       "                                        'max_depth': [1, 3, 6],\n",
       "                                        'n_estimators': [50, 100, 150],\n",
       "                                        'random_state': [42],\n",
       "                                        'scale_pos_weight': [3.5]},\n",
       "                   random_state=42, scoring='roc_auc', verbose=5)"
      ]
     },
     "execution_count": 118,
     "metadata": {},
     "output_type": "execute_result"
    }
   ],
   "source": [
    "random_search_xgboost.fit(X_train_res_trans, y_train)"
   ]
  },
  {
   "cell_type": "code",
   "execution_count": 129,
   "id": "58f02a30",
   "metadata": {},
   "outputs": [
    {
     "data": {
      "text/plain": [
       "0.6304164918523417"
      ]
     },
     "execution_count": 129,
     "metadata": {},
     "output_type": "execute_result"
    }
   ],
   "source": [
    "random_search_xgboost.best_score_"
   ]
  },
  {
   "cell_type": "code",
   "execution_count": 130,
   "id": "3305d5f1",
   "metadata": {},
   "outputs": [
    {
     "data": {
      "text/plain": [
       "{'scale_pos_weight': 3.5,\n",
       " 'random_state': 42,\n",
       " 'n_estimators': 100,\n",
       " 'max_depth': 3,\n",
       " 'learning_rate': 0.1}"
      ]
     },
     "execution_count": 130,
     "metadata": {},
     "output_type": "execute_result"
    }
   ],
   "source": [
    "random_search_xgboost.best_params_"
   ]
  },
  {
   "cell_type": "code",
   "execution_count": 106,
   "id": "471377c9",
   "metadata": {},
   "outputs": [],
   "source": [
    "from sklearn.metrics import roc_auc_score, classification_report"
   ]
  },
  {
   "cell_type": "code",
   "execution_count": 121,
   "id": "0ead5a6d",
   "metadata": {},
   "outputs": [],
   "source": [
    "xgboost_best= random_search_xgboost.best_estimator_"
   ]
  },
  {
   "cell_type": "code",
   "execution_count": 122,
   "id": "d804489d",
   "metadata": {},
   "outputs": [
    {
     "name": "stderr",
     "output_type": "stream",
     "text": [
      "/Users/fidoaragon/Documents/Proyecto Final/proyecto-final-anyoneai/venv/lib/python3.8/site-packages/sklearn/preprocessing/_encoders.py:188: UserWarning: Found unknown categories in columns [0, 13] during transform. These unknown categories will be encoded as all zeros\n",
      "  warnings.warn(\n"
     ]
    }
   ],
   "source": [
    "X_test_res= categorical_delimiter.transform(X_test)\n",
    "X_test_res_trans= column_transformer.transform(X_test_res)"
   ]
  },
  {
   "cell_type": "code",
   "execution_count": 123,
   "id": "8920a167",
   "metadata": {},
   "outputs": [],
   "source": [
    "y_predict= xgboost_best.predict(X_test_res_trans)\n",
    "y_predict_proba= xgboost_best.predict_proba(X_test_res_trans)"
   ]
  },
  {
   "cell_type": "code",
   "execution_count": 124,
   "id": "a29423ac",
   "metadata": {
    "scrolled": true
   },
   "outputs": [
    {
     "name": "stdout",
     "output_type": "stream",
     "text": [
      "              precision    recall  f1-score   support\n",
      "\n",
      "           0       0.84      0.37      0.51      7336\n",
      "           1       0.32      0.80      0.45      2664\n",
      "\n",
      "    accuracy                           0.48     10000\n",
      "   macro avg       0.58      0.59      0.48     10000\n",
      "weighted avg       0.70      0.48      0.50     10000\n",
      "\n"
     ]
    }
   ],
   "source": [
    "print(classification_report(y_pred= y_predict, y_true= y_test))"
   ]
  },
  {
   "cell_type": "markdown",
   "id": "b05952dc",
   "metadata": {},
   "source": [
    "From now, we will keep this XGBoost model to work on the API. Later we will come back and improve it"
   ]
  },
  {
   "cell_type": "code",
   "execution_count": 135,
   "id": "31f9a4d6",
   "metadata": {},
   "outputs": [],
   "source": [
    "import joblib"
   ]
  },
  {
   "cell_type": "code",
   "execution_count": 140,
   "id": "a55d576b",
   "metadata": {},
   "outputs": [
    {
     "data": {
      "text/plain": [
       "['../model/xgboost_predictor.pkl']"
      ]
     },
     "execution_count": 140,
     "metadata": {},
     "output_type": "execute_result"
    }
   ],
   "source": [
    "joblib.dump(xgboost_best, '../model/xgboost_predictor.pkl')"
   ]
  }
 ],
 "metadata": {
  "kernelspec": {
   "display_name": "Python 3 (ipykernel)",
   "language": "python",
   "name": "python3"
  },
  "language_info": {
   "codemirror_mode": {
    "name": "ipython",
    "version": 3
   },
   "file_extension": ".py",
   "mimetype": "text/x-python",
   "name": "python",
   "nbconvert_exporter": "python",
   "pygments_lexer": "ipython3",
   "version": "3.8.9"
  }
 },
 "nbformat": 4,
 "nbformat_minor": 5
}
